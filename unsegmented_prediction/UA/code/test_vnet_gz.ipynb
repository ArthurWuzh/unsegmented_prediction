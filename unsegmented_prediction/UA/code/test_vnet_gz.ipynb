{
 "cells": [
  {
   "cell_type": "code",
   "execution_count": 1,
   "metadata": {
    "uuid": "17c6a268-110a-487a-9330-8f2040f9f351"
   },
   "outputs": [],
   "source": [
    "import os\n",
    "import argparse\n",
    "import torch\n",
    "from networks.vnet import VNet\n",
    "import SimpleITK as sitk\n",
    "from tensorflow.keras.utils import to_categorical"
   ]
  },
  {
   "cell_type": "code",
   "execution_count": 2,
   "metadata": {
    "uuid": "6a606959-a53e-4a9d-8c59-0230ad995e6f"
   },
   "outputs": [],
   "source": [
    "import h5py\n",
    "import math\n",
    "import nibabel as nib\n",
    "import numpy as np\n",
    "from medpy import metric\n",
    "import torch\n",
    "import torch.nn.functional as F\n",
    "from tqdm import tqdm\n",
    "import pandas as pd\n",
    "import matplotlib.pyplot as plt\n",
    "import tensorflow as tf\n",
    "import os\n",
    "\n",
    "\n",
    "\n",
    "def predict_and_center_cut_all_case(net, image_list, num_classes, \n",
    "                        patch_size=(112, 112, 80), stride_xy=18, stride_z=4, \n",
    "                        save_result=True, test_save_path=None, preproc_fn=None,\n",
    "                        device='cpu'):\n",
    "    for image_path in tqdm(image_list):\n",
    "        id = image_path.split('/')[-2]\n",
    "        print(id,':')\n",
    "        out_dir = test_save_path+id\n",
    "        if not os.path.isdir(out_dir):\n",
    "            os.mkdir(out_dir)\n",
    "            \n",
    "        h5f = h5py.File(image_path, 'r')\n",
    "        image = h5f['image'][:]\n",
    "        if preproc_fn is not None:\n",
    "            image = preproc_fn(image)\n",
    "        label_pred, score_map = test_single_case(\n",
    "            net, image, \n",
    "            stride_xy, stride_z, patch_size, \n",
    "            num_classes=num_classes, \n",
    "            device=device)\n",
    "        \n",
    "        import pdb\n",
    "        pdb.set_trace()\n",
    "        filter_mask = filter_connected_domain(label_pred,num_keep_region=None,ratio_keep=0.001)\n",
    "        filter_mask = (filter_mask>0).astype(float)\n",
    "        import pdb\n",
    "        pdb.set_trace()\n",
    "        label_pred = label_pred*filter_mask\n",
    "\n",
    "        # 发现圆形视场的边界处经常出现错误分割(轮廓线),因此需要手动过滤\n",
    "        r = label_pred.shape[0]/2\n",
    "        xc,yc = label_pred.shape[0]/2,label_pred.shape[0]/2\n",
    "#         filter_mask = np.ones(label_pred.shape)\n",
    "#         for x in range(label_pred.shape[0]):\n",
    "#             for y in range(label_pred.shape[1]):\n",
    "#                 filter_mask[x,y,:] = 0 if r*0.5<np.sqrt((x-xc)**2+(y-yc)**2)<r*2 else 1\n",
    "#         label_pred = filter_mask*label_pred\n",
    "        \n",
    "        import pdb\n",
    "        pdb.set_trace()\n",
    "        # onehot\n",
    "        label_onehot_pred = tf.keras.utils.to_categorical(label_pred)\n",
    "        if not label_onehot_pred.shape[-1]==3:\n",
    "            print(id+' onehot shape error: miss one or more pixel class')\n",
    "            continue\n",
    "            \n",
    "        # center cut\n",
    "        tempL = np.nonzero(label_pred)\n",
    "        minx, maxx = np.min(tempL[0]).astype(int), np.max(tempL[0]).astype(int)\n",
    "        miny, maxy = np.min(tempL[1]).astype(int), np.max(tempL[1]).astype(int)\n",
    "        minz, maxz = np.min(tempL[2]).astype(int), np.max(tempL[2]).astype(int)\n",
    "        image = image[minx:maxx+1, miny:maxy+1, minz:maxz+1]\n",
    "        label_pred = label_pred[minx:maxx+1, miny:maxy+1, minz:maxz+1]\n",
    "        label_onehot_pred = label_onehot_pred[minx:maxx+1, miny:maxy+1, minz:maxz+1, :]\n",
    "            \n",
    "        # case 拼接\n",
    "        numd = []\n",
    "        for d in range(label_pred.shape[2]):\n",
    "            numd.append( len(np.where(label_pred[:,:,d].flatten()==2)[0]) )\n",
    "        numd = np.array(numd)\n",
    "        slice = int(np.where(numd==numd.max())[0][0])\n",
    "        fig = plt.figure( frameon=False)#dpi=100, \n",
    "        image_unstd = (image-image.min())/(image.max()-image.min())*255\n",
    "        npimg = np.append( image_unstd[:,:,slice],label_pred[:,:,slice]/2*255,axis=1 )\n",
    "        plt.imshow(npimg.astype(int),cmap='plasma')#一定要转为int\n",
    "        plt.savefig( test_save_path + id + str(slice) + \"_pred.png\" )\n",
    "        plt.show()\n",
    "        \n",
    "        import pdb\n",
    "        pdb.set_trace()\n",
    "        \n",
    "        if save_result:\n",
    "            # save files\n",
    "            filename = os.path.join(os.path.dirname(image_path),'center_cut.h5')\n",
    "            f = h5py.File(filename, 'w')\n",
    "            f.create_dataset('image', data=image.astype(np.float32), compression=\"gzip\")\n",
    "#             f.create_dataset('label', data=label_onehot_pred.astype(np.int), compression=\"gzip\")\n",
    "            f.close()\n",
    "#             nib.save(nib.Nifti1Image(image[:].astype(np.float32), np.eye(4)), \n",
    "#                      out_dir+ '/' + id +'_minx%d_maxx%d_miny%d_maxy%d_minz%d_maxz%d'%(minx,maxx,miny,maxy,minz,maxz)+ \"_img.nii.gz\")\n",
    "#             nib.save(nib.Nifti1Image(label_pred.astype(np.float32), np.eye(4)), \n",
    "#                      out_dir+ '/' + id +'_minx%d_maxx%d_miny%d_maxy%d_minz%d_maxz%d'%(minx,maxx,miny,maxy,minz,maxz)+ \"_pred.nii.gz\")\n",
    "#             nib.save(nib.Nifti1Image(label_onehot_pred[:].astype(np.float32), np.eye(4)), \n",
    "#                      out_dir+ '/' + id +'_minx%d_maxx%d_miny%d_maxy%d_minz%d_maxz%d'%(minx,maxx,miny,maxy,minz,maxz)+ \"_label_onehot_pred.nii.gz\")\n",
    "    print('All finished')\n",
    "\n",
    "\n",
    "# -\n",
    "\n",
    "from skimage import measure\n",
    "def filter_connected_domain(image,num_keep_region=100,ratio_keep=None):\n",
    "    \"\"\"\n",
    "    原文链接：https://blog.csdn.net/a563562675/article/details/107066836\n",
    "    return label of filter \n",
    "    \"\"\"\n",
    "    # 标记输入的3D图像\n",
    "    label, num = measure.label(image, connectivity=1, background=0, return_num=True)\n",
    "    if num < 1:\n",
    "        return image\n",
    "\n",
    "    # 获取对应的region对象\n",
    "    region = measure.regionprops(label)\n",
    "    # 获取每一块区域面积并排序\n",
    "    num_list = [i for i in range(0, num)]\n",
    "    area_list = [region[i].area for i in num_list]\n",
    "    \n",
    "    # 去除面积较小的连通域\n",
    "    if ratio_keep:\n",
    "        max_region_area = np.array(area_list).max()\n",
    "        import pdb\n",
    "        pdb.set_trace()\n",
    "        drop_list = np.where(area_list<max_region_area*ratio_keep)[0]\n",
    "        for i in drop_list:\n",
    "            label[region[i-1].slice][region[i-1].image] = 0 \n",
    "    \n",
    "    else:\n",
    "        if len(num_list) > num_keep_region:\n",
    "            num_list_sorted = sorted(num_list, key=lambda x: area_list[x])[::-1]# 面积由大到小排序\n",
    "            for i in num_list_sorted[num_keep_region:]:\n",
    "                # label[label==i] = 0\n",
    "                label[region[i-1].slice][region[i-1].image] = 0\n",
    "#             num_list_sorted = num_list_sorted[:num_keep_region]\n",
    "    import pdb\n",
    "    pdb.set_trace()\n",
    "    return label\n",
    "\n",
    "\n",
    "def test_all_case(\n",
    "    net, image_list, \n",
    "    num_classes, patch_size=(112, 112, 80), stride_xy=18, stride_z=4, \n",
    "    save_result=True, test_save_path=None, preproc_fn=None,\n",
    "    device=\"cuda\",old_replaced=\"mri_norm2.h5\"\n",
    "):\n",
    "    \n",
    "    metrics = pd.DataFrame(columns=['bg','proximal_femur','distal_femur','fragment']) \n",
    "    total_metric = 0.0\n",
    "    y_true = []\n",
    "    y_pred = []\n",
    "    for image_path in tqdm(image_list):\n",
    "        id = image_path.split('/')[-2]\n",
    "        seg_sitk = sitk.ReadImage(image_path.replace(old_replaced, 'Segmentation.seg.nrrd'))\n",
    "        label_sitk = sitk.ReadImage(image_path.replace(old_replaced, 'Segmentation-label.nrrd'))\n",
    "        o_image = sitk.GetArrayFromImage(image_sitk).transpose((2,1,0))\n",
    "        label = sitk.GetArrayFromImage(label_sitk).transpose((2,1,0)).astype('uint8')\n",
    "        h5f = h5py.File(image_path, 'r')\n",
    "        print('image_path:',image_path)\n",
    "        image = h5f['image'][:]\n",
    "        label_onehot = h5f['label'][:]\n",
    "        label = np.argmax(h5f['label'][:],axis=-1)#非onehot\n",
    "        print('label:',label.shape)\n",
    "        print('image:',image.shape)\n",
    "        \n",
    "        '''tempL = np.nonzero(label)\n",
    "        minx, maxx = np.min(tempL[0]), np.max(tempL[0])\n",
    "        miny, maxy = np.min(tempL[1]), np.max(tempL[1])\n",
    "        minz, maxz = np.min(tempL[2]), np.max(tempL[2])\n",
    "        image_cut = image[minx:maxx+1, miny:maxy+1, minz:maxz+1]\n",
    "        label_cut = label[minx:maxx+1, miny:maxy+1, minz:maxz+1]\n",
    "        label_onehot_cut = label_onehot[minx:maxx+1, miny:maxy+1, minz:maxz+1, :]\n",
    "        print(\"cut image.shape:\",image.shape, \"cut label.shape:\",label.shape)'''\n",
    "        \n",
    "        if preproc_fn is not None:\n",
    "            image = preproc_fn(image)\n",
    "        prediction, score_map = test_single_case(net, image, stride_xy, stride_z, patch_size, num_classes=num_classes, device=\"cuda\")\n",
    "\n",
    "        print('prediction:',prediction.shape)\n",
    "        \n",
    "        if np.sum(prediction)==0:\n",
    "            single_metric = (0,0,0,0)\n",
    "        else:\n",
    "            single_metric,y_true,y_pred = calculate_metric_percase(prediction, label[:], num_classes, y_true, y_pred)\n",
    "        total_metric += np.asarray(single_metric)\n",
    "        \n",
    "        print(id,':')\n",
    "        print(\"single_metric:\",single_metric)\n",
    "        \n",
    "        \n",
    "        '''tmp = np.zeros(image.shape)\n",
    "        tmp = prediction\n",
    "        label_pred = tmp.astype('uint8')\n",
    "        \n",
    "        label_onehot_pred = to_categorical(label_pred)\n",
    "        offset = seg_sitk.GetMetaData('Segmentation_ReferenceImageExtentOffset')\n",
    "        offset = [int(fs) for fs in offset.split()]\n",
    "        print(\"sitk.GetArrayFromImage(seg_sitk): \",sitk.GetArrayFromImage(seg_sitk).shape)\n",
    "        shape = sitk.GetArrayFromImage(seg_sitk).transpose(2,1,0).shape\n",
    "        label_onehot_pred = label_onehot_pred[\n",
    "            offset[0]:offset[0]+shape[0],\n",
    "            offset[1]:offset[1]+shape[1],\n",
    "            offset[2]:offset[2]+shape[2],\n",
    "            1:\n",
    "        ].astype('uint8')'''\n",
    "        #plot_slice_sample(image,label_pred,np.nonzero(label)[2].max(),fn=False)\n",
    "        \n",
    "        #try:\n",
    "            # generate sitk object\n",
    "        '''label_pred_sitk = sitk.GetImageFromArray(label_pred.transpose(2,1,0))\n",
    "        label_pred_sitk.CopyInformation(label_sitk)\n",
    "        label_onehot_pred_sitk = sitk.GetImageFromArray(label_onehot_pred.transpose(2,1,0,3))\n",
    "        label_onehot_pred_sitk.CopyInformation(seg_sitk)\n",
    "\n",
    "            # save to nrrd file\n",
    "        sitk.WriteImage(label_onehot_pred_sitk, item.replace(old_replaced, 'Segmentation-pred.seg.nrrd'))\n",
    "        sitk.WriteImage(label_pred_sitk, item.replace(old_replaced, 'Segmentation-pred-label.nrrd'))'''\n",
    "        \n",
    "        metrics.loc[id] = single_metric\n",
    "        if save_result:\n",
    "            nib.save(nib.Nifti1Image(prediction.astype(np.float32), np.eye(4)), test_save_path + id + \"_pred.nii.gz\")\n",
    "            nib.save(nib.Nifti1Image(image[:].astype(np.float32), np.eye(4)), test_save_path + id + \"_img.nii.gz\")\n",
    "            nib.save(nib.Nifti1Image(label[:].astype(np.float32), np.eye(4)), test_save_path + id + \"_gt.nii.gz\")\n",
    "    avg_metric = total_metric / len(image_list)\n",
    "    print('average metric is:\\n{}'.format(avg_metric))\n",
    "\n",
    "    return avg_metric, metrics, y_true, y_pred\n",
    "\n",
    "\n",
    "def test_single_case(net, image, stride_xy, stride_z, patch_size, num_classes=1, device=\"cuda\"):\n",
    "    w, h, d = image.shape\n",
    "\n",
    "    # if the size of image is less than patch_size, then padding it\n",
    "    add_pad = False\n",
    "    if w < patch_size[0]:\n",
    "        w_pad = patch_size[0]-w\n",
    "        add_pad = True\n",
    "    else:\n",
    "        w_pad = 0\n",
    "    if h < patch_size[1]:\n",
    "        h_pad = patch_size[1]-h\n",
    "        add_pad = True\n",
    "    else:\n",
    "        h_pad = 0\n",
    "    if d < patch_size[2]:\n",
    "        d_pad = patch_size[2]-d\n",
    "        add_pad = True\n",
    "    else:\n",
    "        d_pad = 0\n",
    "    wl_pad, wr_pad = w_pad//2,w_pad-w_pad//2\n",
    "    hl_pad, hr_pad = h_pad//2,h_pad-h_pad//2\n",
    "    dl_pad, dr_pad = d_pad//2,d_pad-d_pad//2\n",
    "    if add_pad:\n",
    "        image = np.pad(image, [(wl_pad,wr_pad),(hl_pad,hr_pad), (dl_pad, dr_pad)], mode='constant', constant_values=0)\n",
    "    ww,hh,dd = image.shape\n",
    "\n",
    "    sx = math.ceil((ww - patch_size[0]) / stride_xy) + 1\n",
    "    sy = math.ceil((hh - patch_size[1]) / stride_xy) + 1\n",
    "    sz = math.ceil((dd - patch_size[2]) / stride_z) + 1\n",
    "    print(\"{}, {}, {}\".format(sx, sy, sz))\n",
    "    score_map = np.zeros((num_classes, ) + image.shape).astype(np.float32)\n",
    "    cnt = np.zeros(image.shape).astype(np.float32)\n",
    "\n",
    "    for x in range(0, sx):\n",
    "        xs = min(stride_xy*x, ww-patch_size[0])\n",
    "        for y in range(0, sy):\n",
    "            ys = min(stride_xy * y,hh-patch_size[1])\n",
    "            for z in range(0, sz):\n",
    "                zs = min(stride_z * z, dd-patch_size[2])\n",
    "                test_patch = image[xs:xs+patch_size[0], ys:ys+patch_size[1], zs:zs+patch_size[2]]\n",
    "                test_patch = np.expand_dims(np.expand_dims(test_patch,axis=0),axis=0).astype(np.float32)\n",
    "                #test_patch = torch.from_numpy(test_patch).cuda()# gpu\n",
    "                test_patch = torch.from_numpy(test_patch).to(device)# cpu\n",
    "                y1 = net(test_patch)\n",
    "                y = F.softmax(y1, dim=1)\n",
    "                y = y.cpu().data.numpy()\n",
    "                y = y[0,:,:,:,:]\n",
    "                score_map[:, xs:xs+patch_size[0], ys:ys+patch_size[1], zs:zs+patch_size[2]] += y\n",
    "                cnt[xs:xs+patch_size[0], ys:ys+patch_size[1], zs:zs+patch_size[2]] += 1\n",
    "    score_map = score_map/np.expand_dims(cnt,axis=0)\n",
    "    label_map = np.argmax(score_map, axis = 0)\n",
    "    if add_pad:\n",
    "        label_map = label_map[wl_pad:wl_pad+w,hl_pad:hl_pad+h,dl_pad:dl_pad+d]\n",
    "        score_map = score_map[:,wl_pad:wl_pad+w,hl_pad:hl_pad+h,dl_pad:dl_pad+d]\n",
    "    return label_map, score_map\n",
    "\n",
    "def cal_dice(prediction, label, num=2):\n",
    "    total_dice = np.zeros(num-1)\n",
    "    for i in range(1, num):\n",
    "        prediction_tmp = (prediction==i)\n",
    "        label_tmp = (label==i)\n",
    "        prediction_tmp = prediction_tmp.astype(np.float)\n",
    "        label_tmp = label_tmp.astype(np.float)\n",
    "\n",
    "        dice = 2 * np.sum(prediction_tmp * label_tmp) / (np.sum(prediction_tmp) + np.sum(label_tmp))\n",
    "        total_dice[i - 1] += dice\n",
    "\n",
    "    return total_dice\n",
    "\n",
    "\n",
    "import seaborn as sns\n",
    "from sklearn.metrics import confusion_matrix\n",
    "from sklearn.metrics import precision_score,recall_score, f1_score\n",
    "def calculate_metric_percase(pred, gt, num_classes, y_true, y_pred):\n",
    "    \"二分类、多分类的指标统计\"\n",
    "    if num_classes is None:\n",
    "        num_classes = len(np.unique(gt))#注意：gt不是onehot编码\n",
    "    print('np.unique(gt):',np.unique(gt))\n",
    "    if num_classes==2:\n",
    "        dice = metric.binary.dc(pred, gt)\n",
    "        jc = metric.binary.jc(pred, gt)\n",
    "        hd = metric.binary.hd95(pred, gt)\n",
    "        asd = metric.binary.asd(pred, gt)\n",
    "    elif num_classes>2:\n",
    "        from keras.utils import to_categorical\n",
    "        gt_onehot = to_categorical(gt, num_classes)\n",
    "        pred_onehot = to_categorical(pred, num_classes)\n",
    "        dice = []\n",
    "        jc = []\n",
    "        hd = []\n",
    "        asd = []\n",
    "        '''plt.figure(dpi=120)\n",
    "        sns.set()\n",
    "        cm = confusion_matrix(gt.flatten(), pred.flatten())\n",
    "        xtick=['background','proximal femur','distal femur','fragment']\n",
    "        ytick=['background','proximal femur','distal femur','fragment']\n",
    "        sns.heatmap(cm,fmt='g',cmap='Blues',annot=True,cbar=False,xticklabels=xtick, yticklabels=ytick)\n",
    "        plt.ylabel('Target class')\n",
    "        plt.xlabel('Output class')\n",
    "        plt.show()'''\n",
    "        y_true.extend(gt.flatten())\n",
    "        y_pred.extend(pred.flatten())\n",
    "        #y_true = y_true + gt.flatten()\n",
    "        #y_pred = y_pre + pred.flatten()\n",
    "        #p = precision_score(y_true, y_pred, average='binary')\n",
    "        #f1score = f1_score(y_true, y_pred, average='binary')\n",
    "        \n",
    "        print(\"shape: \",len(y_true), len(y_pred))\n",
    "        print(\"add:\",gt.flatten().shape)\n",
    "        for k in range(num_classes):\n",
    "            pred_k = pred_onehot[...,k]\n",
    "            gt_k = gt_onehot[...,k]\n",
    "            dice +=  [metric.dc(result=pred_k, reference=gt_k)]\n",
    "            #jc += [metric.jc(result=pred_k, reference=gt_k)]\n",
    "            #hd += [metric.hd95(result=pred_k, reference=gt_k)]\n",
    "            #asd += [metric.asd(result=pred_k, reference=gt_k)]\n",
    "    else:\n",
    "        raise ValueError(\"pred和gt不能是onehot编码\")\n",
    "    return dice, y_true, y_pred"
   ]
  },
  {
   "cell_type": "code",
   "execution_count": 3,
   "metadata": {
    "uuid": "1b76d834-02ff-4be5-963e-ecf85f5e10f6"
   },
   "outputs": [],
   "source": [
    "parser = argparse.ArgumentParser()\n",
    "parser.add_argument('--root_path', type=str, default='../../data/gz_dataset/segmented', help='Folder of Test Set')\n",
    "parser.add_argument('--model', type=str,  default='vnet_supervisedonly_dp', help='model_name')\n",
    "parser.add_argument('--gpu', type=str,  default='0', help='GPU to use')\n",
    "FLAGS = parser.parse_args(args=[])\n",
    "\n"
   ]
  },
  {
   "cell_type": "code",
   "execution_count": 4,
   "metadata": {
    "uuid": "dc64fa90-0489-411a-9946-3a56d22fcfdb"
   },
   "outputs": [],
   "source": [
    "os.environ['CUDA_VISIBLE_DEVICES'] = FLAGS.gpu\n",
    "snapshot_path = \"../model/\"+FLAGS.model+\"/\"\n",
    "test_save_path = \"../model/prediction/\"+FLAGS.model+\"_post/\"\n",
    "if not os.path.exists(test_save_path):\n",
    "    os.makedirs(test_save_path)\n",
    "\n",
    "num_classes = 4"
   ]
  },
  {
   "cell_type": "code",
   "execution_count": 5,
   "metadata": {
    "uuid": "6239d52a-315e-467c-8621-e62f839bf386"
   },
   "outputs": [
    {
     "name": "stdout",
     "output_type": "stream",
     "text": [
      "image_list:  ['../../data/gz_dataset/segmented/112241/mri_norm2.h5', '../../data/gz_dataset/segmented/135535/mri_norm2.h5', '../../data/gz_dataset/segmented/145101/mri_norm2.h5', '../../data/gz_dataset/segmented/151000/mri_norm2.h5', '../../data/gz_dataset/segmented/190409/mri_norm2.h5', '../../data/gz_dataset/segmented/200617/mri_norm2.h5', '../../data/gz_dataset/segmented/223849/mri_norm2.h5']\n"
     ]
    }
   ],
   "source": [
    "with open(FLAGS.root_path + '/../test.list', 'r') as f:\n",
    "    image_list = f.readlines()\n",
    "image_list = [os.path.join(FLAGS.root_path,item.replace('\\n', ''),\"mri_norm2.h5\") for item in image_list]\n",
    "print(\"image_list: \",image_list)"
   ]
  },
  {
   "cell_type": "code",
   "execution_count": 6,
   "metadata": {
    "uuid": "4b7c2f3a-43f2-4d13-9bd5-f95bdb0d2e7f"
   },
   "outputs": [],
   "source": [
    "def test_calculate_metric(epoch_num, patch_size=(128, 128, 64), stride_xy=64, stride_z=32):\n",
    "    print(\"test_calculate_metric\")\n",
    "    net = VNet(n_channels=1, n_classes=num_classes, normalization='batchnorm', has_dropout=False).cuda()\n",
    "    save_mode_path = os.path.join(snapshot_path, 'iter_' + str(epoch_num) + '.pth')\n",
    "    net.load_state_dict(torch.load(save_mode_path))\n",
    "    print(\"init weight from {}\".format(save_mode_path))\n",
    "    net.eval()\n",
    "\n",
    "    avg_metric,metrics,yt, pt = test_all_case(net, image_list, num_classes=num_classes,\n",
    "                               patch_size=patch_size, stride_xy=stride_xy, stride_z=stride_z,\n",
    "                               save_result=True, test_save_path=test_save_path)\n",
    "\n",
    "    return avg_metric, metrics,yt,pt"
   ]
  },
  {
   "cell_type": "code",
   "execution_count": 7,
   "metadata": {
    "uuid": "718bf6b9-cc68-4ed7-9ae0-c4a210bcba7d"
   },
   "outputs": [
    {
     "name": "stdout",
     "output_type": "stream",
     "text": [
      "begin\n",
      "test_calculate_metric\n"
     ]
    },
    {
     "name": "stderr",
     "output_type": "stream",
     "text": [
      "  0%|          | 0/7 [00:00<?, ?it/s]"
     ]
    },
    {
     "name": "stdout",
     "output_type": "stream",
     "text": [
      "init weight from ../model/vnet_supervisedonly_dp/iter_6001.pth\n",
      "image_path: ../../data/gz_dataset/segmented/112241/mri_norm2.h5\n",
      "label: (158, 156, 106)\n",
      "image: (158, 156, 106)\n",
      "cut image.shape: (158, 156, 106) cut label.shape: (158, 156, 106)\n",
      "2, 2, 3\n",
      "prediction: (158, 156, 106)\n",
      "np.unique(gt): [0 1 2 3]\n"
     ]
    },
    {
     "name": "stderr",
     "output_type": "stream",
     "text": [
      "Using TensorFlow backend.\n"
     ]
    },
    {
     "name": "stdout",
     "output_type": "stream",
     "text": [
      "shape:  2612688 2612688\n",
      "add: (2612688,)\n",
      "112241 :\n",
      "single_metric: [0.9943300265994551, 0.7978570650505531, 0.8900213101084036, 0.626993512096903]\n",
      "sitk.GetArrayFromImage(seg_sitk):  (429, 512, 512)\n"
     ]
    },
    {
     "name": "stderr",
     "output_type": "stream",
     "text": [
      "  0%|          | 0/7 [00:04<?, ?it/s]\n"
     ]
    },
    {
     "ename": "RuntimeError",
     "evalue": "Exception thrown in SimpleITK Image_CopyInformation: /tmp/SimpleITK/Code/Common/src/sitkImage.cxx:235:\nsitk::ERROR: Source image size of [ 512, 512, 429 ] does not match this image's size of [ 158, 156, 106 ]!",
     "output_type": "error",
     "traceback": [
      "\u001b[0;31m---------------------------------------------------------------------------\u001b[0m",
      "\u001b[0;31mRuntimeError\u001b[0m                              Traceback (most recent call last)",
      "\u001b[0;32m<ipython-input-7-b6180b149175>\u001b[0m in \u001b[0;36m<module>\u001b[0;34m\u001b[0m\n\u001b[1;32m      1\u001b[0m \u001b[0mprint\u001b[0m\u001b[0;34m(\u001b[0m\u001b[0;34m\"begin\"\u001b[0m\u001b[0;34m)\u001b[0m\u001b[0;34m\u001b[0m\u001b[0m\n\u001b[0;32m----> 2\u001b[0;31m \u001b[0mavg_metric\u001b[0m\u001b[0;34m,\u001b[0m \u001b[0mmetrics\u001b[0m\u001b[0;34m,\u001b[0m \u001b[0myt\u001b[0m\u001b[0;34m,\u001b[0m \u001b[0myp\u001b[0m \u001b[0;34m=\u001b[0m \u001b[0mtest_calculate_metric\u001b[0m\u001b[0;34m(\u001b[0m\u001b[0;36m6001\u001b[0m\u001b[0;34m,\u001b[0m \u001b[0mpatch_size\u001b[0m\u001b[0;34m=\u001b[0m\u001b[0;34m(\u001b[0m\u001b[0;36m128\u001b[0m\u001b[0;34m,\u001b[0m \u001b[0;36m128\u001b[0m\u001b[0;34m,\u001b[0m \u001b[0;36m64\u001b[0m\u001b[0;34m)\u001b[0m\u001b[0;34m,\u001b[0m \u001b[0mstride_xy\u001b[0m\u001b[0;34m=\u001b[0m\u001b[0;36m64\u001b[0m\u001b[0;34m,\u001b[0m \u001b[0mstride_z\u001b[0m\u001b[0;34m=\u001b[0m\u001b[0;36m32\u001b[0m\u001b[0;34m)\u001b[0m\u001b[0;34m\u001b[0m\u001b[0m\n\u001b[0m\u001b[1;32m      3\u001b[0m \u001b[0mprint\u001b[0m\u001b[0;34m(\u001b[0m\u001b[0mavg_metric\u001b[0m\u001b[0;34m)\u001b[0m\u001b[0;34m\u001b[0m\u001b[0m\n\u001b[1;32m      4\u001b[0m \u001b[0mmetrics\u001b[0m\u001b[0;34m.\u001b[0m\u001b[0mto_csv\u001b[0m\u001b[0;34m(\u001b[0m\u001b[0mos\u001b[0m\u001b[0;34m.\u001b[0m\u001b[0mpath\u001b[0m\u001b[0;34m.\u001b[0m\u001b[0mjoin\u001b[0m\u001b[0;34m(\u001b[0m\u001b[0mtest_save_path\u001b[0m\u001b[0;34m,\u001b[0m\u001b[0;34m'metrics_test_set.csv'\u001b[0m\u001b[0;34m)\u001b[0m\u001b[0;34m)\u001b[0m\u001b[0;34m\u001b[0m\u001b[0m\n",
      "\u001b[0;32m<ipython-input-6-1908dbf37654>\u001b[0m in \u001b[0;36mtest_calculate_metric\u001b[0;34m(epoch_num, patch_size, stride_xy, stride_z)\u001b[0m\n\u001b[1;32m      9\u001b[0m     avg_metric,metrics,yt, pt = test_all_case(net, image_list, num_classes=num_classes,\n\u001b[1;32m     10\u001b[0m                                \u001b[0mpatch_size\u001b[0m\u001b[0;34m=\u001b[0m\u001b[0mpatch_size\u001b[0m\u001b[0;34m,\u001b[0m \u001b[0mstride_xy\u001b[0m\u001b[0;34m=\u001b[0m\u001b[0mstride_xy\u001b[0m\u001b[0;34m,\u001b[0m \u001b[0mstride_z\u001b[0m\u001b[0;34m=\u001b[0m\u001b[0mstride_z\u001b[0m\u001b[0;34m,\u001b[0m\u001b[0;34m\u001b[0m\u001b[0m\n\u001b[0;32m---> 11\u001b[0;31m                                save_result=True, test_save_path=test_save_path)\n\u001b[0m\u001b[1;32m     12\u001b[0m \u001b[0;34m\u001b[0m\u001b[0m\n\u001b[1;32m     13\u001b[0m     \u001b[0;32mreturn\u001b[0m \u001b[0mavg_metric\u001b[0m\u001b[0;34m,\u001b[0m \u001b[0mmetrics\u001b[0m\u001b[0;34m,\u001b[0m\u001b[0myt\u001b[0m\u001b[0;34m,\u001b[0m\u001b[0mpt\u001b[0m\u001b[0;34m\u001b[0m\u001b[0m\n",
      "\u001b[0;32m<ipython-input-2-54090b9cb73c>\u001b[0m in \u001b[0;36mtest_all_case\u001b[0;34m(net, image_list, num_classes, patch_size, stride_xy, stride_z, save_result, test_save_path, preproc_fn, device, old_replaced)\u001b[0m\n\u001b[1;32m    209\u001b[0m             \u001b[0;31m# generate sitk object\u001b[0m\u001b[0;34m\u001b[0m\u001b[0;34m\u001b[0m\u001b[0m\n\u001b[1;32m    210\u001b[0m         \u001b[0mlabel_pred_sitk\u001b[0m \u001b[0;34m=\u001b[0m \u001b[0msitk\u001b[0m\u001b[0;34m.\u001b[0m\u001b[0mGetImageFromArray\u001b[0m\u001b[0;34m(\u001b[0m\u001b[0mlabel_pred\u001b[0m\u001b[0;34m.\u001b[0m\u001b[0mtranspose\u001b[0m\u001b[0;34m(\u001b[0m\u001b[0;36m2\u001b[0m\u001b[0;34m,\u001b[0m\u001b[0;36m1\u001b[0m\u001b[0;34m,\u001b[0m\u001b[0;36m0\u001b[0m\u001b[0;34m)\u001b[0m\u001b[0;34m)\u001b[0m\u001b[0;34m\u001b[0m\u001b[0m\n\u001b[0;32m--> 211\u001b[0;31m         \u001b[0mlabel_pred_sitk\u001b[0m\u001b[0;34m.\u001b[0m\u001b[0mCopyInformation\u001b[0m\u001b[0;34m(\u001b[0m\u001b[0mlabel_sitk\u001b[0m\u001b[0;34m)\u001b[0m\u001b[0;34m\u001b[0m\u001b[0m\n\u001b[0m\u001b[1;32m    212\u001b[0m         \u001b[0mlabel_onehot_pred_sitk\u001b[0m \u001b[0;34m=\u001b[0m \u001b[0msitk\u001b[0m\u001b[0;34m.\u001b[0m\u001b[0mGetImageFromArray\u001b[0m\u001b[0;34m(\u001b[0m\u001b[0mlabel_onehot_pred\u001b[0m\u001b[0;34m.\u001b[0m\u001b[0mtranspose\u001b[0m\u001b[0;34m(\u001b[0m\u001b[0;36m2\u001b[0m\u001b[0;34m,\u001b[0m\u001b[0;36m1\u001b[0m\u001b[0;34m,\u001b[0m\u001b[0;36m0\u001b[0m\u001b[0;34m,\u001b[0m\u001b[0;36m3\u001b[0m\u001b[0;34m)\u001b[0m\u001b[0;34m)\u001b[0m\u001b[0;34m\u001b[0m\u001b[0m\n\u001b[1;32m    213\u001b[0m         \u001b[0mlabel_onehot_pred_sitk\u001b[0m\u001b[0;34m.\u001b[0m\u001b[0mCopyInformation\u001b[0m\u001b[0;34m(\u001b[0m\u001b[0mseg_sitk\u001b[0m\u001b[0;34m)\u001b[0m\u001b[0;34m\u001b[0m\u001b[0m\n",
      "\u001b[0;32m~/.local/lib/python3.6/site-packages/SimpleITK/SimpleITK.py\u001b[0m in \u001b[0;36mCopyInformation\u001b[0;34m(self, srcImage)\u001b[0m\n\u001b[1;32m   3111\u001b[0m     \u001b[0;32mdef\u001b[0m \u001b[0mCopyInformation\u001b[0m\u001b[0;34m(\u001b[0m\u001b[0mself\u001b[0m\u001b[0;34m,\u001b[0m \u001b[0msrcImage\u001b[0m\u001b[0;34m)\u001b[0m\u001b[0;34m:\u001b[0m\u001b[0;34m\u001b[0m\u001b[0m\n\u001b[1;32m   3112\u001b[0m         \u001b[0;34mr\"\"\"CopyInformation(Image self, Image srcImage)\"\"\"\u001b[0m\u001b[0;34m\u001b[0m\u001b[0m\n\u001b[0;32m-> 3113\u001b[0;31m         \u001b[0;32mreturn\u001b[0m \u001b[0m_SimpleITK\u001b[0m\u001b[0;34m.\u001b[0m\u001b[0mImage_CopyInformation\u001b[0m\u001b[0;34m(\u001b[0m\u001b[0mself\u001b[0m\u001b[0;34m,\u001b[0m \u001b[0msrcImage\u001b[0m\u001b[0;34m)\u001b[0m\u001b[0;34m\u001b[0m\u001b[0m\n\u001b[0m\u001b[1;32m   3114\u001b[0m \u001b[0;34m\u001b[0m\u001b[0m\n\u001b[1;32m   3115\u001b[0m     \u001b[0;32mdef\u001b[0m \u001b[0mGetMetaDataKeys\u001b[0m\u001b[0;34m(\u001b[0m\u001b[0mself\u001b[0m\u001b[0;34m)\u001b[0m\u001b[0;34m:\u001b[0m\u001b[0;34m\u001b[0m\u001b[0m\n",
      "\u001b[0;31mRuntimeError\u001b[0m: Exception thrown in SimpleITK Image_CopyInformation: /tmp/SimpleITK/Code/Common/src/sitkImage.cxx:235:\nsitk::ERROR: Source image size of [ 512, 512, 429 ] does not match this image's size of [ 158, 156, 106 ]!"
     ]
    }
   ],
   "source": [
    "print(\"begin\")\n",
    "avg_metric, metrics, yt, yp = test_calculate_metric(6001, patch_size=(128, 128, 64), stride_xy=64, stride_z=32)\n",
    "print(avg_metric)\n",
    "metrics.to_csv(os.path.join(test_save_path,'metrics_test_set.csv'))"
   ]
  },
  {
   "cell_type": "code",
   "execution_count": 88,
   "metadata": {
    "uuid": "00046ceb-096a-4c7f-8b87-590998f06b6a"
   },
   "outputs": [
    {
     "name": "stdout",
     "output_type": "stream",
     "text": [
      "              bg  proximal_femur  distal_femur  fragment\n",
      "112241  0.994330        0.797857      0.890021  0.626994\n",
      "135535  0.996254        0.880874      0.890512  0.522741\n",
      "145101  0.997445        0.819442      0.896719  0.447982\n",
      "151000  0.993125        0.788339      0.876537  0.694872\n",
      "190409  0.996636        0.935312      0.903134  0.872956\n",
      "200617  0.996214        0.916973      0.897377  0.815291\n",
      "223849  0.995924        0.956163      0.857994  0.898413\n"
     ]
    }
   ],
   "source": [
    "print(metrics)"
   ]
  },
  {
   "cell_type": "code",
   "execution_count": 89,
   "metadata": {
    "uuid": "8b7a53c1-4321-4603-ae83-ba4847ee22d1"
   },
   "outputs": [
    {
     "data": {
      "image/png": "[encoded data removed]",
      "text/plain": [
       "<Figure size 720x480 with 1 Axes>"
      ]
     },
     "metadata": {},
     "output_type": "display_data"
    }
   ],
   "source": [
    "yt = np.array(yt)\n",
    "yp = np.array(yp)\n",
    "plt.figure(dpi=120)\n",
    "sns.set()\n",
    "cm = confusion_matrix(yt, yp)\n",
    "xtick=['background','proximal femur','distal femur','fragment']\n",
    "ytick=['background','proximal femur','distal femur','fragment']\n",
    "sns.heatmap(cm,fmt='g',cmap='Blues',annot=True,cbar=False,xticklabels=xtick, yticklabels=ytick)\n",
    "plt.ylabel('Target class')\n",
    "plt.xlabel('Output class')\n",
    "plt.show()"
   ]
  },
  {
   "cell_type": "code",
   "execution_count": 90,
   "metadata": {
    "uuid": "7de150fc-1f45-4001-9a26-9f6f0debfc9e"
   },
   "outputs": [
    {
     "name": "stdout",
     "output_type": "stream",
     "text": [
      "[0.99712973 0.85371252 0.86548292 0.76468367]\n",
      "[0.99596054 0.882996   0.88954115 0.75222694]\n",
      "[0.99479409 0.91435976 0.91497513 0.74016954]\n"
     ]
    }
   ],
   "source": [
    "p = precision_score(yt, yp,average=None)\n",
    "f1score = f1_score(yt, yp, average=None)\n",
    "recall = recall_score(yt, yp, average=None)\n",
    "print(p)\n",
    "print(f1score)\n",
    "print(recall)"
   ]
  },
  {
   "cell_type": "code",
   "execution_count": null,
   "metadata": {
    "uuid": "7c51495a-23b3-44f7-803d-dbe5dfe35875"
   },
   "outputs": [],
   "source": []
  }
 ],
 "metadata": {
  "kernelspec": {
   "display_name": "PyTorch",
   "language": "python",
   "name": "pytorch"
  },
  "language_info": {
   "codemirror_mode": {
    "name": "ipython",
    "version": 3
   },
   "file_extension": ".py",
   "mimetype": "text/x-python",
   "name": "python",
   "nbconvert_exporter": "python",
   "pygments_lexer": "ipython3",
   "version": "3.6.4"
  }
 },
 "nbformat": 4,
 "nbformat_minor": 2
}
