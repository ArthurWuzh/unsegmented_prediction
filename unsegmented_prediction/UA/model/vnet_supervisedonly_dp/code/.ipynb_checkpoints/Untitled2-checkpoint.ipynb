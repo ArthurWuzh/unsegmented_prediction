{
 "cells": [
  {
   "cell_type": "code",
   "execution_count": 1,
   "metadata": {
    "uuid": "7cddbb6b-3d67-422d-8ee8-09f0279db553"
   },
   "outputs": [],
   "source": [
    "import os\n",
    "import sys\n",
    "from tqdm import tqdm\n",
    "from tensorboardX import SummaryWriter\n",
    "import shutil\n",
    "import argparse\n",
    "import logging\n",
    "import time\n",
    "import random\n",
    "import numpy as np\n",
    "\n",
    "import torch\n",
    "import torch.optim as optim\n",
    "from torchvision import transforms\n",
    "import torch.nn.functional as F\n",
    "import torch.backends.cudnn as cudnn\n",
    "from torch.utils.data import DataLoader\n",
    "from torchvision.utils import make_grid"
   ]
  },
  {
   "cell_type": "code",
   "execution_count": 2,
   "metadata": {
    "uuid": "94ab15d8-cf07-4b86-949b-c47ebc8866a8"
   },
   "outputs": [],
   "source": [
    "from networks.vnet import VNet\n",
    "# from utils.losses import dice_loss\n",
    "from utils import ramps, losses\n",
    "from dataloaders.la_heart_sitk import LAHeart, RandomScale, RandomNoise, RandomCrop, CenterCrop, RandomRot, RandomFlip, ToTensor, TwoStreamBatchSampler\n",
    "# -"
   ]
  },
  {
   "cell_type": "code",
   "execution_count": 3,
   "metadata": {
    "uuid": "5ea10279-ff52-4dc8-bec0-efc69b674223"
   },
   "outputs": [],
   "source": [
    "parser = argparse.ArgumentParser()\n",
    "parser.add_argument('--root_path', type=str, default='../../data/gz_dataset/segmented', help='Name of Experiment')\n",
    "parser.add_argument('--exp', type=str,  default='vnet_supervisedonly_dp', help='model_name')\n",
    "parser.add_argument('--max_iterations', type=int,  default=6000, help='maximum epoch number to train')\n",
    "parser.add_argument('--batch_size', type=int, default=2, help='batch_size per gpu')\n",
    "parser.add_argument('--base_lr', type=float,  default=0.01, help='maximum epoch number to train')\n",
    "parser.add_argument('--deterministic', type=int,  default=1, help='whether use deterministic training')\n",
    "parser.add_argument('--seed', type=int,  default=1337, help='random seed')\n",
    "parser.add_argument('--gpu', type=str,  default='0', help='GPU to use')\n",
    "args = parser.parse_args(args=[])"
   ]
  },
  {
   "cell_type": "code",
   "execution_count": 4,
   "metadata": {
    "uuid": "bbfab92c-ae24-48c3-87c2-f412cc05c865"
   },
   "outputs": [],
   "source": [
    "train_data_path = args.root_path\n",
    "snapshot_path = \"../model/\" + args.exp + \"/\"\n",
    "\n",
    "os.environ['CUDA_VISIBLE_DEVICES'] = args.gpu\n",
    "batch_size = args.batch_size * len(args.gpu.split(','))\n",
    "max_iterations = args.max_iterations\n",
    "base_lr = args.base_lr"
   ]
  },
  {
   "cell_type": "code",
   "execution_count": 5,
   "metadata": {
    "uuid": "d7033914-d2e5-49d7-a773-0664b6ddd1f2"
   },
   "outputs": [],
   "source": [
    "if args.deterministic:\n",
    "    cudnn.benchmark = False\n",
    "    cudnn.deterministic = True\n",
    "    random.seed(args.seed)\n",
    "    np.random.seed(args.seed)\n",
    "    torch.manual_seed(args.seed)\n",
    "    torch.cuda.manual_seed(args.seed)\n",
    "\n",
    "num_classes = 4\n",
    "patch_size = (128, 128, 64)\n",
    "cls_weights = [1,4,10]"
   ]
  },
  {
   "cell_type": "code",
   "execution_count": 6,
   "metadata": {
    "uuid": "1f5485ef-600c-4291-89ee-1e22b925c76a"
   },
   "outputs": [
    {
     "name": "stdout",
     "output_type": "stream",
     "text": [
      "Namespace(base_lr=0.01, batch_size=2, deterministic=1, exp='vnet_supervisedonly_dp', gpu='0', max_iterations=6000, root_path='../../data/gz_dataset/segmented', seed=1337)\n",
      "os.environ:  0\n",
      "total 32 samples\n",
      "total 8 samples\n",
      "16 itertations per epoch\n"
     ]
    },
    {
     "name": "stderr",
     "output_type": "stream",
     "text": [
      "  0%|                                         | 0/376 [00:00<?, ?it/s]"
     ]
    },
    {
     "name": "stdout",
     "output_type": "stream",
     "text": [
      "[0. 1.]\n",
      "[0. 1.]\n",
      "[0. 1.]\n",
      "[0. 1.]\n",
      "[0. 1.]\n",
      "[0. 1.]\n"
     ]
    },
    {
     "ename": "AssertionError",
     "evalue": "Caught AssertionError in DataLoader worker process 0.\nOriginal Traceback (most recent call last):\n  File \"/opt/conda/lib/python3.6/site-packages/torch/utils/data/_utils/worker.py\", line 178, in _worker_loop\n    data = fetcher.fetch(index)\n  File \"/opt/conda/lib/python3.6/site-packages/torch/utils/data/_utils/fetch.py\", line 44, in fetch\n    data = [self.dataset[idx] for idx in possibly_batched_index]\n  File \"/opt/conda/lib/python3.6/site-packages/torch/utils/data/_utils/fetch.py\", line 44, in <listcomp>\n    data = [self.dataset[idx] for idx in possibly_batched_index]\n  File \"/data/nas/workspace/jupyter/gz/UA-MT-CTMseg/code/dataloaders/la_heart.py\", line 44, in __getitem__\n    sample = self.transform(sample)\n  File \"/opt/conda/lib/python3.6/site-packages/torchvision/transforms/transforms.py\", line 70, in __call__\n    img = t(img)\n  File \"/data/nas/workspace/jupyter/gz/UA-MT-CTMseg/code/dataloaders/la_heart.py\", line 196, in __call__\n    assert np.unique(label) == [0.0,1.0], \"np.unique(rescaled label):\"+str(np.unique(label).tolist())\nAssertionError: np.unique(rescaled label):[0.0, 1.0]\n",
     "output_type": "error",
     "traceback": [
      "\u001b[0;31m---------------------------------------------------------------------------\u001b[0m",
      "\u001b[0;31mAssertionError\u001b[0m                            Traceback (most recent call last)",
      "\u001b[0;32m<ipython-input-6-c960cd730586>\u001b[0m in \u001b[0;36m<module>\u001b[0;34m\u001b[0m\n\u001b[1;32m     47\u001b[0m \u001b[0;32mfor\u001b[0m \u001b[0mepoch_num\u001b[0m \u001b[0;32min\u001b[0m \u001b[0mtqdm\u001b[0m\u001b[0;34m(\u001b[0m\u001b[0mrange\u001b[0m\u001b[0;34m(\u001b[0m\u001b[0mmax_epoch\u001b[0m\u001b[0;34m)\u001b[0m\u001b[0;34m,\u001b[0m \u001b[0mncols\u001b[0m\u001b[0;34m=\u001b[0m\u001b[0;36m70\u001b[0m\u001b[0;34m)\u001b[0m\u001b[0;34m:\u001b[0m\u001b[0;34m\u001b[0m\u001b[0m\n\u001b[1;32m     48\u001b[0m     \u001b[0mtime1\u001b[0m \u001b[0;34m=\u001b[0m \u001b[0mtime\u001b[0m\u001b[0;34m.\u001b[0m\u001b[0mtime\u001b[0m\u001b[0;34m(\u001b[0m\u001b[0;34m)\u001b[0m\u001b[0;34m\u001b[0m\u001b[0m\n\u001b[0;32m---> 49\u001b[0;31m     \u001b[0;32mfor\u001b[0m \u001b[0mi_batch\u001b[0m\u001b[0;34m,\u001b[0m \u001b[0msampled_batch\u001b[0m \u001b[0;32min\u001b[0m \u001b[0menumerate\u001b[0m\u001b[0;34m(\u001b[0m\u001b[0mtrainloader\u001b[0m\u001b[0;34m)\u001b[0m\u001b[0;34m:\u001b[0m\u001b[0;34m\u001b[0m\u001b[0m\n\u001b[0m\u001b[1;32m     50\u001b[0m         \u001b[0mtime2\u001b[0m \u001b[0;34m=\u001b[0m \u001b[0mtime\u001b[0m\u001b[0;34m.\u001b[0m\u001b[0mtime\u001b[0m\u001b[0;34m(\u001b[0m\u001b[0;34m)\u001b[0m\u001b[0;34m\u001b[0m\u001b[0m\n\u001b[1;32m     51\u001b[0m         \u001b[0;31m# print('fetch data cost {}'.format(time2-time1))\u001b[0m\u001b[0;34m\u001b[0m\u001b[0;34m\u001b[0m\u001b[0m\n",
      "\u001b[0;32m/opt/conda/lib/python3.6/site-packages/torch/utils/data/dataloader.py\u001b[0m in \u001b[0;36m__next__\u001b[0;34m(self)\u001b[0m\n\u001b[1;32m    817\u001b[0m             \u001b[0;32melse\u001b[0m\u001b[0;34m:\u001b[0m\u001b[0;34m\u001b[0m\u001b[0m\n\u001b[1;32m    818\u001b[0m                 \u001b[0;32mdel\u001b[0m \u001b[0mself\u001b[0m\u001b[0;34m.\u001b[0m\u001b[0m_task_info\u001b[0m\u001b[0;34m[\u001b[0m\u001b[0midx\u001b[0m\u001b[0;34m]\u001b[0m\u001b[0;34m\u001b[0m\u001b[0m\n\u001b[0;32m--> 819\u001b[0;31m                 \u001b[0;32mreturn\u001b[0m \u001b[0mself\u001b[0m\u001b[0;34m.\u001b[0m\u001b[0m_process_data\u001b[0m\u001b[0;34m(\u001b[0m\u001b[0mdata\u001b[0m\u001b[0;34m)\u001b[0m\u001b[0;34m\u001b[0m\u001b[0m\n\u001b[0m\u001b[1;32m    820\u001b[0m \u001b[0;34m\u001b[0m\u001b[0m\n\u001b[1;32m    821\u001b[0m     \u001b[0mnext\u001b[0m \u001b[0;34m=\u001b[0m \u001b[0m__next__\u001b[0m  \u001b[0;31m# Python 2 compatibility\u001b[0m\u001b[0;34m\u001b[0m\u001b[0m\n",
      "\u001b[0;32m/opt/conda/lib/python3.6/site-packages/torch/utils/data/dataloader.py\u001b[0m in \u001b[0;36m_process_data\u001b[0;34m(self, data)\u001b[0m\n\u001b[1;32m    844\u001b[0m         \u001b[0mself\u001b[0m\u001b[0;34m.\u001b[0m\u001b[0m_try_put_index\u001b[0m\u001b[0;34m(\u001b[0m\u001b[0;34m)\u001b[0m\u001b[0;34m\u001b[0m\u001b[0m\n\u001b[1;32m    845\u001b[0m         \u001b[0;32mif\u001b[0m \u001b[0misinstance\u001b[0m\u001b[0;34m(\u001b[0m\u001b[0mdata\u001b[0m\u001b[0;34m,\u001b[0m \u001b[0mExceptionWrapper\u001b[0m\u001b[0;34m)\u001b[0m\u001b[0;34m:\u001b[0m\u001b[0;34m\u001b[0m\u001b[0m\n\u001b[0;32m--> 846\u001b[0;31m             \u001b[0mdata\u001b[0m\u001b[0;34m.\u001b[0m\u001b[0mreraise\u001b[0m\u001b[0;34m(\u001b[0m\u001b[0;34m)\u001b[0m\u001b[0;34m\u001b[0m\u001b[0m\n\u001b[0m\u001b[1;32m    847\u001b[0m         \u001b[0;32mreturn\u001b[0m \u001b[0mdata\u001b[0m\u001b[0;34m\u001b[0m\u001b[0m\n\u001b[1;32m    848\u001b[0m \u001b[0;34m\u001b[0m\u001b[0m\n",
      "\u001b[0;32m/opt/conda/lib/python3.6/site-packages/torch/_utils.py\u001b[0m in \u001b[0;36mreraise\u001b[0;34m(self)\u001b[0m\n\u001b[1;32m    383\u001b[0m             \u001b[0;31m# (https://bugs.python.org/issue2651), so we work around it.\u001b[0m\u001b[0;34m\u001b[0m\u001b[0;34m\u001b[0m\u001b[0m\n\u001b[1;32m    384\u001b[0m             \u001b[0mmsg\u001b[0m \u001b[0;34m=\u001b[0m \u001b[0mKeyErrorMessage\u001b[0m\u001b[0;34m(\u001b[0m\u001b[0mmsg\u001b[0m\u001b[0;34m)\u001b[0m\u001b[0;34m\u001b[0m\u001b[0m\n\u001b[0;32m--> 385\u001b[0;31m         \u001b[0;32mraise\u001b[0m \u001b[0mself\u001b[0m\u001b[0;34m.\u001b[0m\u001b[0mexc_type\u001b[0m\u001b[0;34m(\u001b[0m\u001b[0mmsg\u001b[0m\u001b[0;34m)\u001b[0m\u001b[0;34m\u001b[0m\u001b[0m\n\u001b[0m",
      "\u001b[0;31mAssertionError\u001b[0m: Caught AssertionError in DataLoader worker process 0.\nOriginal Traceback (most recent call last):\n  File \"/opt/conda/lib/python3.6/site-packages/torch/utils/data/_utils/worker.py\", line 178, in _worker_loop\n    data = fetcher.fetch(index)\n  File \"/opt/conda/lib/python3.6/site-packages/torch/utils/data/_utils/fetch.py\", line 44, in fetch\n    data = [self.dataset[idx] for idx in possibly_batched_index]\n  File \"/opt/conda/lib/python3.6/site-packages/torch/utils/data/_utils/fetch.py\", line 44, in <listcomp>\n    data = [self.dataset[idx] for idx in possibly_batched_index]\n  File \"/data/nas/workspace/jupyter/gz/UA-MT-CTMseg/code/dataloaders/la_heart.py\", line 44, in __getitem__\n    sample = self.transform(sample)\n  File \"/opt/conda/lib/python3.6/site-packages/torchvision/transforms/transforms.py\", line 70, in __call__\n    img = t(img)\n  File \"/data/nas/workspace/jupyter/gz/UA-MT-CTMseg/code/dataloaders/la_heart.py\", line 196, in __call__\n    assert np.unique(label) == [0.0,1.0], \"np.unique(rescaled label):\"+str(np.unique(label).tolist())\nAssertionError: np.unique(rescaled label):[0.0, 1.0]\n"
     ]
    },
    {
     "name": "stdout",
     "output_type": "stream",
     "text": [
      "[0. 1.]\n",
      "[0. 1.]\n",
      "[0. 1.]\n"
     ]
    }
   ],
   "source": [
    "if not os.path.exists(snapshot_path):\n",
    "    os.makedirs(snapshot_path)\n",
    "if os.path.exists(snapshot_path + '/code'):\n",
    "    shutil.rmtree(snapshot_path + '/code')\n",
    "shutil.copytree('.', snapshot_path + '/code', shutil.ignore_patterns(['.git','__pycache__']))\n",
    "\n",
    "logging.basicConfig(filename=snapshot_path+\"/log.txt\", level=logging.INFO,\n",
    "                    format='[%(asctime)s.%(msecs)03d] %(message)s', datefmt='%H:%M:%S')\n",
    "logging.getLogger().addHandler(logging.StreamHandler(sys.stdout))\n",
    "logging.info(str(args))\n",
    "\n",
    "net = VNet(n_channels=1, n_classes=num_classes, normalization='batchnorm', has_dropout=True)\n",
    "print(\"os.environ: \",os.environ['CUDA_VISIBLE_DEVICES'])\n",
    "net = net.cuda()\n",
    "\n",
    "db_train = LAHeart(base_dir=train_data_path,\n",
    "                    split='train',\n",
    "                    #num=16,\n",
    "                    transform = transforms.Compose([\n",
    "                        #RandomScale(ratio_low=0.6, ratio_high=1.5),\n",
    "                        RandomNoise(mu=0, sigma=0.05),\n",
    "                        RandomRot(),\n",
    "                        RandomFlip(),\n",
    "                        RandomCrop(patch_size),\n",
    "                        ToTensor(),\n",
    "                        ]))\n",
    "db_test = LAHeart(base_dir=train_data_path,\n",
    "                    split='test',\n",
    "                    transform = transforms.Compose([\n",
    "                        CenterCrop(patch_size),\n",
    "                        ToTensor()\n",
    "                    ]))\n",
    "def worker_init_fn(worker_id):\n",
    "    random.seed(args.seed+worker_id)\n",
    "trainloader = DataLoader(db_train, batch_size=batch_size, shuffle=True,  num_workers=4, pin_memory=True, worker_init_fn=worker_init_fn)\n",
    "\n",
    "net.train()\n",
    "optimizer = optim.SGD(net.parameters(), lr=base_lr, momentum=0.9, weight_decay=0.0001)\n",
    "\n",
    "writer = SummaryWriter(snapshot_path+'/log')\n",
    "logging.info(\"{} itertations per epoch\".format(len(trainloader)))\n",
    "\n",
    "iter_num = 0\n",
    "max_epoch = max_iterations//len(trainloader)+1\n",
    "lr_ = base_lr\n",
    "net.train()\n",
    "for epoch_num in tqdm(range(max_epoch), ncols=70):\n",
    "    time1 = time.time()\n",
    "    for i_batch, sampled_batch in enumerate(trainloader):\n",
    "        time2 = time.time()\n",
    "        # print('fetch data cost {}'.format(time2-time1))\n",
    "        volume_batch, label_batch = sampled_batch['image'], sampled_batch['label']\n",
    "        volume_batch, label_batch = volume_batch.cuda(), label_batch.cuda()\n",
    "        outputs = net(volume_batch)\n",
    "\n",
    "        loss_seg = F.cross_entropy( outputs, label_batch, weight=torch.tensor(cls_weights,dtype=torch.float32).cuda() )\n",
    "        outputs_soft = F.softmax(outputs, dim=1)\n",
    "        loss_seg_dice = 0\n",
    "        print('\\n')\n",
    "        for i in range(num_classes):\n",
    "            loss_mid = losses.dice_loss(outputs_soft[:, i, :, :, :], label_batch == i )\n",
    "            loss_seg_dice += loss_mid\n",
    "            print('dice score (1-dice_loss): {:.3f}'.format(1-loss_mid))\n",
    "        print('dicetotal:{:.3f}'.format( loss_seg_dice))\n",
    "        loss = 0.5*(loss_seg+loss_seg_dice)\n",
    "\n",
    "        optimizer.zero_grad()\n",
    "        loss.backward()\n",
    "        optimizer.step()\n",
    "\n",
    "        iter_num = iter_num + 1\n",
    "        writer.add_scalar('lr', lr_, iter_num)\n",
    "        writer.add_scalar('loss/loss_seg', loss_seg, iter_num)\n",
    "        writer.add_scalar('loss/loss_seg_dice', loss_seg_dice, iter_num)\n",
    "        writer.add_scalar('loss/loss', loss, iter_num)\n",
    "        logging.info('iteration %d : loss : %f, loss_seg : %f, loss_seg_dice : %f' % \n",
    "                        (iter_num, \n",
    "                        loss.item(),\n",
    "                        loss_seg.item(),\n",
    "                        loss_seg_dice.item())\n",
    "                    )\n",
    "        if iter_num % 50 == 0:\n",
    "            image = volume_batch[0, 0:1, :, :, 20:61:10].permute(3,0,1,2).repeat(1,3,1,1)\n",
    "            grid_image = make_grid(image, 5, normalize=True)\n",
    "            writer.add_image('train/Image', grid_image, iter_num)\n",
    "\n",
    "            outputs_soft = F.softmax(outputs, 1)\n",
    "            image = outputs_soft[0, 1:2, :, :, 20:61:10].permute(3, 0, 1, 2).repeat(1, 3, 1, 1)\n",
    "            grid_image = make_grid(image, 5, normalize=False)\n",
    "            writer.add_image('train/Predicted_label', grid_image, iter_num)\n",
    "\n",
    "            image = label_batch[0, :, :, 20:61:10].unsqueeze(0).permute(3, 0, 1, 2).repeat(1, 3, 1, 1)\n",
    "            grid_image = make_grid(image, 5, normalize=False)\n",
    "            writer.add_image('train/Groundtruth_label', grid_image, iter_num)\n",
    "\n",
    "        ## change lr\n",
    "        if iter_num % 2500 == 0:\n",
    "            lr_ = base_lr * 0.1 ** (iter_num // 2500)\n",
    "            for param_group in optimizer.param_groups:\n",
    "                param_group['lr'] = lr_\n",
    "        if iter_num % 1000 == 0:\n",
    "            save_mode_path = os.path.join(snapshot_path, 'iter_' + str(iter_num) + '.pth')\n",
    "            torch.save(net.state_dict(), save_mode_path)\n",
    "            logging.info(\"save model to {}\".format(save_mode_path))\n",
    "\n",
    "        if iter_num > max_iterations:\n",
    "            break\n",
    "        time1 = time.time()\n",
    "    if iter_num > max_iterations:\n",
    "        break\n",
    "save_mode_path = os.path.join(snapshot_path, 'iter_'+str(max_iterations+1)+'.pth')\n",
    "torch.save(net.state_dict(), save_mode_path)\n",
    "logging.info(\"save model to {}\".format(save_mode_path))\n",
    "writer.close()"
   ]
  },
  {
   "cell_type": "code",
   "execution_count": null,
   "metadata": {
    "uuid": "c02ba9a9-3415-4f8e-aacb-07a6a89cb5b0"
   },
   "outputs": [],
   "source": []
  }
 ],
 "metadata": {
  "kernelspec": {
   "display_name": "PyTorch",
   "language": "python",
   "name": "pytorch"
  },
  "language_info": {
   "codemirror_mode": {
    "name": "ipython",
    "version": 3
   },
   "file_extension": ".py",
   "mimetype": "text/x-python",
   "name": "python",
   "nbconvert_exporter": "python",
   "pygments_lexer": "ipython3",
   "version": "3.6.4"
  }
 },
 "nbformat": 4,
 "nbformat_minor": 2
}
