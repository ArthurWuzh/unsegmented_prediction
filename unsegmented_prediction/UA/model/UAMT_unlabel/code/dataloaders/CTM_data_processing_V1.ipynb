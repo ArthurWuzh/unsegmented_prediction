{
 "cells": [
  {
   "cell_type": "code",
   "execution_count": 1,
   "metadata": {
    "uuid": "09bec08c-8a84-46f6-8940-5554f6e3b2a6"
   },
   "outputs": [
    {
     "name": "stderr",
     "output_type": "stream",
     "text": [
      "  0%|          | 0/181 [00:00<?, ?it/s]"
     ]
    },
    {
     "name": "stdout",
     "output_type": "stream",
     "text": [
      "seg dataset:\n",
      "845929 :\n",
      "image shape: (799, 799, 92)\n",
      "uncut image.shape: (799, 799, 92)\n",
      "uncut label.shape: (799, 799, 92)\n",
      "cut image.shape: (159, 185, 92)\n",
      "cut label.shape: (159, 185, 92)\n"
     ]
    },
    {
     "name": "stderr",
     "output_type": "stream",
     "text": [
      "  1%|          | 1/181 [00:10<31:17, 10.43s/it]"
     ]
    },
    {
     "name": "stdout",
     "output_type": "stream",
     "text": [
      "1559027 :\n",
      "image shape: (492, 492, 73)\n",
      "uncut image.shape: (492, 492, 73)\n",
      "uncut label.shape: (492, 492, 73)\n",
      "cut image.shape: (157, 182, 73)\n",
      "cut label.shape: (157, 182, 73)\n"
     ]
    },
    {
     "name": "stderr",
     "output_type": "stream",
     "text": [
      "  1%|          | 2/181 [00:13<24:32,  8.23s/it]"
     ]
    },
    {
     "name": "stdout",
     "output_type": "stream",
     "text": [
      "1433611 :\n",
      "image shape: (799, 799, 65)\n",
      "uncut image.shape: (799, 799, 65)\n",
      "uncut label.shape: (799, 799, 65)\n",
      "cut image.shape: (155, 165, 65)\n",
      "cut label.shape: (155, 165, 65)\n"
     ]
    },
    {
     "name": "stderr",
     "output_type": "stream",
     "text": [
      "  2%|▏         | 3/181 [00:20<23:01,  7.76s/it]"
     ]
    },
    {
     "name": "stdout",
     "output_type": "stream",
     "text": [
      "B1027338 :\n",
      "image shape: (577, 577, 85)\n",
      "uncut image.shape: (577, 577, 85)\n",
      "uncut label.shape: (577, 577, 85)\n",
      "cut image.shape: (155, 177, 85)\n",
      "cut label.shape: (155, 177, 85)\n"
     ]
    },
    {
     "name": "stderr",
     "output_type": "stream",
     "text": [
      "  2%|▏         | 4/181 [00:25<20:25,  6.92s/it]"
     ]
    },
    {
     "name": "stdout",
     "output_type": "stream",
     "text": [
      "936932-dingzi :\n",
      "image shape: (799, 799, 85)\n",
      "uncut image.shape: (799, 799, 85)\n",
      "uncut label.shape: (799, 799, 85)\n",
      "cut image.shape: (156, 197, 85)\n",
      "cut label.shape: (156, 197, 85)\n"
     ]
    },
    {
     "name": "stderr",
     "output_type": "stream",
     "text": [
      "  3%|▎         | 5/181 [00:34<22:37,  7.71s/it]"
     ]
    },
    {
     "name": "stdout",
     "output_type": "stream",
     "text": [
      "1371504 :\n",
      "image shape: (633, 633, 85)\n",
      "uncut image.shape: (633, 633, 85)\n",
      "uncut label.shape: (633, 633, 85)\n",
      "cut image.shape: (156, 159, 85)\n",
      "cut label.shape: (156, 159, 85)\n"
     ]
    },
    {
     "name": "stderr",
     "output_type": "stream",
     "text": [
      "  3%|▎         | 6/181 [00:40<20:46,  7.12s/it]"
     ]
    },
    {
     "name": "stdout",
     "output_type": "stream",
     "text": [
      "785777 :\n",
      "image shape: (558, 558, 85)\n",
      "uncut image.shape: (558, 558, 85)\n",
      "uncut label.shape: (558, 558, 85)\n",
      "cut image.shape: (168, 180, 85)\n",
      "cut label.shape: (168, 180, 85)\n"
     ]
    },
    {
     "name": "stderr",
     "output_type": "stream",
     "text": [
      "  4%|▍         | 7/181 [00:44<18:23,  6.34s/it]"
     ]
    },
    {
     "name": "stdout",
     "output_type": "stream",
     "text": [
      "1632110 :\n",
      "image shape: (666, 666, 79)\n",
      "uncut image.shape: (666, 666, 79)\n",
      "uncut label.shape: (666, 666, 79)\n",
      "cut image.shape: (150, 198, 79)\n",
      "cut label.shape: (150, 198, 79)\n"
     ]
    },
    {
     "name": "stderr",
     "output_type": "stream",
     "text": [
      "  4%|▍         | 8/181 [00:50<17:40,  6.13s/it]"
     ]
    },
    {
     "name": "stdout",
     "output_type": "stream",
     "text": [
      "1673882 :\n",
      "image shape: (628, 628, 85)\n",
      "uncut image.shape: (628, 628, 85)\n",
      "uncut label.shape: (628, 628, 85)\n",
      "cut image.shape: (159, 183, 85)\n",
      "cut label.shape: (159, 183, 85)\n"
     ]
    },
    {
     "name": "stderr",
     "output_type": "stream",
     "text": [
      "  5%|▍         | 9/181 [00:55<16:55,  5.90s/it]"
     ]
    },
    {
     "name": "stdout",
     "output_type": "stream",
     "text": [
      "B759663 :\n",
      "image shape: (521, 521, 85)\n",
      "uncut image.shape: (521, 521, 85)\n",
      "uncut label.shape: (521, 521, 85)\n",
      "cut image.shape: (175, 233, 85)\n",
      "cut label.shape: (175, 233, 85)\n"
     ]
    },
    {
     "name": "stderr",
     "output_type": "stream",
     "text": [
      "  6%|▌         | 10/181 [01:00<15:19,  5.38s/it]"
     ]
    },
    {
     "name": "stdout",
     "output_type": "stream",
     "text": [
      "B1673882 :\n",
      "image shape: (628, 628, 85)\n",
      "uncut image.shape: (628, 628, 85)\n",
      "uncut label.shape: (628, 628, 85)\n",
      "cut image.shape: (156, 187, 85)\n",
      "cut label.shape: (156, 187, 85)\n"
     ]
    },
    {
     "name": "stderr",
     "output_type": "stream",
     "text": [
      "  6%|▌         | 11/181 [01:05<15:12,  5.37s/it]"
     ]
    },
    {
     "name": "stdout",
     "output_type": "stream",
     "text": [
      "B604203 :\n",
      "image shape: (804, 804, 63)\n",
      "uncut image.shape: (804, 804, 63)\n",
      "uncut label.shape: (804, 804, 63)\n",
      "cut image.shape: (147, 195, 63)\n",
      "cut label.shape: (147, 195, 63)\n"
     ]
    },
    {
     "name": "stderr",
     "output_type": "stream",
     "text": [
      "  7%|▋         | 12/181 [01:11<15:50,  5.63s/it]"
     ]
    },
    {
     "name": "stdout",
     "output_type": "stream",
     "text": [
      "B1775169 :\n",
      "image shape: (483, 483, 60)\n",
      "uncut image.shape: (483, 483, 60)\n",
      "uncut label.shape: (483, 483, 60)\n",
      "cut image.shape: (225, 157, 60)\n",
      "cut label.shape: (225, 157, 60)\n"
     ]
    },
    {
     "name": "stderr",
     "output_type": "stream",
     "text": [
      "  7%|▋         | 13/181 [01:14<13:14,  4.73s/it]"
     ]
    },
    {
     "name": "stdout",
     "output_type": "stream",
     "text": [
      "1433061 :\n",
      "image shape: (609, 609, 106)\n",
      "uncut image.shape: (609, 609, 106)\n",
      "uncut label.shape: (609, 609, 106)\n",
      "cut image.shape: (154, 175, 106)\n",
      "cut label.shape: (154, 175, 106)\n"
     ]
    },
    {
     "name": "stderr",
     "output_type": "stream",
     "text": [
      "  8%|▊         | 14/181 [01:21<14:57,  5.38s/it]"
     ]
    },
    {
     "name": "stdout",
     "output_type": "stream",
     "text": [
      "B1632110 :\n",
      "image shape: (666, 666, 79)\n",
      "uncut image.shape: (666, 666, 79)\n",
      "uncut label.shape: (666, 666, 79)\n",
      "cut image.shape: (152, 199, 79)\n",
      "cut label.shape: (152, 199, 79)\n"
     ]
    },
    {
     "name": "stderr",
     "output_type": "stream",
     "text": [
      "  8%|▊         | 15/181 [01:26<15:07,  5.47s/it]"
     ]
    },
    {
     "name": "stdout",
     "output_type": "stream",
     "text": [
      "1685560 :\n",
      "image shape: (625, 625, 153)\n",
      "uncut image.shape: (625, 625, 153)\n",
      "uncut label.shape: (625, 625, 153)\n",
      "cut image.shape: (159, 203, 153)\n",
      "cut label.shape: (159, 203, 153)\n"
     ]
    },
    {
     "name": "stderr",
     "output_type": "stream",
     "text": [
      "  9%|▉         | 16/181 [01:37<19:23,  7.05s/it]"
     ]
    },
    {
     "name": "stdout",
     "output_type": "stream",
     "text": [
      "B843043 :\n",
      "image shape: (657, 657, 69)\n",
      "uncut image.shape: (657, 657, 69)\n",
      "uncut label.shape: (657, 657, 69)\n",
      "cut image.shape: (153, 186, 69)\n",
      "cut label.shape: (153, 186, 69)\n"
     ]
    },
    {
     "name": "stderr",
     "output_type": "stream",
     "text": [
      "  9%|▉         | 17/181 [01:42<17:28,  6.39s/it]"
     ]
    },
    {
     "name": "stdout",
     "output_type": "stream",
     "text": [
      "B1049094 :\n",
      "image shape: (633, 633, 75)\n",
      "uncut image.shape: (633, 633, 75)\n",
      "uncut label.shape: (633, 633, 75)\n",
      "cut image.shape: (154, 256, 75)\n",
      "cut label.shape: (154, 256, 75)\n"
     ]
    },
    {
     "name": "stderr",
     "output_type": "stream",
     "text": [
      " 10%|▉         | 18/181 [01:47<16:17,  6.00s/it]"
     ]
    },
    {
     "name": "stdout",
     "output_type": "stream",
     "text": [
      "B1433061 :\n",
      "image shape: (609, 609, 106)\n",
      "uncut image.shape: (609, 609, 106)\n",
      "uncut label.shape: (609, 609, 106)\n",
      "cut image.shape: (153, 172, 106)\n",
      "cut label.shape: (153, 172, 106)\n"
     ]
    },
    {
     "name": "stderr",
     "output_type": "stream",
     "text": [
      " 10%|█         | 19/181 [01:54<16:50,  6.24s/it]"
     ]
    },
    {
     "name": "stdout",
     "output_type": "stream",
     "text": [
      "1709234 :\n",
      "image shape: (802, 802, 71)\n"
     ]
    },
    {
     "name": "stderr",
     "output_type": "stream",
     "text": [
      " 11%|█         | 20/181 [01:57<13:56,  5.19s/it]"
     ]
    },
    {
     "name": "stdout",
     "output_type": "stream",
     "text": [
      "error sample(no dura/SC): 1709234\n",
      "1261721 :\n",
      "image shape: (524, 524, 78)\n",
      "uncut image.shape: (524, 524, 78)\n",
      "uncut label.shape: (524, 524, 78)\n",
      "cut image.shape: (155, 198, 78)\n",
      "cut label.shape: (155, 198, 78)\n"
     ]
    },
    {
     "name": "stderr",
     "output_type": "stream",
     "text": [
      " 12%|█▏        | 21/181 [02:00<12:39,  4.75s/it]"
     ]
    },
    {
     "name": "stdout",
     "output_type": "stream",
     "text": [
      "1171704-neck :\n",
      "image shape: (500, 500, 61)\n",
      "uncut image.shape: (500, 500, 61)\n",
      "uncut label.shape: (500, 500, 61)\n"
     ]
    },
    {
     "name": "stderr",
     "output_type": "stream",
     "text": [
      " 12%|█▏        | 22/181 [02:03<11:02,  4.17s/it]"
     ]
    },
    {
     "name": "stdout",
     "output_type": "stream",
     "text": [
      "cut image.shape: (150, 163, 61)\n",
      "cut label.shape: (150, 163, 61)\n",
      "805736 :\n",
      "image shape: (575, 575, 80)\n",
      "uncut image.shape: (575, 575, 80)\n",
      "uncut label.shape: (575, 575, 80)\n",
      "cut image.shape: (154, 162, 80)\n",
      "cut label.shape: (154, 162, 80)\n"
     ]
    },
    {
     "name": "stderr",
     "output_type": "stream",
     "text": [
      " 13%|█▎        | 23/181 [02:08<11:18,  4.30s/it]"
     ]
    },
    {
     "name": "stdout",
     "output_type": "stream",
     "text": [
      "B614745 :\n",
      "image shape: (802, 802, 71)\n",
      "uncut image.shape: (802, 802, 71)\n",
      "uncut label.shape: (802, 802, 71)\n",
      "cut image.shape: (151, 157, 71)\n",
      "cut label.shape: (151, 157, 71)\n"
     ]
    },
    {
     "name": "stderr",
     "output_type": "stream",
     "text": [
      " 13%|█▎        | 24/181 [02:15<13:22,  5.11s/it]"
     ]
    },
    {
     "name": "stdout",
     "output_type": "stream",
     "text": [
      "B785777 :\n",
      "image shape: (558, 558, 85)\n",
      "uncut image.shape: (558, 558, 85)\n",
      "uncut label.shape: (558, 558, 85)\n",
      "cut image.shape: (168, 178, 85)\n",
      "cut label.shape: (168, 178, 85)\n"
     ]
    },
    {
     "name": "stderr",
     "output_type": "stream",
     "text": [
      " 14%|█▍        | 25/181 [02:19<12:49,  4.93s/it]"
     ]
    },
    {
     "name": "stdout",
     "output_type": "stream",
     "text": [
      "B644731 :\n",
      "image shape: (515, 515, 85)\n",
      "uncut image.shape: (515, 515, 85)\n",
      "uncut label.shape: (515, 515, 85)\n",
      "cut image.shape: (154, 184, 85)\n",
      "cut label.shape: (154, 184, 85)\n"
     ]
    },
    {
     "name": "stderr",
     "output_type": "stream",
     "text": [
      " 14%|█▍        | 26/181 [02:23<12:04,  4.68s/it]"
     ]
    },
    {
     "name": "stdout",
     "output_type": "stream",
     "text": [
      "1775169 :\n",
      "image shape: (483, 483, 60)\n",
      "uncut image.shape: (483, 483, 60)\n",
      "uncut label.shape: (483, 483, 60)\n",
      "cut image.shape: (225, 158, 60)\n",
      "cut label.shape: (225, 158, 60)\n"
     ]
    },
    {
     "name": "stderr",
     "output_type": "stream",
     "text": [
      " 15%|█▍        | 27/181 [02:26<10:25,  4.06s/it]"
     ]
    },
    {
     "name": "stdout",
     "output_type": "stream",
     "text": [
      "b1330821 :\n",
      "image shape: (512, 512, 82)\n",
      "uncut image.shape: (512, 512, 82)\n",
      "uncut label.shape: (512, 512, 82)\n",
      "cut image.shape: (167, 193, 82)\n",
      "cut label.shape: (167, 193, 82)\n"
     ]
    },
    {
     "name": "stderr",
     "output_type": "stream",
     "text": [
      " 15%|█▌        | 28/181 [02:31<11:11,  4.39s/it]"
     ]
    },
    {
     "name": "stdout",
     "output_type": "stream",
     "text": [
      "B825869 :\n",
      "image shape: (802, 802, 78)\n",
      "uncut image.shape: (802, 802, 78)\n",
      "uncut label.shape: (802, 802, 78)\n",
      "cut image.shape: (153, 161, 78)\n",
      "cut label.shape: (153, 161, 78)\n"
     ]
    },
    {
     "name": "stderr",
     "output_type": "stream",
     "text": [
      " 16%|█▌        | 29/181 [02:39<13:49,  5.46s/it]"
     ]
    },
    {
     "name": "stdout",
     "output_type": "stream",
     "text": [
      "868763 :\n",
      "image shape: (637, 637, 85)\n",
      "uncut image.shape: (637, 637, 85)\n",
      "uncut label.shape: (637, 637, 85)\n",
      "cut image.shape: (157, 165, 85)\n",
      "cut label.shape: (157, 165, 85)\n"
     ]
    },
    {
     "name": "stderr",
     "output_type": "stream",
     "text": [
      " 17%|█▋        | 30/181 [02:45<14:07,  5.61s/it]"
     ]
    },
    {
     "name": "stdout",
     "output_type": "stream",
     "text": [
      "B1678746 :\n",
      "image shape: (565, 565, 85)\n",
      "uncut image.shape: (565, 565, 85)\n",
      "uncut label.shape: (565, 565, 85)\n",
      "cut image.shape: (151, 162, 85)\n",
      "cut label.shape: (151, 162, 85)\n"
     ]
    },
    {
     "name": "stderr",
     "output_type": "stream",
     "text": [
      " 17%|█▋        | 31/181 [02:50<13:41,  5.48s/it]"
     ]
    },
    {
     "name": "stdout",
     "output_type": "stream",
     "text": [
      "B805736 :\n",
      "image shape: (575, 575, 80)\n",
      "uncut image.shape: (575, 575, 80)\n",
      "uncut label.shape: (575, 575, 80)\n",
      "cut image.shape: (157, 158, 80)\n",
      "cut label.shape: (157, 158, 80)\n"
     ]
    },
    {
     "name": "stderr",
     "output_type": "stream",
     "text": [
      " 18%|█▊        | 32/181 [02:55<12:56,  5.21s/it]"
     ]
    },
    {
     "name": "stdout",
     "output_type": "stream",
     "text": [
      "1427578 :\n",
      "image shape: (584, 584, 71)\n",
      "uncut image.shape: (584, 584, 71)\n",
      "uncut label.shape: (584, 584, 71)\n",
      "cut image.shape: (164, 149, 71)\n",
      "cut label.shape: (164, 149, 71)\n"
     ]
    },
    {
     "name": "stderr",
     "output_type": "stream",
     "text": [
      " 18%|█▊        | 33/181 [02:59<11:48,  4.79s/it]"
     ]
    },
    {
     "name": "stdout",
     "output_type": "stream",
     "text": [
      "B669349 :\n",
      "image shape: (579, 579, 63)\n",
      "uncut image.shape: (579, 579, 63)\n",
      "uncut label.shape: (579, 579, 63)\n",
      "cut image.shape: (173, 185, 63)\n",
      "cut label.shape: (173, 185, 63)\n"
     ]
    },
    {
     "name": "stderr",
     "output_type": "stream",
     "text": [
      " 19%|█▉        | 34/181 [03:02<10:51,  4.43s/it]"
     ]
    },
    {
     "name": "stdout",
     "output_type": "stream",
     "text": [
      "1302098 :\n",
      "image shape: (565, 565, 72)\n",
      "uncut image.shape: (565, 565, 72)\n",
      "uncut label.shape: (565, 565, 72)\n",
      "cut image.shape: (161, 168, 72)\n",
      "cut label.shape: (161, 168, 72)\n"
     ]
    },
    {
     "name": "stderr",
     "output_type": "stream",
     "text": [
      " 19%|█▉        | 35/181 [03:06<10:25,  4.28s/it]"
     ]
    },
    {
     "name": "stdout",
     "output_type": "stream",
     "text": [
      "644731 :\n",
      "image shape: (515, 515, 85)\n",
      "uncut image.shape: (515, 515, 85)\n",
      "uncut label.shape: (515, 515, 85)\n",
      "cut image.shape: (157, 191, 85)\n",
      "cut label.shape: (157, 191, 85)\n"
     ]
    },
    {
     "name": "stderr",
     "output_type": "stream",
     "text": [
      " 20%|█▉        | 36/181 [03:10<10:12,  4.23s/it]"
     ]
    },
    {
     "name": "stdout",
     "output_type": "stream",
     "text": [
      "1425167 :\n",
      "image shape: (799, 799, 85)\n",
      "uncut image.shape: (799, 799, 85)\n",
      "uncut label.shape: (799, 799, 85)\n",
      "cut image.shape: (159, 158, 85)\n",
      "cut label.shape: (159, 158, 85)\n"
     ]
    },
    {
     "name": "stderr",
     "output_type": "stream",
     "text": [
      " 20%|██        | 37/181 [03:19<13:26,  5.60s/it]"
     ]
    },
    {
     "name": "stdout",
     "output_type": "stream",
     "text": [
      "1756747 :\n",
      "image shape: (471, 471, 77)\n",
      "uncut image.shape: (471, 471, 77)\n",
      "uncut label.shape: (471, 471, 77)\n",
      "cut image.shape: (161, 172, 77)\n",
      "cut label.shape: (161, 172, 77)\n"
     ]
    },
    {
     "name": "stderr",
     "output_type": "stream",
     "text": [
      " 21%|██        | 38/181 [03:22<11:23,  4.78s/it]"
     ]
    },
    {
     "name": "stdout",
     "output_type": "stream",
     "text": [
      "B1330032 :\n",
      "image shape: (599, 599, 90)\n",
      "uncut image.shape: (599, 599, 90)\n",
      "uncut label.shape: (599, 599, 90)\n",
      "cut image.shape: (155, 154, 90)\n",
      "cut label.shape: (155, 154, 90)\n"
     ]
    },
    {
     "name": "stderr",
     "output_type": "stream",
     "text": [
      " 22%|██▏       | 39/181 [03:27<11:34,  4.89s/it]"
     ]
    },
    {
     "name": "stdout",
     "output_type": "stream",
     "text": [
      "B1694915 :\n",
      "image shape: (637, 637, 77)\n",
      "uncut image.shape: (637, 637, 77)\n",
      "uncut label.shape: (637, 637, 77)\n",
      "cut image.shape: (156, 168, 77)\n",
      "cut label.shape: (156, 168, 77)\n"
     ]
    },
    {
     "name": "stderr",
     "output_type": "stream",
     "text": [
      " 22%|██▏       | 40/181 [03:32<11:41,  4.98s/it]"
     ]
    },
    {
     "name": "stdout",
     "output_type": "stream",
     "text": [
      "843043 :\n",
      "image shape: (657, 657, 69)\n",
      "uncut image.shape: (657, 657, 69)\n",
      "uncut label.shape: (657, 657, 69)\n",
      "cut image.shape: (158, 188, 69)\n",
      "cut label.shape: (158, 188, 69)\n"
     ]
    },
    {
     "name": "stderr",
     "output_type": "stream",
     "text": [
      " 23%|██▎       | 41/181 [03:37<11:44,  5.03s/it]"
     ]
    },
    {
     "name": "stdout",
     "output_type": "stream",
     "text": [
      "B1613978 :\n",
      "image shape: (802, 802, 65)\n",
      "uncut image.shape: (802, 802, 65)\n",
      "uncut label.shape: (802, 802, 65)\n",
      "cut image.shape: (165, 159, 65)\n",
      "cut label.shape: (165, 159, 65)\n"
     ]
    },
    {
     "name": "stderr",
     "output_type": "stream",
     "text": [
      " 23%|██▎       | 42/181 [03:44<12:39,  5.46s/it]"
     ]
    },
    {
     "name": "stdout",
     "output_type": "stream",
     "text": [
      "910568 :\n",
      "image shape: (599, 599, 77)\n",
      "uncut image.shape: (599, 599, 77)\n",
      "uncut label.shape: (599, 599, 77)\n",
      "cut image.shape: (162, 200, 77)\n",
      "cut label.shape: (162, 200, 77)\n"
     ]
    },
    {
     "name": "stderr",
     "output_type": "stream",
     "text": [
      " 24%|██▍       | 43/181 [03:48<11:52,  5.16s/it]"
     ]
    },
    {
     "name": "stdout",
     "output_type": "stream",
     "text": [
      "B1424004 :\n",
      "image shape: (515, 515, 71)\n",
      "uncut image.shape: (515, 515, 71)\n",
      "uncut label.shape: (515, 515, 71)\n",
      "cut image.shape: (157, 194, 71)\n",
      "cut label.shape: (157, 194, 71)\n"
     ]
    },
    {
     "name": "stderr",
     "output_type": "stream",
     "text": [
      " 24%|██▍       | 44/181 [03:52<10:34,  4.63s/it]"
     ]
    },
    {
     "name": "stdout",
     "output_type": "stream",
     "text": [
      "1546477 :\n",
      "image shape: (591, 591, 79)\n",
      "uncut image.shape: (591, 591, 79)\n",
      "uncut label.shape: (591, 591, 79)\n",
      "cut image.shape: (150, 152, 79)\n",
      "cut label.shape: (150, 152, 79)\n"
     ]
    },
    {
     "name": "stderr",
     "output_type": "stream",
     "text": [
      " 25%|██▍       | 45/181 [03:56<10:30,  4.64s/it]"
     ]
    },
    {
     "name": "stdout",
     "output_type": "stream",
     "text": [
      "b824280-dingzi :\n",
      "image shape: (1015, 1015, 85)\n",
      "uncut image.shape: (1015, 1015, 85)\n",
      "uncut label.shape: (1015, 1015, 85)\n",
      "cut image.shape: (189, 157, 85)\n",
      "cut label.shape: (189, 157, 85)\n"
     ]
    },
    {
     "name": "stderr",
     "output_type": "stream",
     "text": [
      " 25%|██▌       | 46/181 [04:10<16:40,  7.41s/it]"
     ]
    },
    {
     "name": "stdout",
     "output_type": "stream",
     "text": [
      "1027338 :\n",
      "image shape: (577, 577, 85)\n",
      "uncut image.shape: (577, 577, 85)\n",
      "uncut label.shape: (577, 577, 85)\n",
      "cut image.shape: (157, 182, 85)\n",
      "cut label.shape: (157, 182, 85)\n"
     ]
    },
    {
     "name": "stderr",
     "output_type": "stream",
     "text": [
      " 26%|██▌       | 47/181 [04:15<14:53,  6.67s/it]"
     ]
    },
    {
     "name": "stdout",
     "output_type": "stream",
     "text": [
      "B1735950 :\n",
      "image shape: (565, 565, 74)\n",
      "uncut image.shape: (565, 565, 74)\n",
      "uncut label.shape: (565, 565, 74)\n",
      "cut image.shape: (162, 156, 74)\n",
      "cut label.shape: (162, 156, 74)\n"
     ]
    },
    {
     "name": "stderr",
     "output_type": "stream",
     "text": [
      " 27%|██▋       | 48/181 [04:19<13:02,  5.88s/it]"
     ]
    },
    {
     "name": "stdout",
     "output_type": "stream",
     "text": [
      "1694915 :\n",
      "image shape: (637, 637, 77)\n",
      "uncut image.shape: (637, 637, 77)\n",
      "uncut label.shape: (637, 637, 77)\n",
      "cut image.shape: (152, 169, 77)\n",
      "cut label.shape: (152, 169, 77)\n"
     ]
    },
    {
     "name": "stderr",
     "output_type": "stream",
     "text": [
      " 27%|██▋       | 49/181 [04:24<12:30,  5.68s/it]"
     ]
    },
    {
     "name": "stdout",
     "output_type": "stream",
     "text": [
      "B1006763 :\n",
      "image shape: (611, 611, 82)\n",
      "uncut image.shape: (611, 611, 82)\n",
      "uncut label.shape: (611, 611, 82)\n",
      "cut image.shape: (165, 180, 82)\n",
      "cut label.shape: (165, 180, 82)\n"
     ]
    },
    {
     "name": "stderr",
     "output_type": "stream",
     "text": [
      " 28%|██▊       | 50/181 [04:30<12:10,  5.57s/it]"
     ]
    },
    {
     "name": "stdout",
     "output_type": "stream",
     "text": [
      "602788 :\n",
      "image shape: (652, 652, 76)\n",
      "uncut image.shape: (652, 652, 76)\n",
      "uncut label.shape: (652, 652, 76)\n",
      "cut image.shape: (154, 210, 76)\n",
      "cut label.shape: (154, 210, 76)\n"
     ]
    },
    {
     "name": "stderr",
     "output_type": "stream",
     "text": [
      " 28%|██▊       | 51/181 [04:35<11:47,  5.44s/it]"
     ]
    },
    {
     "name": "stdout",
     "output_type": "stream",
     "text": [
      "1735950 :\n",
      "image shape: (565, 565, 74)\n",
      "uncut image.shape: (565, 565, 74)\n",
      "uncut label.shape: (565, 565, 74)\n",
      "cut image.shape: (154, 153, 74)\n",
      "cut label.shape: (154, 153, 74)\n"
     ]
    },
    {
     "name": "stderr",
     "output_type": "stream",
     "text": [
      " 29%|██▊       | 52/181 [04:39<10:44,  4.99s/it]"
     ]
    },
    {
     "name": "stdout",
     "output_type": "stream",
     "text": [
      "B1261721 :\n",
      "image shape: (524, 524, 78)\n",
      "uncut image.shape: (524, 524, 78)\n",
      "uncut label.shape: (524, 524, 78)\n",
      "cut image.shape: (162, 199, 78)\n",
      "cut label.shape: (162, 199, 78)\n"
     ]
    },
    {
     "name": "stderr",
     "output_type": "stream",
     "text": [
      " 29%|██▉       | 53/181 [04:43<09:48,  4.60s/it]"
     ]
    },
    {
     "name": "stdout",
     "output_type": "stream",
     "text": [
      "976555 :\n",
      "image shape: (544, 544, 72)\n",
      "uncut image.shape: (544, 544, 72)\n",
      "uncut label.shape: (544, 544, 72)\n",
      "cut image.shape: (160, 170, 72)\n",
      "cut label.shape: (160, 170, 72)\n"
     ]
    },
    {
     "name": "stderr",
     "output_type": "stream",
     "text": [
      " 30%|██▉       | 54/181 [04:46<09:01,  4.26s/it]"
     ]
    },
    {
     "name": "stdout",
     "output_type": "stream",
     "text": [
      "1650523 :\n",
      "image shape: (582, 582, 85)\n",
      "uncut image.shape: (582, 582, 85)\n",
      "uncut label.shape: (582, 582, 85)\n",
      "cut image.shape: (158, 153, 85)\n",
      "cut label.shape: (158, 153, 85)\n"
     ]
    },
    {
     "name": "stderr",
     "output_type": "stream",
     "text": [
      " 30%|███       | 55/181 [04:51<09:10,  4.37s/it]"
     ]
    },
    {
     "name": "stdout",
     "output_type": "stream",
     "text": [
      "B634961 :\n",
      "image shape: (802, 802, 79)\n",
      "uncut image.shape: (802, 802, 79)\n",
      "uncut label.shape: (802, 802, 79)\n",
      "cut image.shape: (166, 156, 79)\n",
      "cut label.shape: (166, 156, 79)\n"
     ]
    },
    {
     "name": "stderr",
     "output_type": "stream",
     "text": [
      " 31%|███       | 56/181 [04:58<11:15,  5.40s/it]"
     ]
    },
    {
     "name": "stdout",
     "output_type": "stream",
     "text": [
      "617407 :\n",
      "image shape: (749, 749, 103)\n",
      "uncut image.shape: (749, 749, 103)\n",
      "uncut label.shape: (749, 749, 103)\n",
      "cut image.shape: (155, 196, 103)\n",
      "cut label.shape: (155, 196, 103)\n"
     ]
    },
    {
     "name": "stderr",
     "output_type": "stream",
     "text": [
      " 31%|███▏      | 57/181 [05:09<14:06,  6.83s/it]"
     ]
    },
    {
     "name": "stdout",
     "output_type": "stream",
     "text": [
      "604203 :\n",
      "image shape: (804, 804, 63)\n",
      "uncut image.shape: (804, 804, 63)\n",
      "uncut label.shape: (804, 804, 63)\n",
      "cut image.shape: (160, 194, 63)\n",
      "cut label.shape: (160, 194, 63)\n"
     ]
    },
    {
     "name": "stderr",
     "output_type": "stream",
     "text": [
      " 32%|███▏      | 58/181 [05:15<13:46,  6.72s/it]"
     ]
    },
    {
     "name": "stdout",
     "output_type": "stream",
     "text": [
      "1071084 :\n",
      "image shape: (577, 577, 85)\n",
      "uncut image.shape: (577, 577, 85)\n",
      "uncut label.shape: (577, 577, 85)\n",
      "cut image.shape: (149, 191, 85)\n",
      "cut label.shape: (149, 191, 85)\n"
     ]
    },
    {
     "name": "stderr",
     "output_type": "stream",
     "text": [
      " 33%|███▎      | 59/181 [05:20<12:37,  6.21s/it]"
     ]
    },
    {
     "name": "stdout",
     "output_type": "stream",
     "text": [
      "617529 :\n",
      "image shape: (611, 611, 88)\n",
      "uncut image.shape: (611, 611, 88)\n",
      "uncut label.shape: (611, 611, 88)\n",
      "cut image.shape: (163, 162, 88)\n",
      "cut label.shape: (163, 162, 88)\n"
     ]
    },
    {
     "name": "stderr",
     "output_type": "stream",
     "text": [
      " 33%|███▎      | 60/181 [05:26<12:03,  5.98s/it]"
     ]
    },
    {
     "name": "stdout",
     "output_type": "stream",
     "text": [
      "877502 :\n",
      "image shape: (703, 703, 70)\n",
      "uncut image.shape: (703, 703, 70)\n",
      "uncut label.shape: (703, 703, 70)\n",
      "cut image.shape: (160, 283, 70)\n",
      "cut label.shape: (160, 283, 70)\n"
     ]
    },
    {
     "name": "stderr",
     "output_type": "stream",
     "text": [
      " 34%|███▎      | 61/181 [05:31<11:53,  5.94s/it]"
     ]
    },
    {
     "name": "stdout",
     "output_type": "stream",
     "text": [
      "B1756747 :\n",
      "image shape: (471, 471, 77)\n",
      "uncut image.shape: (471, 471, 77)\n",
      "uncut label.shape: (471, 471, 77)\n",
      "cut image.shape: (153, 180, 77)\n",
      "cut label.shape: (153, 180, 77)\n"
     ]
    },
    {
     "name": "stderr",
     "output_type": "stream",
     "text": [
      " 34%|███▍      | 62/181 [05:34<09:58,  5.03s/it]"
     ]
    },
    {
     "name": "stdout",
     "output_type": "stream",
     "text": [
      "634961 :\n",
      "image shape: (802, 802, 79)\n",
      "uncut image.shape: (802, 802, 79)\n",
      "uncut label.shape: (802, 802, 79)\n",
      "cut image.shape: (163, 150, 79)\n",
      "cut label.shape: (163, 150, 79)\n"
     ]
    },
    {
     "name": "stderr",
     "output_type": "stream",
     "text": [
      " 35%|███▍      | 63/181 [05:43<11:58,  6.08s/it]"
     ]
    },
    {
     "name": "stdout",
     "output_type": "stream",
     "text": [
      "1767866 :\n",
      "image shape: (616, 616, 75)\n",
      "uncut image.shape: (616, 616, 75)\n",
      "uncut label.shape: (616, 616, 75)\n",
      "cut image.shape: (153, 171, 75)\n",
      "cut label.shape: (153, 171, 75)\n"
     ]
    },
    {
     "name": "stderr",
     "output_type": "stream",
     "text": [
      " 35%|███▌      | 64/181 [05:47<11:01,  5.65s/it]"
     ]
    },
    {
     "name": "stdout",
     "output_type": "stream",
     "text": [
      "B820069 :\n",
      "image shape: (497, 497, 80)\n",
      "uncut image.shape: (497, 497, 80)\n",
      "uncut label.shape: (497, 497, 80)\n",
      "cut image.shape: (149, 175, 80)\n",
      "cut label.shape: (149, 175, 80)\n"
     ]
    },
    {
     "name": "stderr",
     "output_type": "stream",
     "text": [
      " 36%|███▌      | 65/181 [05:51<09:44,  5.04s/it]"
     ]
    },
    {
     "name": "stdout",
     "output_type": "stream",
     "text": [
      "797018 :\n",
      "image shape: (584, 584, 76)\n",
      "uncut image.shape: (584, 584, 76)\n",
      "uncut label.shape: (584, 584, 76)\n",
      "cut image.shape: (156, 158, 76)\n",
      "cut label.shape: (156, 158, 76)\n"
     ]
    },
    {
     "name": "stderr",
     "output_type": "stream",
     "text": [
      " 36%|███▋      | 66/181 [05:55<09:09,  4.77s/it]"
     ]
    },
    {
     "name": "stdout",
     "output_type": "stream",
     "text": [
      "b1433611 :\n",
      "image shape: (799, 799, 65)\n",
      "uncut image.shape: (799, 799, 65)\n",
      "uncut label.shape: (799, 799, 65)\n",
      "cut image.shape: (161, 160, 65)\n",
      "cut label.shape: (161, 160, 65)\n"
     ]
    },
    {
     "name": "stderr",
     "output_type": "stream",
     "text": [
      " 37%|███▋      | 67/181 [06:02<10:12,  5.37s/it]"
     ]
    },
    {
     "name": "stdout",
     "output_type": "stream",
     "text": [
      "759663 :\n",
      "image shape: (521, 521, 85)\n",
      "uncut image.shape: (521, 521, 85)\n",
      "uncut label.shape: (521, 521, 85)\n",
      "cut image.shape: (173, 230, 85)\n",
      "cut label.shape: (173, 230, 85)\n"
     ]
    },
    {
     "name": "stderr",
     "output_type": "stream",
     "text": [
      " 38%|███▊      | 68/181 [06:06<09:25,  5.00s/it]"
     ]
    },
    {
     "name": "stdout",
     "output_type": "stream",
     "text": [
      "1182723 :\n",
      "image shape: (587, 587, 75)\n",
      "uncut image.shape: (587, 587, 75)\n",
      "uncut label.shape: (587, 587, 75)\n",
      "cut image.shape: (159, 211, 75)\n",
      "cut label.shape: (159, 211, 75)\n"
     ]
    },
    {
     "name": "stderr",
     "output_type": "stream",
     "text": [
      " 38%|███▊      | 69/181 [06:11<09:04,  4.86s/it]"
     ]
    },
    {
     "name": "stdout",
     "output_type": "stream",
     "text": [
      "1352900 :\n",
      "image shape: (647, 647, 81)\n",
      "uncut image.shape: (647, 647, 81)\n",
      "uncut label.shape: (647, 647, 81)\n",
      "cut image.shape: (157, 161, 81)\n",
      "cut label.shape: (157, 161, 81)\n"
     ]
    },
    {
     "name": "stderr",
     "output_type": "stream",
     "text": [
      " 39%|███▊      | 70/181 [06:16<09:31,  5.15s/it]"
     ]
    },
    {
     "name": "stdout",
     "output_type": "stream",
     "text": [
      "b1460036-neck :\n",
      "image shape: (500, 500, 63)\n",
      "uncut image.shape: (500, 500, 63)\n",
      "uncut label.shape: (500, 500, 63)\n",
      "cut image.shape: (158, 175, 63)\n",
      "cut label.shape: (158, 175, 63)\n"
     ]
    },
    {
     "name": "stderr",
     "output_type": "stream",
     "text": [
      " 39%|███▉      | 71/181 [06:19<08:14,  4.49s/it]"
     ]
    },
    {
     "name": "stdout",
     "output_type": "stream",
     "text": [
      "B617407 :\n",
      "image shape: (749, 749, 103)\n",
      "uncut image.shape: (749, 749, 103)\n",
      "uncut label.shape: (749, 749, 103)\n",
      "cut image.shape: (165, 197, 103)\n",
      "cut label.shape: (165, 197, 103)\n"
     ]
    },
    {
     "name": "stderr",
     "output_type": "stream",
     "text": [
      " 40%|███▉      | 72/181 [06:29<10:56,  6.02s/it]"
     ]
    },
    {
     "name": "stdout",
     "output_type": "stream",
     "text": [
      "B1546477 :\n",
      "image shape: (591, 591, 79)\n",
      "uncut image.shape: (591, 591, 79)\n",
      "uncut label.shape: (591, 591, 79)\n",
      "cut image.shape: (157, 156, 79)\n",
      "cut label.shape: (157, 156, 79)\n"
     ]
    },
    {
     "name": "stderr",
     "output_type": "stream",
     "text": [
      " 40%|████      | 73/181 [06:34<10:05,  5.61s/it]"
     ]
    },
    {
     "name": "stdout",
     "output_type": "stream",
     "text": [
      "B868763 :\n",
      "image shape: (637, 637, 85)\n",
      "uncut image.shape: (637, 637, 85)\n",
      "uncut label.shape: (637, 637, 85)\n",
      "cut image.shape: (158, 153, 85)\n",
      "cut label.shape: (158, 153, 85)\n"
     ]
    },
    {
     "name": "stderr",
     "output_type": "stream",
     "text": [
      " 41%|████      | 74/181 [06:40<10:06,  5.67s/it]"
     ]
    },
    {
     "name": "stdout",
     "output_type": "stream",
     "text": [
      "B1700637-lumbar :\n",
      "image shape: (478, 478, 95)\n",
      "uncut image.shape: (478, 478, 95)\n",
      "uncut label.shape: (478, 478, 95)\n",
      "cut image.shape: (157, 166, 95)\n",
      "cut label.shape: (157, 166, 95)\n"
     ]
    },
    {
     "name": "stderr",
     "output_type": "stream",
     "text": [
      " 41%|████▏     | 75/181 [06:43<08:54,  5.04s/it]"
     ]
    },
    {
     "name": "stdout",
     "output_type": "stream",
     "text": [
      "b1460036-thoracic :\n",
      "image shape: (799, 799, 164)\n",
      "uncut image.shape: (799, 799, 164)\n",
      "uncut label.shape: (799, 799, 164)\n",
      "cut image.shape: (151, 266, 164)\n",
      "cut label.shape: (151, 266, 164)\n"
     ]
    },
    {
     "name": "stderr",
     "output_type": "stream",
     "text": [
      " 42%|████▏     | 76/181 [07:02<15:54,  9.09s/it]"
     ]
    },
    {
     "name": "stdout",
     "output_type": "stream",
     "text": [
      "1409022-no SC :\n",
      "image shape: (647, 647, 74)\n"
     ]
    },
    {
     "name": "stderr",
     "output_type": "stream",
     "text": [
      " 43%|████▎     | 77/181 [07:04<12:04,  6.96s/it]"
     ]
    },
    {
     "name": "stdout",
     "output_type": "stream",
     "text": [
      "error sample(no dura/SC): 1409022-no SC\n",
      "1328036 :\n",
      "image shape: (599, 599, 93)\n",
      "uncut image.shape: (599, 599, 93)\n",
      "uncut label.shape: (599, 599, 93)\n",
      "cut image.shape: (152, 197, 93)\n",
      "cut label.shape: (152, 197, 93)\n"
     ]
    },
    {
     "name": "stderr",
     "output_type": "stream",
     "text": [
      " 43%|████▎     | 78/181 [07:09<11:08,  6.49s/it]"
     ]
    },
    {
     "name": "stdout",
     "output_type": "stream",
     "text": [
      "987535 :\n",
      "image shape: (561, 561, 68)\n",
      "uncut image.shape: (561, 561, 68)\n",
      "uncut label.shape: (561, 561, 68)\n",
      "cut image.shape: (173, 193, 68)\n",
      "cut label.shape: (173, 193, 68)\n"
     ]
    },
    {
     "name": "stderr",
     "output_type": "stream",
     "text": [
      " 44%|████▎     | 79/181 [07:13<09:38,  5.67s/it]"
     ]
    },
    {
     "name": "stdout",
     "output_type": "stream",
     "text": [
      "1006763 :\n",
      "image shape: (611, 611, 82)\n",
      "uncut image.shape: (611, 611, 82)\n",
      "uncut label.shape: (611, 611, 82)\n",
      "cut image.shape: (155, 194, 82)\n",
      "cut label.shape: (155, 194, 82)\n"
     ]
    },
    {
     "name": "stderr",
     "output_type": "stream",
     "text": [
      " 44%|████▍     | 80/181 [07:19<09:36,  5.71s/it]"
     ]
    },
    {
     "name": "stdout",
     "output_type": "stream",
     "text": [
      "B1713865 :\n",
      "image shape: (575, 575, 77)\n",
      "uncut image.shape: (575, 575, 77)\n",
      "uncut label.shape: (575, 575, 77)\n",
      "cut image.shape: (151, 164, 77)\n",
      "cut label.shape: (151, 164, 77)\n"
     ]
    },
    {
     "name": "stderr",
     "output_type": "stream",
     "text": [
      " 45%|████▍     | 81/181 [07:23<08:48,  5.29s/it]"
     ]
    },
    {
     "name": "stdout",
     "output_type": "stream",
     "text": [
      "B1532418 :\n",
      "image shape: (620, 620, 79)\n",
      "uncut image.shape: (620, 620, 79)\n",
      "uncut label.shape: (620, 620, 79)\n",
      "cut image.shape: (149, 208, 79)\n",
      "cut label.shape: (149, 208, 79)\n"
     ]
    },
    {
     "name": "stderr",
     "output_type": "stream",
     "text": [
      " 45%|████▌     | 82/181 [07:28<08:32,  5.18s/it]"
     ]
    },
    {
     "name": "stdout",
     "output_type": "stream",
     "text": [
      "1333768 :\n",
      "image shape: (802, 802, 71)\n",
      "uncut image.shape: (802, 802, 71)\n",
      "uncut label.shape: (802, 802, 71)\n",
      "cut image.shape: (159, 154, 71)\n",
      "cut label.shape: (159, 154, 71)\n"
     ]
    },
    {
     "name": "stderr",
     "output_type": "stream",
     "text": [
      " 46%|████▌     | 83/181 [07:35<09:20,  5.72s/it]"
     ]
    },
    {
     "name": "stdout",
     "output_type": "stream",
     "text": [
      "928806 :\n",
      "image shape: (527, 527, 82)\n",
      "uncut image.shape: (527, 527, 82)\n",
      "uncut label.shape: (527, 527, 82)\n",
      "cut image.shape: (155, 162, 82)\n",
      "cut label.shape: (155, 162, 82)\n"
     ]
    },
    {
     "name": "stderr",
     "output_type": "stream",
     "text": [
      " 46%|████▋     | 84/181 [07:39<08:17,  5.13s/it]"
     ]
    },
    {
     "name": "stdout",
     "output_type": "stream",
     "text": [
      "b1784289-noexcel :\n",
      "image shape: (558, 558, 79)\n",
      "uncut image.shape: (558, 558, 79)\n",
      "uncut label.shape: (558, 558, 79)\n",
      "cut image.shape: (158, 149, 79)\n",
      "cut label.shape: (158, 149, 79)\n"
     ]
    },
    {
     "name": "stderr",
     "output_type": "stream",
     "text": [
      " 47%|████▋     | 85/181 [07:43<07:43,  4.83s/it]"
     ]
    },
    {
     "name": "stdout",
     "output_type": "stream",
     "text": [
      "B1227957 :\n",
      "image shape: (799, 799, 71)\n",
      "uncut image.shape: (799, 799, 71)\n",
      "uncut label.shape: (799, 799, 71)\n",
      "cut image.shape: (163, 222, 71)\n",
      "cut label.shape: (163, 222, 71)\n"
     ]
    },
    {
     "name": "stderr",
     "output_type": "stream",
     "text": [
      " 48%|████▊     | 86/181 [07:50<08:54,  5.62s/it]"
     ]
    },
    {
     "name": "stdout",
     "output_type": "stream",
     "text": [
      "B1709234 :\n",
      "image shape: (802, 802, 71)\n"
     ]
    },
    {
     "name": "stderr",
     "output_type": "stream",
     "text": [
      " 48%|████▊     | 87/181 [07:53<07:27,  4.76s/it]"
     ]
    },
    {
     "name": "stdout",
     "output_type": "stream",
     "text": [
      "error sample(no dura/SC): B1709234\n",
      "1330032 :\n",
      "image shape: (599, 599, 90)\n",
      "uncut image.shape: (599, 599, 90)\n",
      "uncut label.shape: (599, 599, 90)\n",
      "cut image.shape: (158, 152, 90)\n",
      "cut label.shape: (158, 152, 90)\n"
     ]
    },
    {
     "name": "stderr",
     "output_type": "stream",
     "text": [
      " 49%|████▊     | 88/181 [07:58<07:33,  4.88s/it]"
     ]
    },
    {
     "name": "stdout",
     "output_type": "stream",
     "text": [
      "B1181908 :\n",
      "image shape: (799, 799, 75)\n",
      "uncut image.shape: (799, 799, 75)\n",
      "uncut label.shape: (799, 799, 75)\n",
      "cut image.shape: (152, 173, 75)\n",
      "cut label.shape: (152, 173, 75)\n"
     ]
    },
    {
     "name": "stderr",
     "output_type": "stream",
     "text": [
      " 49%|████▉     | 89/181 [08:06<08:45,  5.71s/it]"
     ]
    },
    {
     "name": "stdout",
     "output_type": "stream",
     "text": [
      "B772230 :\n",
      "image shape: (599, 599, 73)\n",
      "uncut image.shape: (599, 599, 73)\n",
      "uncut label.shape: (599, 599, 73)\n",
      "cut image.shape: (155, 175, 73)\n",
      "cut label.shape: (155, 175, 73)\n"
     ]
    },
    {
     "name": "stderr",
     "output_type": "stream",
     "text": [
      " 50%|████▉     | 90/181 [08:10<08:12,  5.41s/it]"
     ]
    },
    {
     "name": "stdout",
     "output_type": "stream",
     "text": [
      "1613978 :\n",
      "image shape: (802, 802, 65)\n",
      "uncut image.shape: (802, 802, 65)\n",
      "uncut label.shape: (802, 802, 65)\n",
      "cut image.shape: (157, 151, 65)\n",
      "cut label.shape: (157, 151, 65)\n"
     ]
    },
    {
     "name": "stderr",
     "output_type": "stream",
     "text": [
      " 50%|█████     | 91/181 [08:17<08:33,  5.71s/it]"
     ]
    },
    {
     "name": "stdout",
     "output_type": "stream",
     "text": [
      "685245 :\n",
      "image shape: (802, 802, 74)\n",
      "uncut image.shape: (802, 802, 74)\n",
      "uncut label.shape: (802, 802, 74)\n",
      "cut image.shape: (161, 170, 74)\n",
      "cut label.shape: (161, 170, 74)\n"
     ]
    },
    {
     "name": "stderr",
     "output_type": "stream",
     "text": [
      " 51%|█████     | 92/181 [08:24<09:13,  6.22s/it]"
     ]
    },
    {
     "name": "stdout",
     "output_type": "stream",
     "text": [
      "B1650523 :\n",
      "image shape: (582, 582, 85)\n",
      "uncut image.shape: (582, 582, 85)\n",
      "uncut label.shape: (582, 582, 85)\n",
      "cut image.shape: (154, 162, 85)\n",
      "cut label.shape: (154, 162, 85)\n"
     ]
    },
    {
     "name": "stderr",
     "output_type": "stream",
     "text": [
      " 51%|█████▏    | 93/181 [08:29<08:29,  5.79s/it]"
     ]
    },
    {
     "name": "stdout",
     "output_type": "stream",
     "text": [
      "B872077 :\n",
      "image shape: (599, 599, 87)\n",
      "uncut image.shape: (599, 599, 87)\n",
      "uncut label.shape: (599, 599, 87)\n",
      "cut image.shape: (157, 166, 87)\n",
      "cut label.shape: (157, 166, 87)\n"
     ]
    },
    {
     "name": "stderr",
     "output_type": "stream",
     "text": [
      " 52%|█████▏    | 94/181 [08:34<08:03,  5.55s/it]"
     ]
    },
    {
     "name": "stdout",
     "output_type": "stream",
     "text": [
      "614745 :\n",
      "image shape: (802, 802, 71)\n",
      "uncut image.shape: (802, 802, 71)\n",
      "uncut label.shape: (802, 802, 71)\n",
      "cut image.shape: (158, 156, 71)\n",
      "cut label.shape: (158, 156, 71)\n"
     ]
    },
    {
     "name": "stderr",
     "output_type": "stream",
     "text": [
      " 52%|█████▏    | 95/181 [08:41<08:34,  5.98s/it]"
     ]
    },
    {
     "name": "stdout",
     "output_type": "stream",
     "text": [
      "1181908 :\n",
      "image shape: (799, 799, 75)\n",
      "uncut image.shape: (799, 799, 75)\n",
      "uncut label.shape: (799, 799, 75)\n",
      "cut image.shape: (160, 173, 75)\n",
      "cut label.shape: (160, 173, 75)\n"
     ]
    },
    {
     "name": "stderr",
     "output_type": "stream",
     "text": [
      " 53%|█████▎    | 96/181 [08:49<09:12,  6.50s/it]"
     ]
    },
    {
     "name": "stdout",
     "output_type": "stream",
     "text": [
      "1362738 :\n",
      "image shape: (799, 799, 77)\n",
      "uncut image.shape: (799, 799, 77)\n",
      "uncut label.shape: (799, 799, 77)\n",
      "cut image.shape: (157, 187, 77)\n",
      "cut label.shape: (157, 187, 77)\n"
     ]
    },
    {
     "name": "stderr",
     "output_type": "stream",
     "text": [
      " 54%|█████▎    | 97/181 [08:56<09:39,  6.89s/it]"
     ]
    },
    {
     "name": "stdout",
     "output_type": "stream",
     "text": [
      "1204183-dingzi :\n",
      "image shape: (621, 621, 84)\n",
      "uncut image.shape: (621, 621, 84)\n",
      "uncut label.shape: (621, 621, 84)\n",
      "cut image.shape: (152, 162, 84)\n",
      "cut label.shape: (152, 162, 84)\n"
     ]
    },
    {
     "name": "stderr",
     "output_type": "stream",
     "text": [
      " 54%|█████▍    | 98/181 [09:02<08:51,  6.41s/it]"
     ]
    },
    {
     "name": "stdout",
     "output_type": "stream",
     "text": [
      "872077 :\n",
      "image shape: (599, 599, 87)\n",
      "uncut image.shape: (599, 599, 87)\n",
      "uncut label.shape: (599, 599, 87)\n",
      "cut image.shape: (161, 171, 87)\n",
      "cut label.shape: (161, 171, 87)\n"
     ]
    },
    {
     "name": "stderr",
     "output_type": "stream",
     "text": [
      " 55%|█████▍    | 99/181 [09:07<08:10,  5.98s/it]"
     ]
    },
    {
     "name": "stdout",
     "output_type": "stream",
     "text": [
      "1460036-neck :\n",
      "image shape: (500, 500, 63)\n",
      "uncut image.shape: (500, 500, 63)\n",
      "uncut label.shape: (500, 500, 63)\n",
      "cut image.shape: (152, 190, 63)\n",
      "cut label.shape: (152, 190, 63)\n"
     ]
    },
    {
     "name": "stderr",
     "output_type": "stream",
     "text": [
      " 55%|█████▌    | 100/181 [09:10<06:48,  5.05s/it]"
     ]
    },
    {
     "name": "stdout",
     "output_type": "stream",
     "text": [
      "B602788 :\n",
      "image shape: (652, 652, 76)\n",
      "uncut image.shape: (652, 652, 76)\n",
      "uncut label.shape: (652, 652, 76)\n",
      "cut image.shape: (164, 204, 76)\n",
      "cut label.shape: (164, 204, 76)\n"
     ]
    },
    {
     "name": "stderr",
     "output_type": "stream",
     "text": [
      " 56%|█████▌    | 101/181 [09:15<06:46,  5.08s/it]"
     ]
    },
    {
     "name": "stdout",
     "output_type": "stream",
     "text": [
      "B1298116 :\n",
      "image shape: (500, 500, 78)\n",
      "uncut image.shape: (500, 500, 78)\n",
      "uncut label.shape: (500, 500, 78)\n",
      "cut image.shape: (171, 207, 78)\n",
      "cut label.shape: (171, 207, 78)\n"
     ]
    },
    {
     "name": "stderr",
     "output_type": "stream",
     "text": [
      " 56%|█████▋    | 102/181 [09:18<06:01,  4.57s/it]"
     ]
    },
    {
     "name": "stdout",
     "output_type": "stream",
     "text": [
      "b1071084 :\n",
      "image shape: (577, 577, 85)\n",
      "uncut image.shape: (577, 577, 85)\n",
      "uncut label.shape: (577, 577, 85)\n",
      "cut image.shape: (150, 199, 85)\n",
      "cut label.shape: (150, 199, 85)\n"
     ]
    },
    {
     "name": "stderr",
     "output_type": "stream",
     "text": [
      " 57%|█████▋    | 103/181 [09:23<06:02,  4.64s/it]"
     ]
    },
    {
     "name": "stdout",
     "output_type": "stream",
     "text": [
      "B617529 :\n",
      "image shape: (611, 611, 88)\n",
      "uncut image.shape: (611, 611, 88)\n",
      "uncut label.shape: (611, 611, 88)\n",
      "cut image.shape: (159, 156, 88)\n",
      "cut label.shape: (159, 156, 88)\n"
     ]
    },
    {
     "name": "stderr",
     "output_type": "stream",
     "text": [
      " 57%|█████▋    | 104/181 [09:28<06:11,  4.83s/it]"
     ]
    },
    {
     "name": "stdout",
     "output_type": "stream",
     "text": [
      "1018366 :\n",
      "image shape: (674, 674, 95)\n",
      "uncut image.shape: (674, 674, 95)\n",
      "uncut label.shape: (674, 674, 95)\n",
      "cut image.shape: (167, 220, 95)\n",
      "cut label.shape: (167, 220, 95)\n"
     ]
    },
    {
     "name": "stderr",
     "output_type": "stream",
     "text": [
      " 58%|█████▊    | 105/181 [09:36<07:06,  5.61s/it]"
     ]
    },
    {
     "name": "stdout",
     "output_type": "stream",
     "text": [
      "B976555 :\n",
      "image shape: (544, 544, 72)\n",
      "uncut image.shape: (544, 544, 72)\n",
      "uncut label.shape: (544, 544, 72)\n",
      "cut image.shape: (160, 172, 72)\n",
      "cut label.shape: (160, 172, 72)\n"
     ]
    },
    {
     "name": "stderr",
     "output_type": "stream",
     "text": [
      " 59%|█████▊    | 106/181 [09:39<06:15,  5.00s/it]"
     ]
    },
    {
     "name": "stdout",
     "output_type": "stream",
     "text": [
      "945286 :\n",
      "image shape: (599, 599, 81)\n",
      "uncut image.shape: (599, 599, 81)\n",
      "uncut label.shape: (599, 599, 81)\n",
      "cut image.shape: (157, 197, 81)\n",
      "cut label.shape: (157, 197, 81)\n"
     ]
    },
    {
     "name": "stderr",
     "output_type": "stream",
     "text": [
      " 59%|█████▉    | 107/181 [09:44<06:09,  4.99s/it]"
     ]
    },
    {
     "name": "stdout",
     "output_type": "stream",
     "text": [
      "b936932-dingzi :\n",
      "image shape: (799, 799, 85)\n",
      "uncut image.shape: (799, 799, 85)\n",
      "uncut label.shape: (799, 799, 85)\n",
      "cut image.shape: (154, 195, 85)\n",
      "cut label.shape: (154, 195, 85)\n"
     ]
    },
    {
     "name": "stderr",
     "output_type": "stream",
     "text": [
      " 60%|█████▉    | 108/181 [09:53<07:26,  6.11s/it]"
     ]
    },
    {
     "name": "stdout",
     "output_type": "stream",
     "text": [
      "824280-dingzi :\n",
      "image shape: (1015, 1015, 85)\n",
      "uncut image.shape: (1015, 1015, 85)\n",
      "uncut label.shape: (1015, 1015, 85)\n",
      "cut image.shape: (189, 162, 85)\n",
      "cut label.shape: (189, 162, 85)\n"
     ]
    },
    {
     "name": "stderr",
     "output_type": "stream",
     "text": [
      " 60%|██████    | 109/181 [10:07<10:17,  8.58s/it]"
     ]
    },
    {
     "name": "stdout",
     "output_type": "stream",
     "text": [
      "B797018 :\n",
      "image shape: (584, 584, 76)\n",
      "uncut image.shape: (584, 584, 76)\n",
      "uncut label.shape: (584, 584, 76)\n",
      "cut image.shape: (149, 164, 76)\n",
      "cut label.shape: (149, 164, 76)\n"
     ]
    },
    {
     "name": "stderr",
     "output_type": "stream",
     "text": [
      " 61%|██████    | 110/181 [10:11<08:35,  7.26s/it]"
     ]
    },
    {
     "name": "stdout",
     "output_type": "stream",
     "text": [
      "1330821 :\n",
      "image shape: (512, 512, 82)\n",
      "uncut image.shape: (512, 512, 82)\n",
      "uncut label.shape: (512, 512, 82)\n",
      "cut image.shape: (166, 197, 82)\n",
      "cut label.shape: (166, 197, 82)\n"
     ]
    },
    {
     "name": "stderr",
     "output_type": "stream",
     "text": [
      " 61%|██████▏   | 111/181 [10:17<07:49,  6.70s/it]"
     ]
    },
    {
     "name": "stdout",
     "output_type": "stream",
     "text": [
      "669349 :\n",
      "image shape: (579, 579, 63)\n",
      "uncut image.shape: (579, 579, 63)\n",
      "uncut label.shape: (579, 579, 63)\n",
      "cut image.shape: (165, 187, 63)\n",
      "cut label.shape: (165, 187, 63)\n"
     ]
    },
    {
     "name": "stderr",
     "output_type": "stream",
     "text": [
      " 62%|██████▏   | 112/181 [10:21<06:39,  5.79s/it]"
     ]
    },
    {
     "name": "stdout",
     "output_type": "stream",
     "text": [
      "652658 :\n",
      "image shape: (558, 558, 70)\n",
      "uncut image.shape: (558, 558, 70)\n",
      "uncut label.shape: (558, 558, 70)\n",
      "cut image.shape: (158, 154, 70)\n",
      "cut label.shape: (158, 154, 70)\n"
     ]
    },
    {
     "name": "stderr",
     "output_type": "stream",
     "text": [
      " 62%|██████▏   | 113/181 [10:24<05:46,  5.09s/it]"
     ]
    },
    {
     "name": "stdout",
     "output_type": "stream",
     "text": [
      "B1334915-need revision :\n",
      "image shape: (652, 652, 62)\n"
     ]
    },
    {
     "name": "stderr",
     "output_type": "stream",
     "text": [
      " 63%|██████▎   | 114/181 [10:26<04:36,  4.12s/it]"
     ]
    },
    {
     "name": "stdout",
     "output_type": "stream",
     "text": [
      "error sample(shape mismatch): B1334915-need revision\n",
      "1700637-neck :\n",
      "image shape: (512, 512, 61)\n",
      "uncut image.shape: (512, 512, 61)\n",
      "uncut label.shape: (512, 512, 61)\n",
      "cut image.shape: (512, 512, 61)\n",
      "cut label.shape: (512, 512, 61)\n"
     ]
    },
    {
     "name": "stderr",
     "output_type": "stream",
     "text": [
      " 64%|██████▎   | 115/181 [10:32<05:06,  4.65s/it]"
     ]
    },
    {
     "name": "stdout",
     "output_type": "stream",
     "text": [
      "B1536553 :\n",
      "image shape: (625, 625, 85)\n",
      "uncut image.shape: (625, 625, 85)\n",
      "uncut label.shape: (625, 625, 85)\n",
      "cut image.shape: (157, 153, 85)\n",
      "cut label.shape: (157, 153, 85)\n"
     ]
    },
    {
     "name": "stderr",
     "output_type": "stream",
     "text": [
      " 64%|██████▍   | 116/181 [10:37<05:18,  4.90s/it]"
     ]
    },
    {
     "name": "stdout",
     "output_type": "stream",
     "text": [
      "840383 :\n",
      "image shape: (679, 679, 76)\n",
      "uncut image.shape: (679, 679, 76)\n",
      "uncut label.shape: (679, 679, 76)\n",
      "cut image.shape: (171, 233, 76)\n",
      "cut label.shape: (171, 233, 76)\n"
     ]
    },
    {
     "name": "stderr",
     "output_type": "stream",
     "text": [
      " 65%|██████▍   | 117/181 [10:43<05:34,  5.23s/it]"
     ]
    },
    {
     "name": "stdout",
     "output_type": "stream",
     "text": [
      "1247642 :\n",
      "image shape: (700, 700, 71)\n",
      "uncut image.shape: (700, 700, 71)\n",
      "uncut label.shape: (700, 700, 71)\n",
      "cut image.shape: (156, 157, 71)\n",
      "cut label.shape: (156, 157, 71)\n"
     ]
    },
    {
     "name": "stderr",
     "output_type": "stream",
     "text": [
      " 65%|██████▌   | 118/181 [10:49<05:40,  5.41s/it]"
     ]
    },
    {
     "name": "stdout",
     "output_type": "stream",
     "text": [
      "809338 :\n",
      "image shape: (572, 572, 85)\n",
      "uncut image.shape: (572, 572, 85)\n",
      "uncut label.shape: (572, 572, 85)\n",
      "cut image.shape: (163, 155, 85)\n",
      "cut label.shape: (163, 155, 85)\n"
     ]
    },
    {
     "name": "stderr",
     "output_type": "stream",
     "text": [
      " 66%|██████▌   | 119/181 [10:54<05:20,  5.16s/it]"
     ]
    },
    {
     "name": "stdout",
     "output_type": "stream",
     "text": [
      "1334915-neck :\n",
      "image shape: (652, 652, 61)\n",
      "uncut image.shape: (652, 652, 61)\n",
      "uncut label.shape: (652, 652, 61)\n",
      "cut image.shape: (652, 644, 61)\n",
      "cut label.shape: (652, 644, 61)\n"
     ]
    },
    {
     "name": "stderr",
     "output_type": "stream",
     "text": [
      " 66%|██████▋   | 120/181 [11:00<05:46,  5.68s/it]"
     ]
    },
    {
     "name": "stdout",
     "output_type": "stream",
     "text": [
      "1049094 :\n",
      "image shape: (633, 633, 75)\n",
      "uncut image.shape: (633, 633, 75)\n",
      "uncut label.shape: (633, 633, 75)\n",
      "cut image.shape: (156, 265, 75)\n",
      "cut label.shape: (156, 265, 75)\n"
     ]
    },
    {
     "name": "stderr",
     "output_type": "stream",
     "text": [
      " 67%|██████▋   | 121/181 [11:06<05:30,  5.51s/it]"
     ]
    },
    {
     "name": "stdout",
     "output_type": "stream",
     "text": [
      "b1334915-neck :\n",
      "image shape: (652, 652, 62)\n",
      "uncut image.shape: (652, 652, 62)\n",
      "uncut label.shape: (652, 652, 62)\n",
      "cut image.shape: (652, 635, 62)\n",
      "cut label.shape: (652, 635, 62)\n"
     ]
    },
    {
     "name": "stderr",
     "output_type": "stream",
     "text": [
      " 67%|██████▋   | 122/181 [11:13<05:49,  5.93s/it]"
     ]
    },
    {
     "name": "stdout",
     "output_type": "stream",
     "text": [
      "1187634 :\n",
      "image shape: (802, 802, 78)\n",
      "uncut image.shape: (802, 802, 78)\n",
      "uncut label.shape: (802, 802, 78)\n",
      "cut image.shape: (156, 159, 78)\n",
      "cut label.shape: (156, 159, 78)\n"
     ]
    },
    {
     "name": "stderr",
     "output_type": "stream",
     "text": [
      " 68%|██████▊   | 123/181 [11:20<06:16,  6.49s/it]"
     ]
    },
    {
     "name": "stdout",
     "output_type": "stream",
     "text": [
      "B1448326 :\n",
      "image shape: (802, 802, 69)\n",
      "uncut image.shape: (802, 802, 69)\n",
      "uncut label.shape: (802, 802, 69)\n",
      "cut image.shape: (160, 179, 69)\n",
      "cut label.shape: (160, 179, 69)\n"
     ]
    },
    {
     "name": "stderr",
     "output_type": "stream",
     "text": [
      " 69%|██████▊   | 124/181 [11:27<06:15,  6.59s/it]"
     ]
    },
    {
     "name": "stdout",
     "output_type": "stream",
     "text": [
      "B643486 :\n",
      "image shape: (558, 558, 85)\n",
      "uncut image.shape: (558, 558, 85)\n",
      "uncut label.shape: (558, 558, 85)\n",
      "cut image.shape: (165, 152, 85)\n",
      "cut label.shape: (165, 152, 85)\n"
     ]
    },
    {
     "name": "stderr",
     "output_type": "stream",
     "text": [
      " 69%|██████▉   | 125/181 [11:32<05:32,  5.94s/it]"
     ]
    },
    {
     "name": "stdout",
     "output_type": "stream",
     "text": [
      "B1182723 :\n",
      "image shape: (587, 587, 75)\n",
      "uncut image.shape: (587, 587, 75)\n",
      "uncut label.shape: (587, 587, 75)\n",
      "cut image.shape: (148, 207, 75)\n",
      "cut label.shape: (148, 207, 75)\n"
     ]
    },
    {
     "name": "stderr",
     "output_type": "stream",
     "text": [
      " 70%|██████▉   | 126/181 [11:36<05:01,  5.48s/it]"
     ]
    },
    {
     "name": "stdout",
     "output_type": "stream",
     "text": [
      "643486 :\n",
      "image shape: (558, 558, 85)\n",
      "uncut image.shape: (558, 558, 85)\n",
      "uncut label.shape: (558, 558, 85)\n",
      "cut image.shape: (154, 161, 85)\n",
      "cut label.shape: (154, 161, 85)\n"
     ]
    },
    {
     "name": "stderr",
     "output_type": "stream",
     "text": [
      " 70%|███████   | 127/181 [11:41<04:41,  5.20s/it]"
     ]
    },
    {
     "name": "stdout",
     "output_type": "stream",
     "text": [
      "820056 :\n",
      "image shape: (637, 637, 85)\n",
      "uncut image.shape: (637, 637, 85)\n",
      "uncut label.shape: (637, 637, 85)\n",
      "cut image.shape: (159, 149, 85)\n",
      "cut label.shape: (159, 149, 85)\n"
     ]
    },
    {
     "name": "stderr",
     "output_type": "stream",
     "text": [
      " 71%|███████   | 128/181 [11:46<04:45,  5.38s/it]"
     ]
    },
    {
     "name": "stdout",
     "output_type": "stream",
     "text": [
      "1227957 :\n",
      "image shape: (799, 799, 71)\n",
      "uncut image.shape: (799, 799, 71)\n",
      "uncut label.shape: (799, 799, 71)\n",
      "cut image.shape: (152, 217, 71)\n",
      "cut label.shape: (152, 217, 71)\n"
     ]
    },
    {
     "name": "stderr",
     "output_type": "stream",
     "text": [
      " 71%|███████▏  | 129/181 [11:54<05:09,  5.96s/it]"
     ]
    },
    {
     "name": "stdout",
     "output_type": "stream",
     "text": [
      "B1302098 :\n",
      "image shape: (565, 565, 72)\n",
      "uncut image.shape: (565, 565, 72)\n",
      "uncut label.shape: (565, 565, 72)\n",
      "cut image.shape: (157, 164, 72)\n",
      "cut label.shape: (157, 164, 72)\n"
     ]
    },
    {
     "name": "stderr",
     "output_type": "stream",
     "text": [
      " 72%|███████▏  | 130/181 [11:58<04:32,  5.34s/it]"
     ]
    },
    {
     "name": "stdout",
     "output_type": "stream",
     "text": [
      "B1559027 :\n",
      "image shape: (492, 492, 73)\n",
      "uncut image.shape: (492, 492, 73)\n",
      "uncut label.shape: (492, 492, 73)\n",
      "cut image.shape: (161, 184, 73)\n",
      "cut label.shape: (161, 184, 73)\n"
     ]
    },
    {
     "name": "stderr",
     "output_type": "stream",
     "text": [
      " 72%|███████▏  | 131/181 [12:01<03:52,  4.64s/it]"
     ]
    },
    {
     "name": "stdout",
     "output_type": "stream",
     "text": [
      "B652658 :\n",
      "image shape: (558, 558, 70)\n",
      "uncut image.shape: (558, 558, 70)\n",
      "uncut label.shape: (558, 558, 70)\n",
      "cut image.shape: (155, 154, 70)\n",
      "cut label.shape: (155, 154, 70)\n"
     ]
    },
    {
     "name": "stderr",
     "output_type": "stream",
     "text": [
      " 73%|███████▎  | 132/181 [12:04<03:31,  4.32s/it]"
     ]
    },
    {
     "name": "stdout",
     "output_type": "stream",
     "text": [
      "B1328036 :\n",
      "image shape: (599, 599, 93)\n",
      "uncut image.shape: (599, 599, 93)\n",
      "uncut label.shape: (599, 599, 93)\n",
      "cut image.shape: (164, 196, 93)\n",
      "cut label.shape: (164, 196, 93)\n"
     ]
    },
    {
     "name": "stderr",
     "output_type": "stream",
     "text": [
      " 73%|███████▎  | 133/181 [12:10<03:43,  4.66s/it]"
     ]
    },
    {
     "name": "stdout",
     "output_type": "stream",
     "text": [
      "B928647 :\n",
      "image shape: (614, 614, 75)\n",
      "uncut image.shape: (614, 614, 75)\n",
      "uncut label.shape: (614, 614, 75)\n",
      "cut image.shape: (152, 190, 75)\n",
      "cut label.shape: (152, 190, 75)\n"
     ]
    },
    {
     "name": "stderr",
     "output_type": "stream",
     "text": [
      " 74%|███████▍  | 134/181 [12:14<03:37,  4.64s/it]"
     ]
    },
    {
     "name": "stdout",
     "output_type": "stream",
     "text": [
      "B685245 :\n",
      "image shape: (802, 802, 74)\n",
      "uncut image.shape: (802, 802, 74)\n",
      "uncut label.shape: (802, 802, 74)\n",
      "cut image.shape: (152, 174, 74)\n",
      "cut label.shape: (152, 174, 74)\n"
     ]
    },
    {
     "name": "stderr",
     "output_type": "stream",
     "text": [
      " 75%|███████▍  | 135/181 [12:22<04:11,  5.46s/it]"
     ]
    },
    {
     "name": "stdout",
     "output_type": "stream",
     "text": [
      "1532418 :\n",
      "image shape: (620, 620, 79)\n",
      "uncut image.shape: (620, 620, 79)\n",
      "uncut label.shape: (620, 620, 79)\n",
      "cut image.shape: (154, 208, 79)\n",
      "cut label.shape: (154, 208, 79)\n"
     ]
    },
    {
     "name": "stderr",
     "output_type": "stream",
     "text": [
      " 75%|███████▌  | 136/181 [12:26<03:57,  5.27s/it]"
     ]
    },
    {
     "name": "stdout",
     "output_type": "stream",
     "text": [
      "1700637 :\n",
      "image shape: (478, 478, 95)\n",
      "uncut image.shape: (478, 478, 95)\n",
      "uncut label.shape: (478, 478, 95)\n",
      "cut image.shape: (156, 155, 95)\n",
      "cut label.shape: (156, 155, 95)\n"
     ]
    },
    {
     "name": "stderr",
     "output_type": "stream",
     "text": [
      " 76%|███████▌  | 137/181 [12:30<03:28,  4.75s/it]"
     ]
    },
    {
     "name": "stdout",
     "output_type": "stream",
     "text": [
      "1198882 :\n",
      "image shape: (802, 802, 88)\n",
      "uncut image.shape: (802, 802, 88)\n",
      "uncut label.shape: (802, 802, 88)\n",
      "cut image.shape: (159, 155, 88)\n",
      "cut label.shape: (159, 155, 88)\n"
     ]
    },
    {
     "name": "stderr",
     "output_type": "stream",
     "text": [
      " 76%|███████▌  | 138/181 [12:39<04:19,  6.03s/it]"
     ]
    },
    {
     "name": "stdout",
     "output_type": "stream",
     "text": [
      "b930124 :\n",
      "image shape: (611, 611, 79)\n",
      "uncut image.shape: (611, 611, 79)\n",
      "uncut label.shape: (611, 611, 79)\n",
      "cut image.shape: (159, 171, 79)\n",
      "cut label.shape: (159, 171, 79)\n"
     ]
    },
    {
     "name": "stderr",
     "output_type": "stream",
     "text": [
      " 77%|███████▋  | 139/181 [12:44<04:00,  5.72s/it]"
     ]
    },
    {
     "name": "stdout",
     "output_type": "stream",
     "text": [
      "b1171704-neck :\n",
      "image shape: (500, 500, 61)\n",
      "uncut image.shape: (500, 500, 61)\n",
      "uncut label.shape: (500, 500, 61)\n",
      "cut image.shape: (162, 170, 61)\n",
      "cut label.shape: (162, 170, 61)\n"
     ]
    },
    {
     "name": "stderr",
     "output_type": "stream",
     "text": [
      " 77%|███████▋  | 140/181 [12:47<03:18,  4.84s/it]"
     ]
    },
    {
     "name": "stdout",
     "output_type": "stream",
     "text": [
      "b1729235-noexcel :\n",
      "image shape: (599, 599, 102)\n",
      "uncut image.shape: (599, 599, 102)\n",
      "uncut label.shape: (599, 599, 102)\n",
      "cut image.shape: (153, 158, 102)\n",
      "cut label.shape: (153, 158, 102)\n"
     ]
    },
    {
     "name": "stderr",
     "output_type": "stream",
     "text": [
      " 78%|███████▊  | 141/181 [12:53<03:27,  5.19s/it]"
     ]
    },
    {
     "name": "stdout",
     "output_type": "stream",
     "text": [
      "B1521755 :\n",
      "image shape: (582, 582, 85)\n",
      "uncut image.shape: (582, 582, 85)\n",
      "uncut label.shape: (582, 582, 85)\n",
      "cut image.shape: (157, 162, 85)\n",
      "cut label.shape: (157, 162, 85)\n"
     ]
    },
    {
     "name": "stderr",
     "output_type": "stream",
     "text": [
      " 78%|███████▊  | 142/181 [12:57<03:17,  5.05s/it]"
     ]
    },
    {
     "name": "stdout",
     "output_type": "stream",
     "text": [
      "B1352900 :\n",
      "image shape: (647, 647, 81)\n",
      "uncut image.shape: (647, 647, 81)\n",
      "uncut label.shape: (647, 647, 81)\n",
      "cut image.shape: (162, 155, 81)\n",
      "cut label.shape: (162, 155, 81)\n"
     ]
    },
    {
     "name": "stderr",
     "output_type": "stream",
     "text": [
      " 79%|███████▉  | 143/181 [13:03<03:19,  5.26s/it]"
     ]
    },
    {
     "name": "stdout",
     "output_type": "stream",
     "text": [
      "B1409022 :\n",
      "image shape: (647, 647, 74)\n"
     ]
    },
    {
     "name": "stderr",
     "output_type": "stream",
     "text": [
      " 80%|███████▉  | 144/181 [13:05<02:38,  4.28s/it]"
     ]
    },
    {
     "name": "stdout",
     "output_type": "stream",
     "text": [
      "error sample(no dura/SC): B1409022\n",
      "1658899 :\n",
      "image shape: (799, 799, 68)\n",
      "uncut image.shape: (799, 799, 68)\n",
      "uncut label.shape: (799, 799, 68)\n",
      "cut image.shape: (152, 273, 68)\n",
      "cut label.shape: (152, 273, 68)\n"
     ]
    },
    {
     "name": "stderr",
     "output_type": "stream",
     "text": [
      " 80%|████████  | 145/181 [13:13<03:08,  5.25s/it]"
     ]
    },
    {
     "name": "stdout",
     "output_type": "stream",
     "text": [
      "B910568 :\n",
      "image shape: (599, 599, 77)\n",
      "uncut image.shape: (599, 599, 77)\n",
      "uncut label.shape: (599, 599, 77)\n",
      "cut image.shape: (164, 195, 77)\n",
      "cut label.shape: (164, 195, 77)\n"
     ]
    },
    {
     "name": "stderr",
     "output_type": "stream",
     "text": [
      " 81%|████████  | 146/181 [13:18<03:02,  5.22s/it]"
     ]
    },
    {
     "name": "stdout",
     "output_type": "stream",
     "text": [
      "B1362738 :\n",
      "image shape: (799, 799, 77)\n",
      "uncut image.shape: (799, 799, 77)\n",
      "uncut label.shape: (799, 799, 77)\n",
      "cut image.shape: (157, 181, 77)\n",
      "cut label.shape: (157, 181, 77)\n"
     ]
    },
    {
     "name": "stderr",
     "output_type": "stream",
     "text": [
      " 81%|████████  | 147/181 [13:26<03:26,  6.07s/it]"
     ]
    },
    {
     "name": "stdout",
     "output_type": "stream",
     "text": [
      "928647 :\n",
      "image shape: (614, 614, 75)\n",
      "uncut image.shape: (614, 614, 75)\n",
      "uncut label.shape: (614, 614, 75)\n",
      "cut image.shape: (147, 196, 75)\n",
      "cut label.shape: (147, 196, 75)\n"
     ]
    },
    {
     "name": "stderr",
     "output_type": "stream",
     "text": [
      " 82%|████████▏ | 148/181 [13:30<03:04,  5.60s/it]"
     ]
    },
    {
     "name": "stdout",
     "output_type": "stream",
     "text": [
      "B877502 :\n",
      "image shape: (703, 703, 70)\n",
      "uncut image.shape: (703, 703, 70)\n",
      "uncut label.shape: (703, 703, 70)\n",
      "cut image.shape: (161, 291, 70)\n",
      "cut label.shape: (161, 291, 70)\n"
     ]
    },
    {
     "name": "stderr",
     "output_type": "stream",
     "text": [
      " 82%|████████▏ | 149/181 [13:36<03:02,  5.69s/it]"
     ]
    },
    {
     "name": "stdout",
     "output_type": "stream",
     "text": [
      "1521755 :\n",
      "image shape: (582, 582, 85)\n",
      "uncut image.shape: (582, 582, 85)\n",
      "uncut label.shape: (582, 582, 85)\n",
      "cut image.shape: (163, 157, 85)\n",
      "cut label.shape: (163, 157, 85)\n"
     ]
    },
    {
     "name": "stderr",
     "output_type": "stream",
     "text": [
      " 83%|████████▎ | 150/181 [13:41<02:48,  5.43s/it]"
     ]
    },
    {
     "name": "stdout",
     "output_type": "stream",
     "text": [
      "b1198882 :\n",
      "image shape: (802, 802, 88)\n",
      "uncut image.shape: (802, 802, 88)\n",
      "uncut label.shape: (802, 802, 88)\n",
      "cut image.shape: (156, 154, 88)\n",
      "cut label.shape: (156, 154, 88)\n"
     ]
    },
    {
     "name": "stderr",
     "output_type": "stream",
     "text": [
      " 83%|████████▎ | 151/181 [13:50<03:13,  6.44s/it]"
     ]
    },
    {
     "name": "stdout",
     "output_type": "stream",
     "text": [
      "1784289-no excel :\n",
      "image shape: (558, 558, 79)\n",
      "uncut image.shape: (558, 558, 79)\n",
      "uncut label.shape: (558, 558, 79)\n",
      "cut image.shape: (159, 152, 79)\n",
      "cut label.shape: (159, 152, 79)\n"
     ]
    },
    {
     "name": "stderr",
     "output_type": "stream",
     "text": [
      " 84%|████████▍ | 152/181 [13:54<02:45,  5.69s/it]"
     ]
    },
    {
     "name": "stdout",
     "output_type": "stream",
     "text": [
      "B970380 :\n",
      "image shape: (577, 577, 74)\n",
      "uncut image.shape: (577, 577, 74)\n",
      "uncut label.shape: (577, 577, 74)\n",
      "cut image.shape: (161, 164, 74)\n",
      "cut label.shape: (161, 164, 74)\n"
     ]
    },
    {
     "name": "stderr",
     "output_type": "stream",
     "text": [
      " 85%|████████▍ | 153/181 [13:58<02:26,  5.25s/it]"
     ]
    },
    {
     "name": "stdout",
     "output_type": "stream",
     "text": [
      "B1272415 :\n",
      "image shape: (599, 599, 102)\n",
      "uncut image.shape: (599, 599, 102)\n",
      "uncut label.shape: (599, 599, 102)\n",
      "cut image.shape: (150, 218, 102)\n",
      "cut label.shape: (150, 218, 102)\n"
     ]
    },
    {
     "name": "stderr",
     "output_type": "stream",
     "text": [
      " 85%|████████▌ | 154/181 [14:04<02:27,  5.47s/it]"
     ]
    },
    {
     "name": "stdout",
     "output_type": "stream",
     "text": [
      "B1247642 :\n",
      "image shape: (700, 700, 71)\n",
      "uncut image.shape: (700, 700, 71)\n",
      "uncut label.shape: (700, 700, 71)\n",
      "cut image.shape: (155, 154, 71)\n",
      "cut label.shape: (155, 154, 71)\n"
     ]
    },
    {
     "name": "stderr",
     "output_type": "stream",
     "text": [
      " 86%|████████▌ | 155/181 [14:10<02:23,  5.52s/it]"
     ]
    },
    {
     "name": "stdout",
     "output_type": "stream",
     "text": [
      "1424004 :\n",
      "image shape: (515, 515, 71)\n",
      "uncut image.shape: (515, 515, 71)\n",
      "uncut label.shape: (515, 515, 71)\n",
      "cut image.shape: (159, 195, 71)\n",
      "cut label.shape: (159, 195, 71)\n"
     ]
    },
    {
     "name": "stderr",
     "output_type": "stream",
     "text": [
      " 86%|████████▌ | 156/181 [14:13<02:04,  4.99s/it]"
     ]
    },
    {
     "name": "stdout",
     "output_type": "stream",
     "text": [
      "1448326 :\n",
      "image shape: (802, 802, 69)\n",
      "uncut image.shape: (802, 802, 69)\n",
      "uncut label.shape: (802, 802, 69)\n",
      "cut image.shape: (154, 174, 69)\n",
      "cut label.shape: (154, 174, 69)\n"
     ]
    },
    {
     "name": "stderr",
     "output_type": "stream",
     "text": [
      " 87%|████████▋ | 157/181 [14:21<02:15,  5.63s/it]"
     ]
    },
    {
     "name": "stdout",
     "output_type": "stream",
     "text": [
      "772230 :\n",
      "image shape: (599, 599, 73)\n",
      "uncut image.shape: (599, 599, 73)\n",
      "uncut label.shape: (599, 599, 73)\n",
      "cut image.shape: (158, 171, 73)\n",
      "cut label.shape: (158, 171, 73)\n"
     ]
    },
    {
     "name": "stderr",
     "output_type": "stream",
     "text": [
      " 87%|████████▋ | 158/181 [14:25<02:00,  5.22s/it]"
     ]
    },
    {
     "name": "stdout",
     "output_type": "stream",
     "text": [
      "B945286-dingzi :\n",
      "image shape: (599, 599, 81)\n",
      "uncut image.shape: (599, 599, 81)\n",
      "uncut label.shape: (599, 599, 81)\n",
      "cut image.shape: (157, 194, 81)\n",
      "cut label.shape: (157, 194, 81)\n"
     ]
    },
    {
     "name": "stderr",
     "output_type": "stream",
     "text": [
      " 88%|████████▊ | 159/181 [14:30<01:53,  5.14s/it]"
     ]
    },
    {
     "name": "stdout",
     "output_type": "stream",
     "text": [
      "1272415 :\n",
      "image shape: (599, 599, 102)\n",
      "uncut image.shape: (599, 599, 102)\n",
      "uncut label.shape: (599, 599, 102)\n",
      "cut image.shape: (159, 218, 102)\n",
      "cut label.shape: (159, 218, 102)\n"
     ]
    },
    {
     "name": "stderr",
     "output_type": "stream",
     "text": [
      " 88%|████████▊ | 160/181 [14:36<01:54,  5.45s/it]"
     ]
    },
    {
     "name": "stdout",
     "output_type": "stream",
     "text": [
      "B840383 :\n",
      "image shape: (679, 679, 76)\n",
      "uncut image.shape: (679, 679, 76)\n",
      "uncut label.shape: (679, 679, 76)\n",
      "cut image.shape: (173, 238, 76)\n",
      "cut label.shape: (173, 238, 76)\n"
     ]
    },
    {
     "name": "stderr",
     "output_type": "stream",
     "text": [
      " 89%|████████▉ | 161/181 [14:42<01:52,  5.64s/it]"
     ]
    },
    {
     "name": "stdout",
     "output_type": "stream",
     "text": [
      "1460036-thoracic :\n",
      "image shape: (799, 799, 164)\n",
      "uncut image.shape: (799, 799, 164)\n",
      "uncut label.shape: (799, 799, 164)\n",
      "cut image.shape: (150, 257, 164)\n",
      "cut label.shape: (150, 257, 164)\n"
     ]
    },
    {
     "name": "stderr",
     "output_type": "stream",
     "text": [
      " 90%|████████▉ | 162/181 [15:01<03:01,  9.55s/it]"
     ]
    },
    {
     "name": "stdout",
     "output_type": "stream",
     "text": [
      "B1658899 :\n",
      "image shape: (799, 799, 68)\n",
      "uncut image.shape: (799, 799, 68)\n",
      "uncut label.shape: (799, 799, 68)\n",
      "cut image.shape: (156, 268, 68)\n",
      "cut label.shape: (156, 268, 68)\n"
     ]
    },
    {
     "name": "stderr",
     "output_type": "stream",
     "text": [
      " 90%|█████████ | 163/181 [15:08<02:38,  8.80s/it]"
     ]
    },
    {
     "name": "stdout",
     "output_type": "stream",
     "text": [
      "b1204183-dingzi :\n",
      "image shape: (621, 621, 84)\n",
      "uncut image.shape: (621, 621, 84)\n",
      "uncut label.shape: (621, 621, 84)\n",
      "cut image.shape: (161, 155, 84)\n",
      "cut label.shape: (161, 155, 84)\n"
     ]
    },
    {
     "name": "stderr",
     "output_type": "stream",
     "text": [
      " 91%|█████████ | 164/181 [15:13<02:11,  7.76s/it]"
     ]
    },
    {
     "name": "stdout",
     "output_type": "stream",
     "text": [
      "B928806 :\n",
      "image shape: (527, 527, 82)\n",
      "uncut image.shape: (527, 527, 82)\n",
      "uncut label.shape: (527, 527, 82)\n",
      "cut image.shape: (153, 158, 82)\n",
      "cut label.shape: (153, 158, 82)\n"
     ]
    },
    {
     "name": "stderr",
     "output_type": "stream",
     "text": [
      " 91%|█████████ | 165/181 [15:17<01:44,  6.56s/it]"
     ]
    },
    {
     "name": "stdout",
     "output_type": "stream",
     "text": [
      "1678746 :\n",
      "image shape: (565, 565, 85)\n",
      "uncut image.shape: (565, 565, 85)\n",
      "uncut label.shape: (565, 565, 85)\n",
      "cut image.shape: (155, 169, 85)\n",
      "cut label.shape: (155, 169, 85)\n"
     ]
    },
    {
     "name": "stderr",
     "output_type": "stream",
     "text": [
      " 92%|█████████▏| 166/181 [15:21<01:29,  5.98s/it]"
     ]
    },
    {
     "name": "stdout",
     "output_type": "stream",
     "text": [
      "B1767866 :\n",
      "image shape: (616, 616, 75)\n",
      "uncut image.shape: (616, 616, 75)\n",
      "uncut label.shape: (616, 616, 75)\n",
      "cut image.shape: (160, 171, 75)\n",
      "cut label.shape: (160, 171, 75)\n"
     ]
    },
    {
     "name": "stderr",
     "output_type": "stream",
     "text": [
      " 92%|█████████▏| 167/181 [15:26<01:17,  5.52s/it]"
     ]
    },
    {
     "name": "stdout",
     "output_type": "stream",
     "text": [
      "820069 :\n",
      "image shape: (497, 497, 80)\n",
      "uncut image.shape: (497, 497, 80)\n",
      "uncut label.shape: (497, 497, 80)\n",
      "cut image.shape: (152, 171, 80)\n",
      "cut label.shape: (152, 171, 80)\n"
     ]
    },
    {
     "name": "stderr",
     "output_type": "stream",
     "text": [
      " 93%|█████████▎| 168/181 [15:30<01:04,  4.97s/it]"
     ]
    },
    {
     "name": "stdout",
     "output_type": "stream",
     "text": [
      "b1427578 :\n",
      "image shape: (584, 584, 71)\n",
      "uncut image.shape: (584, 584, 71)\n",
      "uncut label.shape: (584, 584, 71)\n",
      "cut image.shape: (162, 157, 71)\n",
      "cut label.shape: (162, 157, 71)\n"
     ]
    },
    {
     "name": "stderr",
     "output_type": "stream",
     "text": [
      " 93%|█████████▎| 169/181 [15:34<00:55,  4.66s/it]"
     ]
    },
    {
     "name": "stdout",
     "output_type": "stream",
     "text": [
      "1729235-noexcel :\n",
      "image shape: (599, 599, 102)\n",
      "uncut image.shape: (599, 599, 102)\n",
      "uncut label.shape: (599, 599, 102)\n",
      "cut image.shape: (157, 157, 102)\n",
      "cut label.shape: (157, 157, 102)\n"
     ]
    },
    {
     "name": "stderr",
     "output_type": "stream",
     "text": [
      " 94%|█████████▍| 170/181 [15:40<00:55,  5.09s/it]"
     ]
    },
    {
     "name": "stdout",
     "output_type": "stream",
     "text": [
      "970380 :\n",
      "image shape: (577, 577, 74)\n",
      "uncut image.shape: (577, 577, 74)\n",
      "uncut label.shape: (577, 577, 74)\n",
      "cut image.shape: (160, 169, 74)\n",
      "cut label.shape: (160, 169, 74)\n"
     ]
    },
    {
     "name": "stderr",
     "output_type": "stream",
     "text": [
      " 94%|█████████▍| 171/181 [15:44<00:48,  4.83s/it]"
     ]
    },
    {
     "name": "stdout",
     "output_type": "stream",
     "text": [
      "b1700637-neck :\n",
      "image shape: (512, 512, 62)\n",
      "uncut image.shape: (512, 512, 62)\n",
      "uncut label.shape: (512, 512, 62)\n",
      "cut image.shape: (512, 512, 62)\n",
      "cut label.shape: (512, 512, 62)\n"
     ]
    },
    {
     "name": "stderr",
     "output_type": "stream",
     "text": [
      " 95%|█████████▌| 172/181 [15:50<00:45,  5.10s/it]"
     ]
    },
    {
     "name": "stdout",
     "output_type": "stream",
     "text": [
      "b1371504 :\n",
      "image shape: (633, 633, 85)\n",
      "uncut image.shape: (633, 633, 85)\n",
      "uncut label.shape: (633, 633, 85)\n",
      "cut image.shape: (160, 153, 85)\n",
      "cut label.shape: (160, 153, 85)\n"
     ]
    },
    {
     "name": "stderr",
     "output_type": "stream",
     "text": [
      " 96%|█████████▌| 173/181 [15:55<00:42,  5.30s/it]"
     ]
    },
    {
     "name": "stdout",
     "output_type": "stream",
     "text": [
      "1536553 :\n",
      "image shape: (625, 625, 85)\n",
      "uncut image.shape: (625, 625, 85)\n",
      "uncut label.shape: (625, 625, 85)\n",
      "cut image.shape: (159, 155, 85)\n",
      "cut label.shape: (159, 155, 85)\n"
     ]
    },
    {
     "name": "stderr",
     "output_type": "stream",
     "text": [
      " 96%|█████████▌| 174/181 [16:01<00:37,  5.39s/it]"
     ]
    },
    {
     "name": "stdout",
     "output_type": "stream",
     "text": [
      "B845929 :\n",
      "image shape: (799, 799, 92)\n",
      "uncut image.shape: (799, 799, 92)\n",
      "uncut label.shape: (799, 799, 92)\n",
      "cut image.shape: (158, 187, 92)\n",
      "cut label.shape: (158, 187, 92)\n"
     ]
    },
    {
     "name": "stderr",
     "output_type": "stream",
     "text": [
      " 97%|█████████▋| 175/181 [16:11<00:39,  6.63s/it]"
     ]
    },
    {
     "name": "stdout",
     "output_type": "stream",
     "text": [
      "B1425167 :\n",
      "image shape: (799, 799, 85)\n",
      "uncut image.shape: (799, 799, 85)\n",
      "uncut label.shape: (799, 799, 85)\n",
      "cut image.shape: (157, 153, 85)\n",
      "cut label.shape: (157, 153, 85)\n"
     ]
    },
    {
     "name": "stderr",
     "output_type": "stream",
     "text": [
      " 97%|█████████▋| 176/181 [16:19<00:36,  7.33s/it]"
     ]
    },
    {
     "name": "stdout",
     "output_type": "stream",
     "text": [
      "1713865 :\n",
      "image shape: (575, 575, 77)\n",
      "uncut image.shape: (575, 575, 77)\n",
      "uncut label.shape: (575, 575, 77)\n",
      "cut image.shape: (156, 165, 77)\n",
      "cut label.shape: (156, 165, 77)\n"
     ]
    },
    {
     "name": "stderr",
     "output_type": "stream",
     "text": [
      " 98%|█████████▊| 177/181 [16:24<00:25,  6.44s/it]"
     ]
    },
    {
     "name": "stdout",
     "output_type": "stream",
     "text": [
      "B820056 :\n",
      "image shape: (637, 637, 85)\n",
      "uncut image.shape: (637, 637, 85)\n",
      "uncut label.shape: (637, 637, 85)\n",
      "cut image.shape: (158, 158, 85)\n",
      "cut label.shape: (158, 158, 85)\n"
     ]
    },
    {
     "name": "stderr",
     "output_type": "stream",
     "text": [
      " 98%|█████████▊| 178/181 [16:30<00:18,  6.28s/it]"
     ]
    },
    {
     "name": "stdout",
     "output_type": "stream",
     "text": [
      "B809338 :\n",
      "image shape: (572, 572, 85)\n",
      "uncut image.shape: (572, 572, 85)\n",
      "uncut label.shape: (572, 572, 85)\n",
      "cut image.shape: (168, 155, 85)\n",
      "cut label.shape: (168, 155, 85)\n"
     ]
    },
    {
     "name": "stderr",
     "output_type": "stream",
     "text": [
      " 99%|█████████▉| 179/181 [16:34<00:11,  5.75s/it]"
     ]
    },
    {
     "name": "stdout",
     "output_type": "stream",
     "text": [
      "930124 :\n",
      "image shape: (611, 611, 79)\n",
      "uncut image.shape: (611, 611, 79)\n",
      "uncut label.shape: (611, 611, 79)\n",
      "cut image.shape: (159, 169, 79)\n",
      "cut label.shape: (159, 169, 79)\n"
     ]
    },
    {
     "name": "stderr",
     "output_type": "stream",
     "text": [
      " 99%|█████████▉| 180/181 [16:39<00:05,  5.48s/it]"
     ]
    },
    {
     "name": "stdout",
     "output_type": "stream",
     "text": [
      "1298116 :\n",
      "image shape: (500, 500, 78)\n",
      "uncut image.shape: (500, 500, 78)\n",
      "uncut label.shape: (500, 500, 78)\n",
      "cut image.shape: (176, 212, 78)\n",
      "cut label.shape: (176, 212, 78)\n"
     ]
    },
    {
     "name": "stderr",
     "output_type": "stream",
     "text": [
      "100%|██████████| 181/181 [16:42<00:00,  5.54s/it]\n"
     ]
    },
    {
     "name": "stdout",
     "output_type": "stream",
     "text": [
      "total number of seg-samples: 181\n",
      "unseg dataset:\n"
     ]
    },
    {
     "name": "stderr",
     "output_type": "stream",
     "text": [
      "  0%|          | 0/212 [00:00<?, ?it/s]"
     ]
    },
    {
     "name": "stdout",
     "output_type": "stream",
     "text": [
      "1559027 :\n",
      "image shape: (492, 492, 73)\n"
     ]
    },
    {
     "name": "stderr",
     "output_type": "stream",
     "text": [
      "  0%|          | 1/212 [00:01<06:17,  1.79s/it]"
     ]
    },
    {
     "name": "stdout",
     "output_type": "stream",
     "text": [
      "610558 :\n",
      "image shape: (802, 802, 72)\n"
     ]
    },
    {
     "name": "stderr",
     "output_type": "stream",
     "text": [
      "  1%|          | 2/212 [00:05<08:47,  2.51s/it]"
     ]
    },
    {
     "name": "stdout",
     "output_type": "stream",
     "text": [
      "1450355 :\n",
      "image shape: (799, 799, 72)\n"
     ]
    },
    {
     "name": "stderr",
     "output_type": "stream",
     "text": [
      "  1%|▏         | 3/212 [00:10<10:37,  3.05s/it]"
     ]
    },
    {
     "name": "stdout",
     "output_type": "stream",
     "text": [
      "b1203609 :\n",
      "image shape: (645, 645, 78)\n"
     ]
    },
    {
     "name": "stderr",
     "output_type": "stream",
     "text": [
      "  2%|▏         | 4/212 [00:13<11:01,  3.18s/it]"
     ]
    },
    {
     "name": "stdout",
     "output_type": "stream",
     "text": [
      "1363637-dingzi :\n",
      "image shape: (584, 584, 75)\n"
     ]
    },
    {
     "name": "stderr",
     "output_type": "stream",
     "text": [
      "  2%|▏         | 5/212 [00:16<10:24,  3.02s/it]"
     ]
    },
    {
     "name": "stdout",
     "output_type": "stream",
     "text": [
      "936932-dingzi :\n",
      "image shape: (799, 799, 85)\n"
     ]
    },
    {
     "name": "stderr",
     "output_type": "stream",
     "text": [
      "  3%|▎         | 6/212 [00:35<27:15,  7.94s/it]"
     ]
    },
    {
     "name": "stdout",
     "output_type": "stream",
     "text": [
      "b1424004 :\n",
      "image shape: (515, 515, 71)\n"
     ]
    },
    {
     "name": "stderr",
     "output_type": "stream",
     "text": [
      "  3%|▎         | 7/212 [00:44<28:21,  8.30s/it]"
     ]
    },
    {
     "name": "stdout",
     "output_type": "stream",
     "text": [
      "b1613978 :\n",
      "image shape: (802, 802, 65)\n"
     ]
    },
    {
     "name": "stderr",
     "output_type": "stream",
     "text": [
      "  4%|▍         | 8/212 [01:05<40:45, 11.99s/it]"
     ]
    },
    {
     "name": "stdout",
     "output_type": "stream",
     "text": [
      "1632110 :\n",
      "image shape: (666, 666, 79)\n"
     ]
    },
    {
     "name": "stderr",
     "output_type": "stream",
     "text": [
      "  4%|▍         | 9/212 [01:11<34:06, 10.08s/it]"
     ]
    },
    {
     "name": "stdout",
     "output_type": "stream",
     "text": [
      "1673882 :\n",
      "image shape: (628, 628, 85)\n"
     ]
    },
    {
     "name": "stderr",
     "output_type": "stream",
     "text": [
      "  5%|▍         | 10/212 [01:14<27:11,  8.08s/it]"
     ]
    },
    {
     "name": "stdout",
     "output_type": "stream",
     "text": [
      "B1685560-lumbar :\n",
      "image shape: (625, 625, 151)\n"
     ]
    },
    {
     "name": "stderr",
     "output_type": "stream",
     "text": [
      "  5%|▌         | 11/212 [01:21<25:44,  7.69s/it]"
     ]
    },
    {
     "name": "stdout",
     "output_type": "stream",
     "text": [
      "b1709234 :\n",
      "image shape: (802, 802, 71)\n"
     ]
    },
    {
     "name": "stderr",
     "output_type": "stream",
     "text": [
      "  6%|▌         | 12/212 [01:26<23:05,  6.93s/it]"
     ]
    },
    {
     "name": "stdout",
     "output_type": "stream",
     "text": [
      "b1271054 :\n",
      "image shape: (678, 678, 79)\n"
     ]
    },
    {
     "name": "stderr",
     "output_type": "stream",
     "text": [
      "  6%|▌         | 13/212 [01:30<20:00,  6.03s/it]"
     ]
    },
    {
     "name": "stdout",
     "output_type": "stream",
     "text": [
      "b1467719 :\n",
      "image shape: (637, 637, 80)\n"
     ]
    },
    {
     "name": "stderr",
     "output_type": "stream",
     "text": [
      "  7%|▋         | 14/212 [01:33<17:13,  5.22s/it]"
     ]
    },
    {
     "name": "stdout",
     "output_type": "stream",
     "text": [
      "b1265385 :\n",
      "image shape: (599, 599, 65)\n"
     ]
    },
    {
     "name": "stderr",
     "output_type": "stream",
     "text": [
      "  7%|▋         | 15/212 [01:36<14:12,  4.33s/it]"
     ]
    },
    {
     "name": "stdout",
     "output_type": "stream",
     "text": [
      "b1694915 :\n",
      "image shape: (637, 637, 77)\n"
     ]
    },
    {
     "name": "stderr",
     "output_type": "stream",
     "text": [
      "  8%|▊         | 16/212 [01:39<13:07,  4.02s/it]"
     ]
    },
    {
     "name": "stdout",
     "output_type": "stream",
     "text": [
      "1271054 :\n",
      "image shape: (678, 678, 79)\n"
     ]
    },
    {
     "name": "stderr",
     "output_type": "stream",
     "text": [
      "  8%|▊         | 17/212 [01:42<12:34,  3.87s/it]"
     ]
    },
    {
     "name": "stdout",
     "output_type": "stream",
     "text": [
      "1709234 :\n",
      "image shape: (802, 802, 71)\n"
     ]
    },
    {
     "name": "stderr",
     "output_type": "stream",
     "text": [
      "  8%|▊         | 18/212 [01:47<13:28,  4.17s/it]"
     ]
    },
    {
     "name": "stdout",
     "output_type": "stream",
     "text": [
      "b1227957 :\n",
      "image shape: (799, 799, 71)\n"
     ]
    },
    {
     "name": "stderr",
     "output_type": "stream",
     "text": [
      "  9%|▉         | 19/212 [01:52<14:20,  4.46s/it]"
     ]
    },
    {
     "name": "stdout",
     "output_type": "stream",
     "text": [
      "1261721 :\n",
      "image shape: (515, 515, 71)\n"
     ]
    },
    {
     "name": "stderr",
     "output_type": "stream",
     "text": [
      "  9%|▉         | 20/212 [01:55<12:13,  3.82s/it]"
     ]
    },
    {
     "name": "stdout",
     "output_type": "stream",
     "text": [
      "1148448 :\n",
      "image shape: (565, 565, 75)\n"
     ]
    },
    {
     "name": "stderr",
     "output_type": "stream",
     "text": [
      " 10%|▉         | 21/212 [01:57<11:02,  3.47s/it]"
     ]
    },
    {
     "name": "stdout",
     "output_type": "stream",
     "text": [
      "1171704-neck :\n",
      "image shape: (500, 500, 61)\n"
     ]
    },
    {
     "name": "stderr",
     "output_type": "stream",
     "text": [
      " 10%|█         | 22/212 [01:59<09:31,  3.01s/it]"
     ]
    },
    {
     "name": "stdout",
     "output_type": "stream",
     "text": [
      "b1148448 :\n",
      "image shape: (565, 565, 75)\n"
     ]
    },
    {
     "name": "stderr",
     "output_type": "stream",
     "text": [
      " 11%|█         | 23/212 [02:02<09:00,  2.86s/it]"
     ]
    },
    {
     "name": "stdout",
     "output_type": "stream",
     "text": [
      "B1700637-neck :\n",
      "image shape: (512, 512, 62)\n"
     ]
    },
    {
     "name": "stderr",
     "output_type": "stream",
     "text": [
      " 11%|█▏        | 24/212 [02:04<08:15,  2.64s/it]"
     ]
    },
    {
     "name": "stdout",
     "output_type": "stream",
     "text": [
      "b1006763 :\n",
      "image shape: (611, 611, 82)\n"
     ]
    },
    {
     "name": "stderr",
     "output_type": "stream",
     "text": [
      " 12%|█▏        | 25/212 [02:08<09:19,  2.99s/it]"
     ]
    },
    {
     "name": "stdout",
     "output_type": "stream",
     "text": [
      "1775169 :\n",
      "image shape: (483, 483, 60)\n"
     ]
    },
    {
     "name": "stderr",
     "output_type": "stream",
     "text": [
      " 12%|█▏        | 26/212 [02:09<07:52,  2.54s/it]"
     ]
    },
    {
     "name": "stdout",
     "output_type": "stream",
     "text": [
      "b1049094 :\n",
      "image shape: (490, 490, 73)\n"
     ]
    },
    {
     "name": "stderr",
     "output_type": "stream",
     "text": [
      " 13%|█▎        | 27/212 [02:11<07:33,  2.45s/it]"
     ]
    },
    {
     "name": "stdout",
     "output_type": "stream",
     "text": [
      "1747816 :\n",
      "image shape: (703, 703, 84)\n"
     ]
    },
    {
     "name": "stderr",
     "output_type": "stream",
     "text": [
      " 13%|█▎        | 28/212 [02:16<09:44,  3.18s/it]"
     ]
    },
    {
     "name": "stdout",
     "output_type": "stream",
     "text": [
      "b1330821 :\n",
      "image shape: (512, 512, 82)\n"
     ]
    },
    {
     "name": "stderr",
     "output_type": "stream",
     "text": [
      " 14%|█▎        | 29/212 [02:19<09:18,  3.05s/it]"
     ]
    },
    {
     "name": "stdout",
     "output_type": "stream",
     "text": [
      "b1330032 :\n",
      "image shape: (599, 599, 90)\n"
     ]
    },
    {
     "name": "stderr",
     "output_type": "stream",
     "text": [
      " 14%|█▍        | 30/212 [02:23<09:46,  3.22s/it]"
     ]
    },
    {
     "name": "stdout",
     "output_type": "stream",
     "text": [
      "1690196 :\n",
      "image shape: (599, 599, 72)\n"
     ]
    },
    {
     "name": "stderr",
     "output_type": "stream",
     "text": [
      " 15%|█▍        | 31/212 [02:25<09:02,  3.00s/it]"
     ]
    },
    {
     "name": "stdout",
     "output_type": "stream",
     "text": [
      "b1327352 :\n",
      "image shape: (577, 577, 80)\n"
     ]
    },
    {
     "name": "stderr",
     "output_type": "stream",
     "text": [
      " 15%|█▌        | 32/212 [02:28<08:49,  2.94s/it]"
     ]
    },
    {
     "name": "stdout",
     "output_type": "stream",
     "text": [
      "b1333768 :\n",
      "image shape: (630, 630, 63)\n"
     ]
    },
    {
     "name": "stderr",
     "output_type": "stream",
     "text": [
      " 16%|█▌        | 33/212 [02:31<08:47,  2.95s/it]"
     ]
    },
    {
     "name": "stdout",
     "output_type": "stream",
     "text": [
      "1366651 :\n",
      "image shape: (534, 534, 79)\n"
     ]
    },
    {
     "name": "stderr",
     "output_type": "stream",
     "text": [
      " 16%|█▌        | 34/212 [02:33<08:20,  2.81s/it]"
     ]
    },
    {
     "name": "stdout",
     "output_type": "stream",
     "text": [
      "b1747816 :\n",
      "image shape: (703, 703, 84)\n"
     ]
    },
    {
     "name": "stderr",
     "output_type": "stream",
     "text": [
      " 17%|█▋        | 35/212 [02:39<10:24,  3.53s/it]"
     ]
    },
    {
     "name": "stdout",
     "output_type": "stream",
     "text": [
      "b1597431 :\n",
      "image shape: (647, 647, 99)\n"
     ]
    },
    {
     "name": "stderr",
     "output_type": "stream",
     "text": [
      " 17%|█▋        | 36/212 [02:44<11:48,  4.03s/it]"
     ]
    },
    {
     "name": "stdout",
     "output_type": "stream",
     "text": [
      "b1362738 :\n",
      "image shape: (611, 611, 82)\n"
     ]
    },
    {
     "name": "stderr",
     "output_type": "stream",
     "text": [
      " 17%|█▋        | 37/212 [02:48<11:29,  3.94s/it]"
     ]
    },
    {
     "name": "stdout",
     "output_type": "stream",
     "text": [
      "1583550 :\n",
      "image shape: (486, 486, 78)\n"
     ]
    },
    {
     "name": "stderr",
     "output_type": "stream",
     "text": [
      " 18%|█▊        | 38/212 [02:50<09:45,  3.37s/it]"
     ]
    },
    {
     "name": "stdout",
     "output_type": "stream",
     "text": [
      "b1700637 :\n",
      "image shape: (478, 478, 95)\n"
     ]
    },
    {
     "name": "stderr",
     "output_type": "stream",
     "text": [
      " 18%|█▊        | 39/212 [02:52<08:59,  3.12s/it]"
     ]
    },
    {
     "name": "stdout",
     "output_type": "stream",
     "text": [
      "b1610657 :\n",
      "image shape: (464, 464, 73)\n"
     ]
    },
    {
     "name": "stderr",
     "output_type": "stream",
     "text": [
      " 19%|█▉        | 40/212 [02:54<08:05,  2.82s/it]"
     ]
    },
    {
     "name": "stdout",
     "output_type": "stream",
     "text": [
      "1302098 :\n",
      "image shape: (565, 565, 72)\n"
     ]
    },
    {
     "name": "stderr",
     "output_type": "stream",
     "text": [
      " 19%|█▉        | 41/212 [02:57<07:50,  2.75s/it]"
     ]
    },
    {
     "name": "stdout",
     "output_type": "stream",
     "text": [
      "b1612086 :\n",
      "image shape: (802, 802, 68)\n"
     ]
    },
    {
     "name": "stderr",
     "output_type": "stream",
     "text": [
      " 20%|█▉        | 42/212 [03:02<09:59,  3.52s/it]"
     ]
    },
    {
     "name": "stdout",
     "output_type": "stream",
     "text": [
      "B1102588-dingzi :\n",
      "image shape: (519, 519, 180)\n"
     ]
    },
    {
     "name": "stderr",
     "output_type": "stream",
     "text": [
      " 20%|██        | 43/212 [03:09<12:21,  4.39s/it]"
     ]
    },
    {
     "name": "stdout",
     "output_type": "stream",
     "text": [
      "b1450355 :\n",
      "image shape: (799, 799, 72)\n"
     ]
    },
    {
     "name": "stderr",
     "output_type": "stream",
     "text": [
      " 21%|██        | 44/212 [03:14<13:20,  4.76s/it]"
     ]
    },
    {
     "name": "stdout",
     "output_type": "stream",
     "text": [
      "1425167 :\n",
      "image shape: (799, 799, 85)\n"
     ]
    },
    {
     "name": "stderr",
     "output_type": "stream",
     "text": [
      " 21%|██        | 45/212 [03:20<14:26,  5.19s/it]"
     ]
    },
    {
     "name": "stdout",
     "output_type": "stream",
     "text": [
      "1373427 :\n",
      "image shape: (606, 606, 84)\n"
     ]
    },
    {
     "name": "stderr",
     "output_type": "stream",
     "text": [
      " 22%|██▏       | 46/212 [03:24<12:53,  4.66s/it]"
     ]
    },
    {
     "name": "stdout",
     "output_type": "stream",
     "text": [
      "1756747 :\n",
      "image shape: (471, 471, 77)\n"
     ]
    },
    {
     "name": "stderr",
     "output_type": "stream",
     "text": [
      " 22%|██▏       | 47/212 [03:26<10:30,  3.82s/it]"
     ]
    },
    {
     "name": "stdout",
     "output_type": "stream",
     "text": [
      "b1272415 :\n",
      "image shape: (599, 599, 102)\n"
     ]
    },
    {
     "name": "stderr",
     "output_type": "stream",
     "text": [
      " 23%|██▎       | 48/212 [03:30<10:48,  3.96s/it]"
     ]
    },
    {
     "name": "stdout",
     "output_type": "stream",
     "text": [
      "1123189 :\n",
      "image shape: (799, 799, 69)\n"
     ]
    },
    {
     "name": "stderr",
     "output_type": "stream",
     "text": [
      " 23%|██▎       | 49/212 [03:35<11:38,  4.28s/it]"
     ]
    },
    {
     "name": "stdout",
     "output_type": "stream",
     "text": [
      "b1756747 :\n",
      "image shape: (471, 471, 77)\n"
     ]
    },
    {
     "name": "stderr",
     "output_type": "stream",
     "text": [
      " 24%|██▎       | 50/212 [03:37<09:42,  3.59s/it]"
     ]
    },
    {
     "name": "stdout",
     "output_type": "stream",
     "text": [
      "b1302098 :\n",
      "image shape: (565, 565, 72)\n"
     ]
    },
    {
     "name": "stderr",
     "output_type": "stream",
     "text": [
      " 24%|██▍       | 51/212 [03:40<09:00,  3.36s/it]"
     ]
    },
    {
     "name": "stdout",
     "output_type": "stream",
     "text": [
      "b1475355 :\n",
      "image shape: (647, 647, 71)\n"
     ]
    },
    {
     "name": "stderr",
     "output_type": "stream",
     "text": [
      " 25%|██▍       | 52/212 [03:43<09:05,  3.41s/it]"
     ]
    },
    {
     "name": "stdout",
     "output_type": "stream",
     "text": [
      "1273842 :\n",
      "image shape: (558, 558, 79)\n"
     ]
    },
    {
     "name": "stderr",
     "output_type": "stream",
     "text": [
      " 25%|██▌       | 53/212 [03:46<08:22,  3.16s/it]"
     ]
    },
    {
     "name": "stdout",
     "output_type": "stream",
     "text": [
      "1612086 :\n",
      "image shape: (802, 802, 68)\n"
     ]
    },
    {
     "name": "stderr",
     "output_type": "stream",
     "text": [
      " 25%|██▌       | 54/212 [03:51<09:29,  3.60s/it]"
     ]
    },
    {
     "name": "stdout",
     "output_type": "stream",
     "text": [
      "b824280-dingzi :\n",
      "image shape: (1015, 1015, 85)\n"
     ]
    },
    {
     "name": "stderr",
     "output_type": "stream",
     "text": [
      " 26%|██▌       | 55/212 [04:01<15:10,  5.80s/it]"
     ]
    },
    {
     "name": "stdout",
     "output_type": "stream",
     "text": [
      "b1775169 :\n",
      "image shape: (483, 483, 60)\n"
     ]
    },
    {
     "name": "stderr",
     "output_type": "stream",
     "text": [
      " 26%|██▋       | 56/212 [04:03<11:52,  4.57s/it]"
     ]
    },
    {
     "name": "stdout",
     "output_type": "stream",
     "text": [
      "1027338 :\n",
      "image shape: (577, 577, 85)\n"
     ]
    },
    {
     "name": "stderr",
     "output_type": "stream",
     "text": [
      " 27%|██▋       | 57/212 [04:06<10:38,  4.12s/it]"
     ]
    },
    {
     "name": "stdout",
     "output_type": "stream",
     "text": [
      "b1232165 :\n",
      "image shape: (799, 799, 92)\n"
     ]
    },
    {
     "name": "stderr",
     "output_type": "stream",
     "text": [
      " 27%|██▋       | 58/212 [04:13<12:55,  5.03s/it]"
     ]
    },
    {
     "name": "stdout",
     "output_type": "stream",
     "text": [
      "b1254343 :\n",
      "image shape: (633, 633, 85)\n"
     ]
    },
    {
     "name": "stderr",
     "output_type": "stream",
     "text": [
      " 28%|██▊       | 59/212 [04:18<12:21,  4.85s/it]"
     ]
    },
    {
     "name": "stdout",
     "output_type": "stream",
     "text": [
      "b1396101 :\n",
      "image shape: (799, 799, 77)\n"
     ]
    },
    {
     "name": "stderr",
     "output_type": "stream",
     "text": [
      " 28%|██▊       | 60/212 [04:24<13:20,  5.26s/it]"
     ]
    },
    {
     "name": "stdout",
     "output_type": "stream",
     "text": [
      "b1658899 :\n",
      "image shape: (799, 799, 68)\n"
     ]
    },
    {
     "name": "stderr",
     "output_type": "stream",
     "text": [
      " 29%|██▉       | 61/212 [04:29<13:02,  5.18s/it]"
     ]
    },
    {
     "name": "stdout",
     "output_type": "stream",
     "text": [
      "1694915 :\n",
      "image shape: (637, 637, 77)\n"
     ]
    },
    {
     "name": "stderr",
     "output_type": "stream",
     "text": [
      " 29%|██▉       | 62/212 [04:32<11:30,  4.61s/it]"
     ]
    },
    {
     "name": "stdout",
     "output_type": "stream",
     "text": [
      "b1771895 :\n",
      "image shape: (445, 445, 64)\n"
     ]
    },
    {
     "name": "stderr",
     "output_type": "stream",
     "text": [
      " 30%|██▉       | 63/212 [04:34<09:06,  3.67s/it]"
     ]
    },
    {
     "name": "stdout",
     "output_type": "stream",
     "text": [
      "603501 :\n",
      "image shape: (628, 628, 85)\n"
     ]
    },
    {
     "name": "stderr",
     "output_type": "stream",
     "text": [
      " 30%|███       | 64/212 [04:38<09:11,  3.72s/it]"
     ]
    },
    {
     "name": "stdout",
     "output_type": "stream",
     "text": [
      "b1583550 :\n",
      "image shape: (486, 486, 78)\n"
     ]
    },
    {
     "name": "stderr",
     "output_type": "stream",
     "text": [
      " 31%|███       | 65/212 [04:40<08:01,  3.28s/it]"
     ]
    },
    {
     "name": "stdout",
     "output_type": "stream",
     "text": [
      "b1602447 :\n",
      "image shape: (640, 640, 73)\n"
     ]
    },
    {
     "name": "stderr",
     "output_type": "stream",
     "text": [
      " 31%|███       | 66/212 [04:44<08:18,  3.41s/it]"
     ]
    },
    {
     "name": "stdout",
     "output_type": "stream",
     "text": [
      "b1671660 :\n",
      "image shape: (799, 799, 85)\n"
     ]
    },
    {
     "name": "stderr",
     "output_type": "stream",
     "text": [
      " 32%|███▏      | 67/212 [04:50<10:26,  4.32s/it]"
     ]
    },
    {
     "name": "stdout",
     "output_type": "stream",
     "text": [
      "b1738413 :\n",
      "image shape: (599, 599, 82)\n"
     ]
    },
    {
     "name": "stderr",
     "output_type": "stream",
     "text": [
      " 32%|███▏      | 68/212 [04:53<09:28,  3.95s/it]"
     ]
    },
    {
     "name": "stdout",
     "output_type": "stream",
     "text": [
      "b1632110 :\n",
      "image shape: (666, 666, 79)\n"
     ]
    },
    {
     "name": "stderr",
     "output_type": "stream",
     "text": [
      " 33%|███▎      | 69/212 [04:58<09:45,  4.09s/it]"
     ]
    },
    {
     "name": "stdout",
     "output_type": "stream",
     "text": [
      "1650523 :\n",
      "image shape: (582, 582, 85)\n"
     ]
    },
    {
     "name": "stderr",
     "output_type": "stream",
     "text": [
      " 33%|███▎      | 70/212 [05:01<09:00,  3.80s/it]"
     ]
    },
    {
     "name": "stdout",
     "output_type": "stream",
     "text": [
      "1654026 :\n",
      "image shape: (799, 799, 71)\n"
     ]
    },
    {
     "name": "stderr",
     "output_type": "stream",
     "text": [
      " 33%|███▎      | 71/212 [05:05<09:34,  4.07s/it]"
     ]
    },
    {
     "name": "stdout",
     "output_type": "stream",
     "text": [
      "B664822 :\n",
      "image shape: (724, 724, 107)\n"
     ]
    },
    {
     "name": "stderr",
     "output_type": "stream",
     "text": [
      " 34%|███▍      | 72/212 [05:13<11:39,  5.00s/it]"
     ]
    },
    {
     "name": "stdout",
     "output_type": "stream",
     "text": [
      "b1547418 :\n",
      "image shape: (534, 534, 85)\n"
     ]
    },
    {
     "name": "stderr",
     "output_type": "stream",
     "text": [
      " 34%|███▍      | 73/212 [05:16<10:09,  4.39s/it]"
     ]
    },
    {
     "name": "stdout",
     "output_type": "stream",
     "text": [
      "1254343 :\n",
      "image shape: (633, 633, 85)\n"
     ]
    },
    {
     "name": "stderr",
     "output_type": "stream",
     "text": [
      " 35%|███▍      | 74/212 [05:20<09:51,  4.29s/it]"
     ]
    },
    {
     "name": "stdout",
     "output_type": "stream",
     "text": [
      "1327352 :\n",
      "image shape: (577, 577, 80)\n"
     ]
    },
    {
     "name": "stderr",
     "output_type": "stream",
     "text": [
      " 35%|███▌      | 75/212 [05:22<08:37,  3.78s/it]"
     ]
    },
    {
     "name": "stdout",
     "output_type": "stream",
     "text": [
      "1532717 :\n",
      "image shape: (468, 468, 82)\n"
     ]
    },
    {
     "name": "stderr",
     "output_type": "stream",
     "text": [
      " 36%|███▌      | 76/212 [05:24<07:32,  3.33s/it]"
     ]
    },
    {
     "name": "stdout",
     "output_type": "stream",
     "text": [
      "b1261721 :\n",
      "image shape: (515, 515, 71)\n"
     ]
    },
    {
     "name": "stderr",
     "output_type": "stream",
     "text": [
      " 36%|███▋      | 77/212 [05:27<06:57,  3.10s/it]"
     ]
    },
    {
     "name": "stdout",
     "output_type": "stream",
     "text": [
      "b1539233 :\n",
      "image shape: (671, 671, 78)\n"
     ]
    },
    {
     "name": "stderr",
     "output_type": "stream",
     "text": [
      " 37%|███▋      | 78/212 [05:31<07:37,  3.41s/it]"
     ]
    },
    {
     "name": "stdout",
     "output_type": "stream",
     "text": [
      "b1486880 :\n",
      "image shape: (604, 604, 64)\n"
     ]
    },
    {
     "name": "stderr",
     "output_type": "stream",
     "text": [
      " 37%|███▋      | 79/212 [05:34<07:09,  3.23s/it]"
     ]
    },
    {
     "name": "stdout",
     "output_type": "stream",
     "text": [
      "b1279071 :\n",
      "image shape: (478, 478, 72)\n"
     ]
    },
    {
     "name": "stderr",
     "output_type": "stream",
     "text": [
      " 38%|███▊      | 80/212 [05:36<06:16,  2.85s/it]"
     ]
    },
    {
     "name": "stdout",
     "output_type": "stream",
     "text": [
      "b1448326 :\n",
      "image shape: (802, 802, 69)\n"
     ]
    },
    {
     "name": "stderr",
     "output_type": "stream",
     "text": [
      " 38%|███▊      | 81/212 [05:41<07:51,  3.60s/it]"
     ]
    },
    {
     "name": "stdout",
     "output_type": "stream",
     "text": [
      "b1755610 :\n",
      "image shape: (671, 671, 85)\n"
     ]
    },
    {
     "name": "stderr",
     "output_type": "stream",
     "text": [
      " 39%|███▊      | 82/212 [05:46<08:26,  3.90s/it]"
     ]
    },
    {
     "name": "stdout",
     "output_type": "stream",
     "text": [
      "b1336587-dingzi :\n",
      "image shape: (555, 555, 71)\n"
     ]
    },
    {
     "name": "stderr",
     "output_type": "stream",
     "text": [
      " 39%|███▉      | 83/212 [05:48<07:31,  3.50s/it]"
     ]
    },
    {
     "name": "stdout",
     "output_type": "stream",
     "text": [
      "1771895 :\n",
      "image shape: (445, 445, 64)\n"
     ]
    },
    {
     "name": "stderr",
     "output_type": "stream",
     "text": [
      " 40%|███▉      | 84/212 [05:50<06:06,  2.86s/it]"
     ]
    },
    {
     "name": "stdout",
     "output_type": "stream",
     "text": [
      "1203609 :\n",
      "image shape: (645, 645, 78)\n"
     ]
    },
    {
     "name": "stderr",
     "output_type": "stream",
     "text": [
      " 40%|████      | 85/212 [05:53<06:34,  3.10s/it]"
     ]
    },
    {
     "name": "stdout",
     "output_type": "stream",
     "text": [
      "b1587213 :\n",
      "image shape: (645, 645, 94)\n"
     ]
    },
    {
     "name": "stderr",
     "output_type": "stream",
     "text": [
      " 41%|████      | 86/212 [05:58<07:38,  3.64s/it]"
     ]
    },
    {
     "name": "stdout",
     "output_type": "stream",
     "text": [
      "1182723 :\n",
      "image shape: (587, 587, 75)\n"
     ]
    },
    {
     "name": "stderr",
     "output_type": "stream",
     "text": [
      " 41%|████      | 87/212 [06:01<07:06,  3.41s/it]"
     ]
    },
    {
     "name": "stdout",
     "output_type": "stream",
     "text": [
      "b1551933 :\n",
      "image shape: (799, 799, 72)\n"
     ]
    },
    {
     "name": "stderr",
     "output_type": "stream",
     "text": [
      " 42%|████▏     | 88/212 [06:07<08:24,  4.07s/it]"
     ]
    },
    {
     "name": "stdout",
     "output_type": "stream",
     "text": [
      "b1240266 :\n",
      "image shape: (625, 625, 105)\n"
     ]
    },
    {
     "name": "stderr",
     "output_type": "stream",
     "text": [
      " 42%|████▏     | 89/212 [06:12<08:51,  4.32s/it]"
     ]
    },
    {
     "name": "stdout",
     "output_type": "stream",
     "text": [
      "B671376 :\n",
      "image shape: (695, 695, 104)\n"
     ]
    },
    {
     "name": "stderr",
     "output_type": "stream",
     "text": [
      " 42%|████▏     | 90/212 [06:18<09:55,  4.88s/it]"
     ]
    },
    {
     "name": "stdout",
     "output_type": "stream",
     "text": [
      "774851-2 :\n",
      "image shape: (599, 599, 82)\n"
     ]
    },
    {
     "name": "stderr",
     "output_type": "stream",
     "text": [
      " 43%|████▎     | 91/212 [06:21<08:43,  4.33s/it]"
     ]
    },
    {
     "name": "stdout",
     "output_type": "stream",
     "text": [
      "b1460036-neck :\n",
      "image shape: (500, 500, 63)\n"
     ]
    },
    {
     "name": "stderr",
     "output_type": "stream",
     "text": [
      " 43%|████▎     | 92/212 [06:23<07:13,  3.61s/it]"
     ]
    },
    {
     "name": "stdout",
     "output_type": "stream",
     "text": [
      "1045971 :\n",
      "image shape: (471, 471, 75)\n"
     ]
    },
    {
     "name": "stderr",
     "output_type": "stream",
     "text": [
      " 44%|████▍     | 93/212 [06:25<06:13,  3.14s/it]"
     ]
    },
    {
     "name": "stdout",
     "output_type": "stream",
     "text": [
      "1475355 :\n",
      "image shape: (647, 647, 71)\n"
     ]
    },
    {
     "name": "stderr",
     "output_type": "stream",
     "text": [
      " 44%|████▍     | 94/212 [06:28<06:17,  3.20s/it]"
     ]
    },
    {
     "name": "stdout",
     "output_type": "stream",
     "text": [
      "1328036 :\n",
      "image shape: (599, 599, 93)\n"
     ]
    },
    {
     "name": "stderr",
     "output_type": "stream",
     "text": [
      " 45%|████▍     | 95/212 [06:32<06:26,  3.30s/it]"
     ]
    },
    {
     "name": "stdout",
     "output_type": "stream",
     "text": [
      "b1536553 :\n",
      "image shape: (625, 625, 85)\n"
     ]
    },
    {
     "name": "stderr",
     "output_type": "stream",
     "text": [
      " 45%|████▌     | 96/212 [06:36<06:53,  3.56s/it]"
     ]
    },
    {
     "name": "stdout",
     "output_type": "stream",
     "text": [
      "b1623334 :\n",
      "image shape: (512, 512, 68)\n"
     ]
    },
    {
     "name": "stderr",
     "output_type": "stream",
     "text": [
      " 46%|████▌     | 97/212 [06:38<06:09,  3.21s/it]"
     ]
    },
    {
     "name": "stdout",
     "output_type": "stream",
     "text": [
      "1006763 :\n",
      "image shape: (611, 611, 82)\n"
     ]
    },
    {
     "name": "stderr",
     "output_type": "stream",
     "text": [
      " 46%|████▌     | 98/212 [06:42<06:22,  3.36s/it]"
     ]
    },
    {
     "name": "stdout",
     "output_type": "stream",
     "text": [
      "1333768 :\n",
      "image shape: (630, 630, 63)\n"
     ]
    },
    {
     "name": "stderr",
     "output_type": "stream",
     "text": [
      " 47%|████▋     | 99/212 [06:45<05:51,  3.11s/it]"
     ]
    },
    {
     "name": "stdout",
     "output_type": "stream",
     "text": [
      "1022888 :\n",
      "image shape: (678, 678, 85)\n"
     ]
    },
    {
     "name": "stderr",
     "output_type": "stream",
     "text": [
      " 47%|████▋     | 100/212 [06:49<06:39,  3.57s/it]"
     ]
    },
    {
     "name": "stdout",
     "output_type": "stream",
     "text": [
      "1330032 :\n",
      "image shape: (599, 599, 90)\n"
     ]
    },
    {
     "name": "stderr",
     "output_type": "stream",
     "text": [
      " 48%|████▊     | 101/212 [06:53<06:29,  3.51s/it]"
     ]
    },
    {
     "name": "stdout",
     "output_type": "stream",
     "text": [
      "b1328036 :\n",
      "image shape: (599, 599, 93)\n"
     ]
    },
    {
     "name": "stderr",
     "output_type": "stream",
     "text": [
      " 48%|████▊     | 102/212 [06:57<06:39,  3.63s/it]"
     ]
    },
    {
     "name": "stdout",
     "output_type": "stream",
     "text": [
      "1610657 :\n",
      "image shape: (464, 464, 73)\n"
     ]
    },
    {
     "name": "stderr",
     "output_type": "stream",
     "text": [
      " 49%|████▊     | 103/212 [06:59<05:49,  3.21s/it]"
     ]
    },
    {
     "name": "stdout",
     "output_type": "stream",
     "text": [
      "1597431 :\n",
      "image shape: (647, 647, 99)\n"
     ]
    },
    {
     "name": "stderr",
     "output_type": "stream",
     "text": [
      " 49%|████▉     | 104/212 [07:03<06:35,  3.66s/it]"
     ]
    },
    {
     "name": "stdout",
     "output_type": "stream",
     "text": [
      "B1685560-neck :\n",
      "image shape: (524, 524, 60)\n"
     ]
    },
    {
     "name": "stderr",
     "output_type": "stream",
     "text": [
      " 50%|████▉     | 105/212 [07:06<05:50,  3.27s/it]"
     ]
    },
    {
     "name": "stdout",
     "output_type": "stream",
     "text": [
      "1613978 :\n",
      "image shape: (802, 802, 65)\n"
     ]
    },
    {
     "name": "stderr",
     "output_type": "stream",
     "text": [
      " 50%|█████     | 106/212 [07:10<06:25,  3.63s/it]"
     ]
    },
    {
     "name": "stdout",
     "output_type": "stream",
     "text": [
      "b1045971 :\n",
      "image shape: (471, 471, 75)\n"
     ]
    },
    {
     "name": "stderr",
     "output_type": "stream",
     "text": [
      " 50%|█████     | 107/212 [07:12<05:31,  3.16s/it]"
     ]
    },
    {
     "name": "stdout",
     "output_type": "stream",
     "text": [
      "1487003 :\n",
      "image shape: (611, 611, 85)\n"
     ]
    },
    {
     "name": "stderr",
     "output_type": "stream",
     "text": [
      " 51%|█████     | 108/212 [07:16<05:40,  3.28s/it]"
     ]
    },
    {
     "name": "stdout",
     "output_type": "stream",
     "text": [
      "1240266 :\n",
      "image shape: (625, 625, 105)\n"
     ]
    },
    {
     "name": "stderr",
     "output_type": "stream",
     "text": [
      " 51%|█████▏    | 109/212 [07:21<06:20,  3.69s/it]"
     ]
    },
    {
     "name": "stdout",
     "output_type": "stream",
     "text": [
      "b1749226 :\n",
      "image shape: (490, 490, 79)\n"
     ]
    },
    {
     "name": "stderr",
     "output_type": "stream",
     "text": [
      " 52%|█████▏    | 110/212 [07:23<05:39,  3.33s/it]"
     ]
    },
    {
     "name": "stdout",
     "output_type": "stream",
     "text": [
      "1396101 :\n",
      "image shape: (799, 799, 77)\n"
     ]
    },
    {
     "name": "stderr",
     "output_type": "stream",
     "text": [
      " 52%|█████▏    | 111/212 [07:29<06:45,  4.02s/it]"
     ]
    },
    {
     "name": "stdout",
     "output_type": "stream",
     "text": [
      "b1123189 :\n",
      "image shape: (799, 799, 69)\n"
     ]
    },
    {
     "name": "stderr",
     "output_type": "stream",
     "text": [
      " 53%|█████▎    | 112/212 [07:34<07:22,  4.43s/it]"
     ]
    },
    {
     "name": "stdout",
     "output_type": "stream",
     "text": [
      "1362738 :\n",
      "image shape: (611, 611, 82)\n"
     ]
    },
    {
     "name": "stderr",
     "output_type": "stream",
     "text": [
      " 53%|█████▎    | 113/212 [07:38<06:53,  4.18s/it]"
     ]
    },
    {
     "name": "stdout",
     "output_type": "stream",
     "text": [
      "1495516 :\n",
      "image shape: (572, 572, 85)\n"
     ]
    },
    {
     "name": "stderr",
     "output_type": "stream",
     "text": [
      " 54%|█████▍    | 114/212 [07:41<06:19,  3.88s/it]"
     ]
    },
    {
     "name": "stdout",
     "output_type": "stream",
     "text": [
      "b1521755 :\n",
      "image shape: (478, 478, 83)\n"
     ]
    },
    {
     "name": "stderr",
     "output_type": "stream",
     "text": [
      " 54%|█████▍    | 115/212 [07:43<05:35,  3.46s/it]"
     ]
    },
    {
     "name": "stdout",
     "output_type": "stream",
     "text": [
      "1204183-dingzi :\n",
      "image shape: (621, 621, 84)\n"
     ]
    },
    {
     "name": "stderr",
     "output_type": "stream",
     "text": [
      " 55%|█████▍    | 116/212 [07:47<05:46,  3.61s/it]"
     ]
    },
    {
     "name": "stdout",
     "output_type": "stream",
     "text": [
      "1460036-neck :\n",
      "image shape: (500, 500, 63)\n"
     ]
    },
    {
     "name": "stderr",
     "output_type": "stream",
     "text": [
      " 55%|█████▌    | 117/212 [07:49<04:52,  3.08s/it]"
     ]
    },
    {
     "name": "stdout",
     "output_type": "stream",
     "text": [
      "1663261 :\n",
      "image shape: (678, 678, 85)\n"
     ]
    },
    {
     "name": "stderr",
     "output_type": "stream",
     "text": [
      " 56%|█████▌    | 118/212 [07:53<05:21,  3.42s/it]"
     ]
    },
    {
     "name": "stdout",
     "output_type": "stream",
     "text": [
      "1471958 :\n",
      "image shape: (538, 538, 81)\n"
     ]
    },
    {
     "name": "stderr",
     "output_type": "stream",
     "text": [
      " 56%|█████▌    | 119/212 [07:56<04:51,  3.14s/it]"
     ]
    },
    {
     "name": "stdout",
     "output_type": "stream",
     "text": [
      "b1650523 :\n",
      "image shape: (582, 582, 85)\n"
     ]
    },
    {
     "name": "stderr",
     "output_type": "stream",
     "text": [
      " 57%|█████▋    | 120/212 [07:59<05:00,  3.26s/it]"
     ]
    },
    {
     "name": "stdout",
     "output_type": "stream",
     "text": [
      "1225089 :\n",
      "image shape: (737, 737, 84)\n"
     ]
    },
    {
     "name": "stderr",
     "output_type": "stream",
     "text": [
      " 57%|█████▋    | 121/212 [08:05<06:03,  3.99s/it]"
     ]
    },
    {
     "name": "stdout",
     "output_type": "stream",
     "text": [
      "b1532418 :\n",
      "image shape: (620, 620, 79)\n"
     ]
    },
    {
     "name": "stderr",
     "output_type": "stream",
     "text": [
      " 58%|█████▊    | 122/212 [08:09<05:53,  3.93s/it]"
     ]
    },
    {
     "name": "stdout",
     "output_type": "stream",
     "text": [
      "1018366 :\n",
      "image shape: (674, 674, 95)\n"
     ]
    },
    {
     "name": "stderr",
     "output_type": "stream",
     "text": [
      " 58%|█████▊    | 123/212 [08:13<06:00,  4.05s/it]"
     ]
    },
    {
     "name": "stdout",
     "output_type": "stream",
     "text": [
      "b1678746 :\n",
      "image shape: (565, 565, 85)\n"
     ]
    },
    {
     "name": "stderr",
     "output_type": "stream",
     "text": [
      " 58%|█████▊    | 124/212 [08:16<05:33,  3.79s/it]"
     ]
    },
    {
     "name": "stdout",
     "output_type": "stream",
     "text": [
      "b1374690 :\n",
      "image shape: (799, 799, 69)\n"
     ]
    },
    {
     "name": "stderr",
     "output_type": "stream",
     "text": [
      " 59%|█████▉    | 125/212 [08:22<06:08,  4.23s/it]"
     ]
    },
    {
     "name": "stdout",
     "output_type": "stream",
     "text": [
      "b936932-dingzi :\n",
      "image shape: (799, 799, 85)\n"
     ]
    },
    {
     "name": "stderr",
     "output_type": "stream",
     "text": [
      " 59%|█████▉    | 126/212 [08:29<07:14,  5.06s/it]"
     ]
    },
    {
     "name": "stdout",
     "output_type": "stream",
     "text": [
      "824280-dingzi :\n",
      "image shape: (1015, 1015, 85)\n"
     ]
    },
    {
     "name": "stderr",
     "output_type": "stream",
     "text": [
      " 60%|█████▉    | 127/212 [08:38<09:06,  6.43s/it]"
     ]
    },
    {
     "name": "stdout",
     "output_type": "stream",
     "text": [
      "B607489-dingzi :\n",
      "image shape: (599, 599, 78)\n"
     ]
    },
    {
     "name": "stderr",
     "output_type": "stream",
     "text": [
      " 60%|██████    | 128/212 [08:41<07:35,  5.43s/it]"
     ]
    },
    {
     "name": "stdout",
     "output_type": "stream",
     "text": [
      "1330821 :\n",
      "image shape: (512, 512, 82)\n"
     ]
    },
    {
     "name": "stderr",
     "output_type": "stream",
     "text": [
      " 61%|██████    | 129/212 [08:44<06:28,  4.68s/it]"
     ]
    },
    {
     "name": "stdout",
     "output_type": "stream",
     "text": [
      "1486880 :\n",
      "image shape: (604, 604, 64)\n"
     ]
    },
    {
     "name": "stderr",
     "output_type": "stream",
     "text": [
      " 61%|██████▏   | 130/212 [08:47<05:32,  4.06s/it]"
     ]
    },
    {
     "name": "stdout",
     "output_type": "stream",
     "text": [
      "b603501 :\n",
      "image shape: (628, 628, 85)\n"
     ]
    },
    {
     "name": "stderr",
     "output_type": "stream",
     "text": [
      " 62%|██████▏   | 131/212 [08:51<05:28,  4.05s/it]"
     ]
    },
    {
     "name": "stdout",
     "output_type": "stream",
     "text": [
      "b1225089 :\n",
      "image shape: (737, 737, 84)\n"
     ]
    },
    {
     "name": "stderr",
     "output_type": "stream",
     "text": [
      " 62%|██████▏   | 132/212 [08:57<06:10,  4.63s/it]"
     ]
    },
    {
     "name": "stdout",
     "output_type": "stream",
     "text": [
      "b1659924 :\n",
      "image shape: (471, 471, 72)\n"
     ]
    },
    {
     "name": "stderr",
     "output_type": "stream",
     "text": [
      " 63%|██████▎   | 133/212 [08:59<05:08,  3.90s/it]"
     ]
    },
    {
     "name": "stdout",
     "output_type": "stream",
     "text": [
      "b610558 :\n",
      "image shape: (802, 802, 72)\n"
     ]
    },
    {
     "name": "stderr",
     "output_type": "stream",
     "text": [
      " 63%|██████▎   | 134/212 [09:05<05:45,  4.43s/it]"
     ]
    },
    {
     "name": "stdout",
     "output_type": "stream",
     "text": [
      "1551933 :\n",
      "image shape: (799, 799, 72)\n"
     ]
    },
    {
     "name": "stderr",
     "output_type": "stream",
     "text": [
      " 64%|██████▎   | 135/212 [09:10<05:53,  4.60s/it]"
     ]
    },
    {
     "name": "stdout",
     "output_type": "stream",
     "text": [
      "b1228776 :\n",
      "image shape: (799, 799, 81)\n"
     ]
    },
    {
     "name": "stderr",
     "output_type": "stream",
     "text": [
      " 64%|██████▍   | 136/212 [09:16<06:20,  5.01s/it]"
     ]
    },
    {
     "name": "stdout",
     "output_type": "stream",
     "text": [
      "b1287016 :\n",
      "image shape: (734, 734, 81)\n"
     ]
    },
    {
     "name": "stderr",
     "output_type": "stream",
     "text": [
      " 65%|██████▍   | 137/212 [09:21<06:23,  5.11s/it]"
     ]
    },
    {
     "name": "stdout",
     "output_type": "stream",
     "text": [
      "1411991 :\n",
      "image shape: (577, 577, 66)\n"
     ]
    },
    {
     "name": "stderr",
     "output_type": "stream",
     "text": [
      " 65%|██████▌   | 138/212 [09:24<05:24,  4.39s/it]"
     ]
    },
    {
     "name": "stdout",
     "output_type": "stream",
     "text": [
      "B682651 :\n",
      "image shape: (546, 546, 85)\n"
     ]
    },
    {
     "name": "stderr",
     "output_type": "stream",
     "text": [
      " 66%|██████▌   | 139/212 [09:27<04:52,  4.01s/it]"
     ]
    },
    {
     "name": "stdout",
     "output_type": "stream",
     "text": [
      "b1245231 :\n",
      "image shape: (519, 519, 77)\n"
     ]
    },
    {
     "name": "stderr",
     "output_type": "stream",
     "text": [
      " 66%|██████▌   | 140/212 [09:30<04:18,  3.59s/it]"
     ]
    },
    {
     "name": "stdout",
     "output_type": "stream",
     "text": [
      "b1022888 :\n",
      "image shape: (678, 678, 85)\n"
     ]
    },
    {
     "name": "stderr",
     "output_type": "stream",
     "text": [
      " 67%|██████▋   | 141/212 [09:34<04:38,  3.92s/it]"
     ]
    },
    {
     "name": "stdout",
     "output_type": "stream",
     "text": [
      "1049094 :\n",
      "image shape: (490, 490, 73)\n"
     ]
    },
    {
     "name": "stderr",
     "output_type": "stream",
     "text": [
      " 67%|██████▋   | 142/212 [09:36<03:53,  3.34s/it]"
     ]
    },
    {
     "name": "stdout",
     "output_type": "stream",
     "text": [
      "b1654026 :\n",
      "image shape: (799, 799, 71)\n"
     ]
    },
    {
     "name": "stderr",
     "output_type": "stream",
     "text": [
      " 67%|██████▋   | 143/212 [09:42<04:37,  4.02s/it]"
     ]
    },
    {
     "name": "stdout",
     "output_type": "stream",
     "text": [
      "1623334 :\n",
      "image shape: (512, 512, 68)\n"
     ]
    },
    {
     "name": "stderr",
     "output_type": "stream",
     "text": [
      " 68%|██████▊   | 144/212 [09:44<04:00,  3.53s/it]"
     ]
    },
    {
     "name": "stdout",
     "output_type": "stream",
     "text": [
      "774851 :\n",
      "image shape: (515, 515, 80)\n"
     ]
    },
    {
     "name": "stderr",
     "output_type": "stream",
     "text": [
      " 68%|██████▊   | 145/212 [09:47<03:32,  3.16s/it]"
     ]
    },
    {
     "name": "stdout",
     "output_type": "stream",
     "text": [
      "b1487003 :\n",
      "image shape: (611, 611, 85)\n"
     ]
    },
    {
     "name": "stderr",
     "output_type": "stream",
     "text": [
      " 69%|██████▉   | 146/212 [09:50<03:42,  3.37s/it]"
     ]
    },
    {
     "name": "stdout",
     "output_type": "stream",
     "text": [
      "1265385 :\n",
      "image shape: (599, 599, 65)\n"
     ]
    },
    {
     "name": "stderr",
     "output_type": "stream",
     "text": [
      " 69%|██████▉   | 147/212 [09:53<03:17,  3.04s/it]"
     ]
    },
    {
     "name": "stdout",
     "output_type": "stream",
     "text": [
      "1227957 :\n",
      "image shape: (799, 799, 71)\n"
     ]
    },
    {
     "name": "stderr",
     "output_type": "stream",
     "text": [
      " 70%|██████▉   | 148/212 [09:58<03:52,  3.63s/it]"
     ]
    },
    {
     "name": "stdout",
     "output_type": "stream",
     "text": [
      "1204336 :\n",
      "image shape: (565, 565, 74)\n"
     ]
    },
    {
     "name": "stderr",
     "output_type": "stream",
     "text": [
      " 70%|███████   | 149/212 [10:00<03:31,  3.36s/it]"
     ]
    },
    {
     "name": "stdout",
     "output_type": "stream",
     "text": [
      "1503192 :\n",
      "image shape: (616, 616, 71)\n"
     ]
    },
    {
     "name": "stderr",
     "output_type": "stream",
     "text": [
      " 71%|███████   | 150/212 [10:03<03:21,  3.25s/it]"
     ]
    },
    {
     "name": "stdout",
     "output_type": "stream",
     "text": [
      "b1471958 :\n",
      "image shape: (538, 538, 81)\n"
     ]
    },
    {
     "name": "stderr",
     "output_type": "stream",
     "text": [
      " 71%|███████   | 151/212 [10:06<03:10,  3.12s/it]"
     ]
    },
    {
     "name": "stdout",
     "output_type": "stream",
     "text": [
      "b1273842 :\n",
      "image shape: (558, 558, 79)\n"
     ]
    },
    {
     "name": "stderr",
     "output_type": "stream",
     "text": [
      " 72%|███████▏  | 152/212 [10:09<03:01,  3.02s/it]"
     ]
    },
    {
     "name": "stdout",
     "output_type": "stream",
     "text": [
      "b1532717 :\n",
      "image shape: (468, 468, 82)\n"
     ]
    },
    {
     "name": "stderr",
     "output_type": "stream",
     "text": [
      " 72%|███████▏  | 153/212 [10:11<02:45,  2.80s/it]"
     ]
    },
    {
     "name": "stdout",
     "output_type": "stream",
     "text": [
      "1393868 :\n",
      "image shape: (802, 802, 72)\n"
     ]
    },
    {
     "name": "stderr",
     "output_type": "stream",
     "text": [
      " 73%|███████▎  | 154/212 [10:16<03:20,  3.46s/it]"
     ]
    },
    {
     "name": "stdout",
     "output_type": "stream",
     "text": [
      "b1713865 :\n",
      "image shape: (575, 575, 77)\n"
     ]
    },
    {
     "name": "stderr",
     "output_type": "stream",
     "text": [
      " 73%|███████▎  | 155/212 [10:19<03:12,  3.37s/it]"
     ]
    },
    {
     "name": "stdout",
     "output_type": "stream",
     "text": [
      "1532418 :\n",
      "image shape: (620, 620, 79)\n"
     ]
    },
    {
     "name": "stderr",
     "output_type": "stream",
     "text": [
      " 74%|███████▎  | 156/212 [10:23<03:07,  3.34s/it]"
     ]
    },
    {
     "name": "stdout",
     "output_type": "stream",
     "text": [
      "1700637 :\n",
      "image shape: (478, 478, 95)\n"
     ]
    },
    {
     "name": "stderr",
     "output_type": "stream",
     "text": [
      " 74%|███████▍  | 157/212 [10:25<02:49,  3.08s/it]"
     ]
    },
    {
     "name": "stdout",
     "output_type": "stream",
     "text": [
      "1253018 :\n",
      "image shape: (679, 679, 85)\n"
     ]
    },
    {
     "name": "stderr",
     "output_type": "stream",
     "text": [
      " 75%|███████▍  | 158/212 [10:30<03:09,  3.51s/it]"
     ]
    },
    {
     "name": "stdout",
     "output_type": "stream",
     "text": [
      "b1503192 :\n",
      "image shape: (616, 616, 71)\n"
     ]
    },
    {
     "name": "stderr",
     "output_type": "stream",
     "text": [
      " 75%|███████▌  | 159/212 [10:33<03:00,  3.40s/it]"
     ]
    },
    {
     "name": "stdout",
     "output_type": "stream",
     "text": [
      "1467719 :\n",
      "image shape: (637, 637, 80)\n"
     ]
    },
    {
     "name": "stderr",
     "output_type": "stream",
     "text": [
      " 75%|███████▌  | 160/212 [10:36<02:54,  3.37s/it]"
     ]
    },
    {
     "name": "stdout",
     "output_type": "stream",
     "text": [
      "b1171704-neck :\n",
      "image shape: (500, 500, 61)\n"
     ]
    },
    {
     "name": "stderr",
     "output_type": "stream",
     "text": [
      " 76%|███████▌  | 161/212 [10:38<02:32,  2.99s/it]"
     ]
    },
    {
     "name": "stdout",
     "output_type": "stream",
     "text": [
      "1749226 :\n",
      "image shape: (490, 490, 79)\n"
     ]
    },
    {
     "name": "stderr",
     "output_type": "stream",
     "text": [
      " 76%|███████▋  | 162/212 [10:40<02:19,  2.78s/it]"
     ]
    },
    {
     "name": "stdout",
     "output_type": "stream",
     "text": [
      "1245231 :\n",
      "image shape: (519, 519, 77)\n"
     ]
    },
    {
     "name": "stderr",
     "output_type": "stream",
     "text": [
      " 77%|███████▋  | 163/212 [10:43<02:10,  2.66s/it]"
     ]
    },
    {
     "name": "stdout",
     "output_type": "stream",
     "text": [
      "1456268 :\n",
      "image shape: (799, 799, 66)\n"
     ]
    },
    {
     "name": "stderr",
     "output_type": "stream",
     "text": [
      " 77%|███████▋  | 164/212 [10:48<02:39,  3.33s/it]"
     ]
    },
    {
     "name": "stdout",
     "output_type": "stream",
     "text": [
      "1602447 :\n",
      "image shape: (640, 640, 73)\n"
     ]
    },
    {
     "name": "stderr",
     "output_type": "stream",
     "text": [
      " 78%|███████▊  | 165/212 [10:51<02:33,  3.27s/it]"
     ]
    },
    {
     "name": "stdout",
     "output_type": "stream",
     "text": [
      "1287016 :\n",
      "image shape: (734, 734, 81)\n"
     ]
    },
    {
     "name": "stderr",
     "output_type": "stream",
     "text": [
      " 78%|███████▊  | 166/212 [10:56<02:52,  3.74s/it]"
     ]
    },
    {
     "name": "stdout",
     "output_type": "stream",
     "text": [
      "b1495516 :\n",
      "image shape: (572, 572, 85)\n"
     ]
    },
    {
     "name": "stderr",
     "output_type": "stream",
     "text": [
      " 79%|███████▉  | 167/212 [10:59<02:44,  3.65s/it]"
     ]
    },
    {
     "name": "stdout",
     "output_type": "stream",
     "text": [
      "1658899 :\n",
      "image shape: (799, 799, 68)\n"
     ]
    },
    {
     "name": "stderr",
     "output_type": "stream",
     "text": [
      " 79%|███████▉  | 168/212 [11:04<02:55,  3.99s/it]"
     ]
    },
    {
     "name": "stdout",
     "output_type": "stream",
     "text": [
      "b1663261 :\n",
      "image shape: (678, 678, 85)\n"
     ]
    },
    {
     "name": "stderr",
     "output_type": "stream",
     "text": [
      " 80%|███████▉  | 169/212 [11:09<03:01,  4.22s/it]"
     ]
    },
    {
     "name": "stdout",
     "output_type": "stream",
     "text": [
      "b1466425 :\n",
      "image shape: (550, 550, 102)\n"
     ]
    },
    {
     "name": "stderr",
     "output_type": "stream",
     "text": [
      " 80%|████████  | 170/212 [11:12<02:45,  3.93s/it]"
     ]
    },
    {
     "name": "stdout",
     "output_type": "stream",
     "text": [
      "1228776 :\n",
      "image shape: (799, 799, 81)\n"
     ]
    },
    {
     "name": "stderr",
     "output_type": "stream",
     "text": [
      " 81%|████████  | 171/212 [11:18<03:03,  4.47s/it]"
     ]
    },
    {
     "name": "stdout",
     "output_type": "stream",
     "text": [
      "b1425167 :\n",
      "image shape: (799, 799, 85)\n"
     ]
    },
    {
     "name": "stderr",
     "output_type": "stream",
     "text": [
      " 81%|████████  | 172/212 [11:24<03:24,  5.12s/it]"
     ]
    },
    {
     "name": "stdout",
     "output_type": "stream",
     "text": [
      "1521755 :\n",
      "image shape: (478, 478, 83)\n"
     ]
    },
    {
     "name": "stderr",
     "output_type": "stream",
     "text": [
      " 82%|████████▏ | 173/212 [11:27<02:47,  4.29s/it]"
     ]
    },
    {
     "name": "stdout",
     "output_type": "stream",
     "text": [
      "B864668 :\n",
      "image shape: (468, 468, 78)\n"
     ]
    },
    {
     "name": "stderr",
     "output_type": "stream",
     "text": [
      " 82%|████████▏ | 174/212 [11:29<02:18,  3.64s/it]"
     ]
    },
    {
     "name": "stdout",
     "output_type": "stream",
     "text": [
      "B1071134 :\n",
      "image shape: (550, 550, 81)\n"
     ]
    },
    {
     "name": "stderr",
     "output_type": "stream",
     "text": [
      " 83%|████████▎ | 175/212 [11:32<02:04,  3.37s/it]"
     ]
    },
    {
     "name": "stdout",
     "output_type": "stream",
     "text": [
      "1587213 :\n",
      "image shape: (645, 645, 94)\n"
     ]
    },
    {
     "name": "stderr",
     "output_type": "stream",
     "text": [
      " 83%|████████▎ | 176/212 [11:36<02:13,  3.72s/it]"
     ]
    },
    {
     "name": "stdout",
     "output_type": "stream",
     "text": [
      "1424004 :\n",
      "image shape: (515, 515, 71)\n"
     ]
    },
    {
     "name": "stderr",
     "output_type": "stream",
     "text": [
      " 83%|████████▎ | 177/212 [11:38<01:55,  3.30s/it]"
     ]
    },
    {
     "name": "stdout",
     "output_type": "stream",
     "text": [
      "1547418 :\n",
      "image shape: (534, 534, 85)\n"
     ]
    },
    {
     "name": "stderr",
     "output_type": "stream",
     "text": [
      " 84%|████████▍ | 178/212 [11:41<01:46,  3.14s/it]"
     ]
    },
    {
     "name": "stdout",
     "output_type": "stream",
     "text": [
      "b1669821 :\n",
      "image shape: (637, 637, 74)\n"
     ]
    },
    {
     "name": "stderr",
     "output_type": "stream",
     "text": [
      " 84%|████████▍ | 179/212 [11:45<01:48,  3.28s/it]"
     ]
    },
    {
     "name": "stdout",
     "output_type": "stream",
     "text": [
      "1659924 :\n",
      "image shape: (471, 471, 72)\n"
     ]
    },
    {
     "name": "stderr",
     "output_type": "stream",
     "text": [
      " 85%|████████▍ | 180/212 [11:47<01:30,  2.84s/it]"
     ]
    },
    {
     "name": "stdout",
     "output_type": "stream",
     "text": [
      "b1559027 :\n",
      "image shape: (492, 492, 73)\n"
     ]
    },
    {
     "name": "stderr",
     "output_type": "stream",
     "text": [
      " 85%|████████▌ | 181/212 [11:49<01:23,  2.68s/it]"
     ]
    },
    {
     "name": "stdout",
     "output_type": "stream",
     "text": [
      "1448326 :\n",
      "image shape: (802, 802, 69)\n"
     ]
    },
    {
     "name": "stderr",
     "output_type": "stream",
     "text": [
      " 86%|████████▌ | 182/212 [11:54<01:38,  3.30s/it]"
     ]
    },
    {
     "name": "stdout",
     "output_type": "stream",
     "text": [
      "1336587-dingzi :\n",
      "image shape: (555, 555, 71)\n"
     ]
    },
    {
     "name": "stderr",
     "output_type": "stream",
     "text": [
      " 86%|████████▋ | 183/212 [11:56<01:29,  3.10s/it]"
     ]
    },
    {
     "name": "stdout",
     "output_type": "stream",
     "text": [
      "b182723 :\n",
      "image shape: (587, 587, 75)\n"
     ]
    },
    {
     "name": "stderr",
     "output_type": "stream",
     "text": [
      " 87%|████████▋ | 184/212 [11:59<01:27,  3.13s/it]"
     ]
    },
    {
     "name": "stdout",
     "output_type": "stream",
     "text": [
      "b1409022 :\n",
      "image shape: (633, 633, 76)\n"
     ]
    },
    {
     "name": "stderr",
     "output_type": "stream",
     "text": [
      " 87%|████████▋ | 185/212 [12:03<01:29,  3.31s/it]"
     ]
    },
    {
     "name": "stdout",
     "output_type": "stream",
     "text": [
      "1539233 :\n",
      "image shape: (671, 671, 78)\n"
     ]
    },
    {
     "name": "stderr",
     "output_type": "stream",
     "text": [
      " 88%|████████▊ | 186/212 [12:07<01:31,  3.52s/it]"
     ]
    },
    {
     "name": "stdout",
     "output_type": "stream",
     "text": [
      "1671660 :\n",
      "image shape: (799, 799, 85)\n"
     ]
    },
    {
     "name": "stderr",
     "output_type": "stream",
     "text": [
      " 88%|████████▊ | 187/212 [12:13<01:45,  4.22s/it]"
     ]
    },
    {
     "name": "stdout",
     "output_type": "stream",
     "text": [
      "1374690 :\n",
      "image shape: (799, 799, 69)\n"
     ]
    },
    {
     "name": "stderr",
     "output_type": "stream",
     "text": [
      " 89%|████████▊ | 188/212 [12:18<01:45,  4.41s/it]"
     ]
    },
    {
     "name": "stdout",
     "output_type": "stream",
     "text": [
      "1272415 :\n",
      "image shape: (599, 599, 102)\n"
     ]
    },
    {
     "name": "stderr",
     "output_type": "stream",
     "text": [
      " 89%|████████▉ | 189/212 [12:22<01:37,  4.25s/it]"
     ]
    },
    {
     "name": "stdout",
     "output_type": "stream",
     "text": [
      "b1027338 :\n",
      "image shape: (577, 577, 85)\n"
     ]
    },
    {
     "name": "stderr",
     "output_type": "stream",
     "text": [
      " 90%|████████▉ | 190/212 [12:25<01:27,  3.98s/it]"
     ]
    },
    {
     "name": "stdout",
     "output_type": "stream",
     "text": [
      "b1204336 :\n",
      "image shape: (565, 565, 74)\n"
     ]
    },
    {
     "name": "stderr",
     "output_type": "stream",
     "text": [
      " 90%|█████████ | 191/212 [12:28<01:17,  3.67s/it]"
     ]
    },
    {
     "name": "stdout",
     "output_type": "stream",
     "text": [
      "1232165 :\n",
      "image shape: (799, 799, 92)\n"
     ]
    },
    {
     "name": "stderr",
     "output_type": "stream",
     "text": [
      " 91%|█████████ | 192/212 [12:34<01:24,  4.20s/it]"
     ]
    },
    {
     "name": "stdout",
     "output_type": "stream",
     "text": [
      "b1253018 :\n",
      "image shape: (679, 679, 85)\n"
     ]
    },
    {
     "name": "stderr",
     "output_type": "stream",
     "text": [
      " 91%|█████████ | 193/212 [12:38<01:21,  4.27s/it]"
     ]
    },
    {
     "name": "stdout",
     "output_type": "stream",
     "text": [
      "b1204183-dingzi :\n",
      "image shape: (621, 621, 84)\n"
     ]
    },
    {
     "name": "stderr",
     "output_type": "stream",
     "text": [
      " 92%|█████████▏| 194/212 [12:41<01:12,  4.05s/it]"
     ]
    },
    {
     "name": "stdout",
     "output_type": "stream",
     "text": [
      "b1393868 :\n",
      "image shape: (802, 802, 72)\n"
     ]
    },
    {
     "name": "stderr",
     "output_type": "stream",
     "text": [
      " 92%|█████████▏| 195/212 [12:46<01:13,  4.33s/it]"
     ]
    },
    {
     "name": "stdout",
     "output_type": "stream",
     "text": [
      "1678746 :\n",
      "image shape: (565, 565, 85)\n"
     ]
    },
    {
     "name": "stderr",
     "output_type": "stream",
     "text": [
      " 92%|█████████▏| 196/212 [12:49<01:01,  3.83s/it]"
     ]
    },
    {
     "name": "stdout",
     "output_type": "stream",
     "text": [
      "b1411991 :\n",
      "image shape: (577, 577, 66)\n"
     ]
    },
    {
     "name": "stderr",
     "output_type": "stream",
     "text": [
      " 93%|█████████▎| 197/212 [12:51<00:50,  3.34s/it]"
     ]
    },
    {
     "name": "stdout",
     "output_type": "stream",
     "text": [
      "b1373427 :\n",
      "image shape: (606, 606, 84)\n"
     ]
    },
    {
     "name": "stderr",
     "output_type": "stream",
     "text": [
      " 93%|█████████▎| 198/212 [12:54<00:45,  3.25s/it]"
     ]
    },
    {
     "name": "stdout",
     "output_type": "stream",
     "text": [
      "b1363637-dingzi :\n",
      "image shape: (584, 584, 75)\n"
     ]
    },
    {
     "name": "stderr",
     "output_type": "stream",
     "text": [
      " 94%|█████████▍| 199/212 [12:57<00:40,  3.10s/it]"
     ]
    },
    {
     "name": "stdout",
     "output_type": "stream",
     "text": [
      "1409022 :\n",
      "image shape: (633, 633, 76)\n"
     ]
    },
    {
     "name": "stderr",
     "output_type": "stream",
     "text": [
      " 94%|█████████▍| 200/212 [13:00<00:37,  3.10s/it]"
     ]
    },
    {
     "name": "stdout",
     "output_type": "stream",
     "text": [
      "b1456268 :\n",
      "image shape: (799, 799, 66)\n"
     ]
    },
    {
     "name": "stderr",
     "output_type": "stream",
     "text": [
      " 95%|█████████▍| 201/212 [13:05<00:38,  3.51s/it]"
     ]
    },
    {
     "name": "stdout",
     "output_type": "stream",
     "text": [
      "1583243 :\n",
      "image shape: (611, 611, 85)\n"
     ]
    },
    {
     "name": "stderr",
     "output_type": "stream",
     "text": [
      " 95%|█████████▌| 202/212 [13:08<00:34,  3.47s/it]"
     ]
    },
    {
     "name": "stdout",
     "output_type": "stream",
     "text": [
      "b1366651 :\n",
      "image shape: (534, 534, 79)\n"
     ]
    },
    {
     "name": "stderr",
     "output_type": "stream",
     "text": [
      " 96%|█████████▌| 203/212 [13:10<00:28,  3.13s/it]"
     ]
    },
    {
     "name": "stdout",
     "output_type": "stream",
     "text": [
      "b1673882 :\n",
      "image shape: (628, 628, 85)\n"
     ]
    },
    {
     "name": "stderr",
     "output_type": "stream",
     "text": [
      " 96%|█████████▌| 204/212 [13:14<00:26,  3.27s/it]"
     ]
    },
    {
     "name": "stdout",
     "output_type": "stream",
     "text": [
      "1536553 :\n",
      "image shape: (625, 625, 85)\n"
     ]
    },
    {
     "name": "stderr",
     "output_type": "stream",
     "text": [
      " 97%|█████████▋| 205/212 [13:17<00:23,  3.34s/it]"
     ]
    },
    {
     "name": "stdout",
     "output_type": "stream",
     "text": [
      "B1605516-dingzi :\n",
      "image shape: (587, 587, 76)\n"
     ]
    },
    {
     "name": "stderr",
     "output_type": "stream",
     "text": [
      " 97%|█████████▋| 206/212 [13:20<00:19,  3.17s/it]"
     ]
    },
    {
     "name": "stdout",
     "output_type": "stream",
     "text": [
      "b1738145 :\n",
      "image shape: (502, 502, 80)\n"
     ]
    },
    {
     "name": "stderr",
     "output_type": "stream",
     "text": [
      " 98%|█████████▊| 207/212 [13:23<00:14,  2.91s/it]"
     ]
    },
    {
     "name": "stdout",
     "output_type": "stream",
     "text": [
      "1466425 :\n",
      "image shape: (550, 550, 102)\n"
     ]
    },
    {
     "name": "stderr",
     "output_type": "stream",
     "text": [
      " 98%|█████████▊| 208/212 [13:25<00:11,  2.86s/it]"
     ]
    },
    {
     "name": "stdout",
     "output_type": "stream",
     "text": [
      "1669821 :\n",
      "image shape: (637, 637, 74)\n"
     ]
    },
    {
     "name": "stderr",
     "output_type": "stream",
     "text": [
      " 99%|█████████▊| 209/212 [13:28<00:08,  2.86s/it]"
     ]
    },
    {
     "name": "stdout",
     "output_type": "stream",
     "text": [
      "1738145 :\n",
      "image shape: (502, 502, 80)\n"
     ]
    },
    {
     "name": "stderr",
     "output_type": "stream",
     "text": [
      " 99%|█████████▉| 210/212 [13:30<00:05,  2.67s/it]"
     ]
    },
    {
     "name": "stdout",
     "output_type": "stream",
     "text": [
      "1713865 :\n",
      "image shape: (575, 575, 77)\n"
     ]
    },
    {
     "name": "stderr",
     "output_type": "stream",
     "text": [
      "100%|█████████▉| 211/212 [13:33<00:02,  2.60s/it]"
     ]
    },
    {
     "name": "stdout",
     "output_type": "stream",
     "text": [
      "1738413 :\n",
      "image shape: (599, 599, 82)\n"
     ]
    },
    {
     "name": "stderr",
     "output_type": "stream",
     "text": [
      "100%|██████████| 212/212 [13:35<00:00,  3.85s/it]\n",
      "  0%|          | 0/2 [00:00<?, ?it/s]"
     ]
    },
    {
     "name": "stdout",
     "output_type": "stream",
     "text": [
      "total number of unseg-samples: 212\n",
      "1279071 :\n",
      "image shape: (478, 478, 72)\n"
     ]
    },
    {
     "name": "stderr",
     "output_type": "stream",
     "text": [
      " 50%|█████     | 1/2 [00:01<00:01,  1.59s/it]"
     ]
    },
    {
     "name": "stdout",
     "output_type": "stream",
     "text": [
      "1755610 :\n",
      "image shape: (671, 671, 85)\n"
     ]
    },
    {
     "name": "stderr",
     "output_type": "stream",
     "text": [
      "100%|██████████| 2/2 [00:05<00:00,  2.73s/it]"
     ]
    },
    {
     "name": "stdout",
     "output_type": "stream",
     "text": [
      "total number of unseg-samples: 2\n"
     ]
    },
    {
     "name": "stderr",
     "output_type": "stream",
     "text": [
      "\n"
     ]
    }
   ],
   "source": [
    "import numpy as np\n",
    "from glob import glob\n",
    "from tqdm import tqdm\n",
    "import h5py\n",
    "import nrrd\n",
    "import os\n",
    "import pandas as pd\n",
    "from dataset_split import remove_files\n",
    "import SimpleITK as sitk\n",
    "\n",
    "output_size =[128, 128, 64]\n",
    "\n",
    "def resample_image3D(\n",
    "    image3D,\n",
    "    newspacing=[0.3,0.3,3],\n",
    "    newsize=None,\n",
    "    method='Linear',):\n",
    "    \"\"\"做插值\"\"\"\n",
    "    resample = sitk.ResampleImageFilter()\n",
    "    if method is 'Linear':\n",
    "        resample.SetInterpolator(sitk.sitkLinear)\n",
    "    elif method is 'Nearest':\n",
    "        resample.SetInterpolator(sitk.sitkNearestNeighbor)\n",
    "    resample.SetOutputDirection(image3D.GetDirection())\n",
    "    resample.SetOutputOrigin(image3D.GetOrigin())\n",
    "    resample.SetOutputSpacing(newspacing)\n",
    "\n",
    "    if not newsize:\n",
    "        newsize = np.round(np.array(image3D.GetSize())*np.abs(image3D.GetSpacing())/np.array(newspacing)).astype('int').tolist()\n",
    "\n",
    "    resample.SetSize(newsize)\n",
    "    # resample.SetDefaultPixelValue(0)\n",
    "\n",
    "    newimage = resample.Execute(image3D)\n",
    "    return newimage\n",
    "\n",
    "# 数组替换元素\n",
    "def array_replace(array,olds,news):\n",
    "    #olds:list of old value\n",
    "    #news:list of new value\n",
    "    olds = np.array(olds)\n",
    "    news = np.array(news)\n",
    "    offset = olds.max()*10\n",
    "    tmps = olds+offset\n",
    "    for old,tmp in zip(olds,tmps):\n",
    "        array[array==old] = tmp\n",
    "    for tmp,new in zip(tmps,news):\n",
    "        array[array==tmp] = new\n",
    "    return array\n",
    "\n",
    "def covert_h5(glob_str, old_replaced, new_replaced):\n",
    "    \"\"\"\n",
    "    备注：不要骨头，骨头合并到背景类别中\n",
    "    \"\"\"\n",
    "    listt = glob(glob_str)\n",
    "    error_samples = []\n",
    "    stats = pd.DataFrame(columns=['sample_name',\n",
    "                                  'mean_whole', \n",
    "                                  'mean_bg', \n",
    "                                  'mean_dura', \n",
    "                                  'mean_SC', \n",
    "                                  'std_whole',\n",
    "                                  'std_bg',\n",
    "                                  'std_dura',\n",
    "                                  'std_SC',\n",
    "                                  'old_space0','old_space1','old_space2',\n",
    "                                  'new_space0','new_space1','new_space2',\n",
    "                                 ])\n",
    "    for item in tqdm(listt):\n",
    "        sample_name = item.split('/')[-2]\n",
    "        print(sample_name,':')#win系统改为'\\\\'\n",
    "\n",
    "        image = sitk.ReadImage(item)\n",
    "        label = sitk.ReadImage(item.replace(old_replaced, 'Segmentation-label.nrrd'))\n",
    "        seg = sitk.ReadImage(item.replace(old_replaced, 'Segmentation.seg.nrrd'))\n",
    "        \n",
    "        oldspacing = np.abs(image.GetSpacing())\n",
    "        newspacing = [0.3, 0.3, 3.0]\n",
    "        offset = [int(k) for k in seg.GetMetaData('Segmentation_ReferenceImageExtentOffset').split()]\n",
    "        offset = np.round(np.array(offset)*np.array(oldspacing)/np.array(newspacing)).astype(int).tolist()\n",
    "        label_name = [\n",
    "            seg.GetMetaData('Segment0_Name'),\n",
    "            seg.GetMetaData('Segment1_Name'),\n",
    "            seg.GetMetaData('Segment2_Name') \n",
    "            ]#人工标注的类别顺序\n",
    "        \n",
    "        # resample\n",
    "        image = resample_image3D(image,newspacing,method='Linear')\n",
    "        label = resample_image3D(label,newspacing,method='Nearest')##,newsize=image.GetSize()\n",
    "        seg = resample_image3D(seg,newspacing)\n",
    "#         sizes = seg.GetSize()#resample后seg的size\n",
    "        image = sitk.GetArrayFromImage(image).transpose((2,1,0))#tanspose之后才能与sizes匹配\n",
    "        label = np.round( sitk.GetArrayFromImage(label) ).transpose((2,1,0)).astype(int)#tanspose之后才能与sizes匹配\n",
    "#         seg = sitk.GetArrayFromImage(seg).transpose((3,2,1,0))#tanspose之后才能与sizes匹配\n",
    "        \n",
    "        \n",
    "        # 灰度标准化\n",
    "        image = (image - np.mean(image)) / np.std(image)\n",
    "        image = image.astype(np.float32)        \n",
    "        \n",
    "#         # offset\n",
    "#         image = image[offset[0]:offset[0]+sizes[0],\n",
    "#                       offset[1]:offset[1]+sizes[1],\n",
    "#                       offset[2]:offset[2]+sizes[2]]\n",
    "#         label = label[offset[0]:offset[0]+sizes[0],\n",
    "#                       offset[1]:offset[1]+sizes[1],\n",
    "#                       offset[2]:offset[2]+sizes[2]].astype(np.uint8)\n",
    "        \n",
    "        # 错误病例：标记的尺寸和image尺寸不同，缺少其中一个类别或者多个类别的标记\n",
    "        if not np.unique(label).tolist()==[0,1,2,3]:\n",
    "            error_samples.append(sample_name)\n",
    "            print(\"error sample(no dura/SC):\",sample_name)\n",
    "            continue\n",
    "        \n",
    "        #if not np.abs(np.array(image.shape)-np.array(seg.shape[1::])).sum()<=1:\n",
    "        if not image.shape == label.shape:\n",
    "            error_samples.append(sample_name)\n",
    "            print(\"error sample(mismatch shape of image and label):\",sample_name)\n",
    "            continue\n",
    "            \n",
    "        \n",
    "        ## 调整类别顺序，注意：seg是onehot编码\n",
    "        target_name = ['dura','bone','SC']#目标类别顺序\n",
    "        idx = [label_name.index(name) for name in target_name]\n",
    "        idx = np.array(idx)+1\n",
    "        idx = [0]+idx.tolist()\n",
    "        label = array_replace(label,olds=[0,1,2,3],news=idx)\n",
    "        \n",
    "        # 合并骨头到背景中\n",
    "        label[label==2] = 0\n",
    "        label[label==3] = 2\n",
    "        \n",
    "        print(\"uncut image.shape:\",image.shape,\"uncut label.shape:\",label.shape)\n",
    "        assert np.unique(label).tolist()==[0,1,2], print('pixel classes are not [0,1,2]') \n",
    "        \n",
    "        # cut\n",
    "        tempL = np.nonzero(label)\n",
    "        minx, maxx = np.min(tempL[0]), np.max(tempL[0])\n",
    "        miny, maxy = np.min(tempL[1]), np.max(tempL[1])\n",
    "        minz, maxz = np.min(tempL[2]), np.max(tempL[2])\n",
    "        w, h, d = label.shape\n",
    "        px = max(output_size[0] - (maxx - minx), 0) // 2\n",
    "        py = max(output_size[1] - (maxy - miny), 0) // 2\n",
    "        minx = max(minx - np.random.randint(10, 20) - px, 0)\n",
    "        maxx = min(maxx + np.random.randint(10, 20) + px, w)\n",
    "        miny = max(miny - np.random.randint(10, 20) - py, 0)\n",
    "        maxy = min(maxy + np.random.randint(10, 20) + py, h)\n",
    "        \n",
    "        image = image[minx:maxx, miny:maxy]\n",
    "        label = label[minx:maxx, miny:maxy]\n",
    "        print(\"cut image.shape:\",image.shape, \"cut label.shape:\",label.shape)\n",
    "        \n",
    "        f = h5py.File(item.replace(old_replaced, new_replaced), 'w')\n",
    "        f.create_dataset('image', data=image, compression=\"gzip\")\n",
    "        f.create_dataset('label', data=label, compression=\"gzip\")\n",
    "        f.close()\n",
    "    print(\"total number of seg-samples:\", len(listt))\n",
    "    return error_samples\n",
    "\n",
    "def covert_h5_unseg(glob_str, old_replaced, new_replaced):\n",
    "    \"\"\"\n",
    "    备注：无标注数据的格式转换\n",
    "    \"\"\"\n",
    "    listt = glob(glob_str)\n",
    "    for item in tqdm(listt):\n",
    "        sample_name = item.split('/')[-2]\n",
    "        print(sample_name,':')#win系统改为'\\\\'\n",
    "        image = sitk.ReadImage(item)\n",
    "        \n",
    "        # resample\n",
    "        newspacing = [0.3, 0.3, 3.0]\n",
    "        image = resample_image3D(image,newspacing,method='Linear')\n",
    "        image = sitk.GetArrayFromImage(image).transpose((2,1,0))#tanspose之后才能与sizes匹配\n",
    "        \n",
    "        # 灰度标准化\n",
    "        image = (image - np.mean(image)) / np.std(image)\n",
    "        image = image.astype(np.float32)\n",
    "        print(\"image shape:\",image.shape)\n",
    "        \n",
    "        f = h5py.File(item.replace(old_replaced, new_replaced), 'w')\n",
    "        f.create_dataset('image', data=image, compression=\"gzip\")\n",
    "        f.close()  \n",
    "    print(\"total number of unseg-samples:\", len(listt))\n",
    "\n",
    "    \n",
    "if __name__ == '__main__':\n",
    "    # 有标签数据\n",
    "    print('seg dataset:')\n",
    "    ## 先删除旧文件\n",
    "    dataset_dir = '../../data/CTM_dataset/Segmented'\n",
    "    re = os.path.join(dataset_dir,'*/mri_norm2.h5')\n",
    "    remove_files(re=re)\n",
    "    ## 再生成新文件\n",
    "    glob_str = '../../data/CTM_dataset/Segmented/*/CTM.nrrd'\n",
    "    error_samples=covert_h5(glob_str,'CTM.nrrd','mri_norm2.h5')\n",
    "    \n",
    "    # 无标签数据\n",
    "    print('unseg dataset:')\n",
    "    ## 先删除旧文件\n",
    "    dataset_dir = '../../data/CTM_dataset/unSegmented'\n",
    "    re = os.path.join(dataset_dir,'*/mri_norm2.h5')\n",
    "    remove_files(re=re)\n",
    "    ## 再生成新文件\n",
    "    glob_str = '../../data/CTM_dataset/unSegmented/*/CTM.nrrd'\n",
    "    covert_h5_unseg(glob_str,'CTM.nrrd','mri_norm2.h5')\n",
    "    glob_str = '../../data/CTM_dataset/unSegmented/*/CT-vol.nrrd'\n",
    "    covert_h5_unseg(glob_str,'CT-vol.nrrd','mri_norm2.h5')      \n"
   ]
  },
  {
   "cell_type": "markdown",
   "metadata": {
    "uuid": "e46e403d-1642-4266-861e-d60f4a53963b"
   },
   "source": [
    "# 数据集划分&生成*.list文件"
   ]
  },
  {
   "cell_type": "code",
   "execution_count": 2,
   "metadata": {
    "uuid": "7a620199-528b-4923-80b6-c07f1a09efa7"
   },
   "outputs": [],
   "source": [
    "from dataset_split import dataset_split, make_dataset_list\n",
    "# 有标签数据\n",
    "save_dir = '../../data/CTM_dataset'\n",
    "dataset_dir = '../../data/CTM_dataset/Segmented'\n",
    "list_train,list_test = dataset_split(path=dataset_dir,save_dir=save_dir)\n",
    "# 无标签数据\n",
    "dataset_dir = '../../data/CTM_dataset/unSegmented'\n",
    "make_dataset_list(path=dataset_dir,save_dir=save_dir)"
   ]
  },
  {
   "cell_type": "code",
   "execution_count": 3,
   "metadata": {
    "uuid": "5d2ecf4c-da60-4acb-87e9-acfd0489c941"
   },
   "outputs": [
    {
     "data": {
      "text/plain": [
       "['1709234', '1409022-no SC', 'B1709234', 'B1334915-need revision', 'B1409022']"
      ]
     },
     "execution_count": 3,
     "metadata": {},
     "output_type": "execute_result"
    }
   ],
   "source": [
    "error_samples"
   ]
  },
  {
   "cell_type": "code",
   "execution_count": 4,
   "metadata": {
    "uuid": "6219be82-2458-4b19-a782-08e1642dee9d"
   },
   "outputs": [
    {
     "data": {
      "text/plain": [
       "['B1272415',\n",
       " '1756747',\n",
       " '1685560',\n",
       " '1227957',\n",
       " '1433061',\n",
       " 'B840383',\n",
       " 'B1328036',\n",
       " 'B1182723',\n",
       " '945286',\n",
       " '1261721',\n",
       " 'B976555',\n",
       " 'B1424004',\n",
       " '1775169',\n",
       " '1433611',\n",
       " '1247642',\n",
       " '1198882',\n",
       " '772230',\n",
       " '1460036-thoracic',\n",
       " 'b1700637-neck',\n",
       " '1650523',\n",
       " 'b1729235-noexcel',\n",
       " '928647',\n",
       " 'b824280-dingzi',\n",
       " 'B805736',\n",
       " '976555',\n",
       " 'B1756747',\n",
       " 'B820056',\n",
       " '1713865',\n",
       " '602788',\n",
       " '634961',\n",
       " 'B1425167',\n",
       " '970380',\n",
       " 'b1460036-neck',\n",
       " '1187634',\n",
       " '1204183-dingzi',\n",
       " 'b930124',\n",
       " 'B1713865',\n",
       " '797018',\n",
       " '845929',\n",
       " 'B1536553',\n",
       " 'B843043',\n",
       " 'b1433611',\n",
       " 'B1448326',\n",
       " '824280-dingzi',\n",
       " 'b936932-dingzi',\n",
       " 'B1302098',\n",
       " 'b1071084',\n",
       " 'B1694915',\n",
       " 'B1559027',\n",
       " '1546477',\n",
       " 'B1362738',\n",
       " '1700637',\n",
       " 'b1460036-thoracic',\n",
       " 'B1352900',\n",
       " 'B1227957',\n",
       " 'B1027338',\n",
       " 'B617529',\n",
       " '643486',\n",
       " '759663',\n",
       " 'B669349',\n",
       " 'B685245',\n",
       " 'B1632110',\n",
       " 'B945286-dingzi',\n",
       " 'B1532418',\n",
       " 'B634961',\n",
       " '1362738',\n",
       " 'B652658',\n",
       " 'B1049094',\n",
       " '1302098',\n",
       " 'B1433061',\n",
       " '1424004',\n",
       " 'B1658899',\n",
       " 'B820069',\n",
       " '987535',\n",
       " '1333768',\n",
       " 'B868763',\n",
       " 'B825869',\n",
       " '820056',\n",
       " 'b1171704-neck',\n",
       " 'B1261721',\n",
       " 'B970380',\n",
       " '936932-dingzi',\n",
       " '1334915-neck',\n",
       " '820069',\n",
       " '910568',\n",
       " '930124',\n",
       " '1521755',\n",
       " '872077',\n",
       " '1018366',\n",
       " '840383',\n",
       " 'B928806',\n",
       " '1784289-no excel',\n",
       " '1532418',\n",
       " '1352900',\n",
       " '805736',\n",
       " '1049094',\n",
       " '1006763',\n",
       " 'B759663',\n",
       " 'b1784289-noexcel',\n",
       " 'b1198882',\n",
       " 'B1650523',\n",
       " '644731',\n",
       " 'B1181908',\n",
       " 'B910568',\n",
       " '1027338',\n",
       " '1694915',\n",
       " 'b1204183-dingzi',\n",
       " 'B1735950',\n",
       " 'B797018',\n",
       " '928806',\n",
       " '617529',\n",
       " 'B845929',\n",
       " 'B1006763',\n",
       " 'B1775169',\n",
       " '1700637-neck',\n",
       " 'B643486',\n",
       " '652658',\n",
       " 'B1673882',\n",
       " 'B1330032',\n",
       " 'B1298116',\n",
       " 'B1678746',\n",
       " '1330032',\n",
       " '1371504',\n",
       " '1298116',\n",
       " 'B872077',\n",
       " 'B1521755',\n",
       " 'B1700637-lumbar',\n",
       " '1181908',\n",
       " '1328036',\n",
       " '1171704-neck',\n",
       " '1460036-neck',\n",
       " '1427578',\n",
       " 'b1334915-neck',\n",
       " 'B604203',\n",
       " '1182723',\n",
       " '685245',\n",
       " '614745',\n",
       " 'B644731',\n",
       " 'B602788',\n",
       " 'B1767866']"
      ]
     },
     "execution_count": 4,
     "metadata": {},
     "output_type": "execute_result"
    }
   ],
   "source": [
    "list_train"
   ]
  },
  {
   "cell_type": "code",
   "execution_count": null,
   "metadata": {
    "uuid": "e0963acb-d905-4193-8b3c-2341d18a5dbb"
   },
   "outputs": [],
   "source": []
  }
 ],
 "metadata": {
  "kernelspec": {
   "display_name": "Python 3",
   "language": "python",
   "name": "python3"
  },
  "language_info": {
   "codemirror_mode": {
    "name": "ipython",
    "version": 3
   },
   "file_extension": ".py",
   "mimetype": "text/x-python",
   "name": "python",
   "nbconvert_exporter": "python",
   "pygments_lexer": "ipython3",
   "version": "3.6.4"
  }
 },
 "nbformat": 4,
 "nbformat_minor": 2
}
