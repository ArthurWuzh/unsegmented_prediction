{
 "cells": [
  {
   "cell_type": "markdown",
   "metadata": {},
   "source": [
    "血的教训:\n",
    "1. 对mask做插值(rescale,resize),一定且只能在onehot编码上操作\n",
    "2. 不能用skimage,一定要用sitk"
   ]
  },
  {
   "cell_type": "code",
   "execution_count": null,
   "metadata": {
    "scrolled": true
   },
   "outputs": [
    {
     "name": "stdout",
     "output_type": "stream",
     "text": [
      "unseg dataset:\n"
     ]
    },
    {
     "name": "stderr",
     "output_type": "stream",
     "text": [
      "\r",
      "  0%|          | 0/212 [00:00<?, ?it/s]"
     ]
    },
    {
     "name": "stdout",
     "output_type": "stream",
     "text": [
      "b1261721 :\n",
      "image shape: (515, 515, 71)\n"
     ]
    },
    {
     "name": "stderr",
     "output_type": "stream",
     "text": [
      "\r",
      "  0%|          | 1/212 [00:02<07:36,  2.16s/it]"
     ]
    },
    {
     "name": "stdout",
     "output_type": "stream",
     "text": [
      "1302098 :\n",
      "image shape: (565, 565, 72)\n"
     ]
    },
    {
     "name": "stderr",
     "output_type": "stream",
     "text": [
      "\r",
      "  1%|          | 2/212 [00:04<07:45,  2.22s/it]"
     ]
    },
    {
     "name": "stdout",
     "output_type": "stream",
     "text": [
      "1336587-dingzi :\n",
      "image shape: (555, 555, 71)\n"
     ]
    },
    {
     "name": "stderr",
     "output_type": "stream",
     "text": [
      "\r",
      "  1%|▏         | 3/212 [00:06<07:46,  2.23s/it]"
     ]
    },
    {
     "name": "stdout",
     "output_type": "stream",
     "text": [
      "b1532717 :\n",
      "image shape: (468, 468, 82)\n"
     ]
    },
    {
     "name": "stderr",
     "output_type": "stream",
     "text": [
      "\r",
      "  2%|▏         | 4/212 [00:08<07:37,  2.20s/it]"
     ]
    },
    {
     "name": "stdout",
     "output_type": "stream",
     "text": [
      "b1232165 :\n",
      "image shape: (799, 799, 92)\n"
     ]
    },
    {
     "name": "stderr",
     "output_type": "stream",
     "text": [
      "\r",
      "  2%|▏         | 5/212 [00:15<11:44,  3.41s/it]"
     ]
    },
    {
     "name": "stdout",
     "output_type": "stream",
     "text": [
      "1204336 :\n",
      "image shape: (565, 565, 74)\n"
     ]
    },
    {
     "name": "stderr",
     "output_type": "stream",
     "text": [
      "\r",
      "  3%|▎         | 6/212 [00:17<10:36,  3.09s/it]"
     ]
    },
    {
     "name": "stdout",
     "output_type": "stream",
     "text": [
      "b1330821 :\n",
      "image shape: (512, 512, 82)\n"
     ]
    },
    {
     "name": "stderr",
     "output_type": "stream",
     "text": [
      "\r",
      "  3%|▎         | 7/212 [00:23<13:43,  4.02s/it]"
     ]
    },
    {
     "name": "stdout",
     "output_type": "stream",
     "text": [
      "b1203609 :\n",
      "image shape: (645, 645, 78)\n"
     ]
    },
    {
     "name": "stderr",
     "output_type": "stream",
     "text": [
      "\r",
      "  4%|▍         | 8/212 [00:27<13:20,  3.92s/it]"
     ]
    },
    {
     "name": "stdout",
     "output_type": "stream",
     "text": [
      "b1273842 :\n",
      "image shape: (558, 558, 79)\n"
     ]
    },
    {
     "name": "stderr",
     "output_type": "stream",
     "text": [
      "\r",
      "  4%|▍         | 9/212 [00:29<11:52,  3.51s/it]"
     ]
    },
    {
     "name": "stdout",
     "output_type": "stream",
     "text": [
      "610558 :\n",
      "image shape: (802, 802, 72)\n"
     ]
    },
    {
     "name": "stderr",
     "output_type": "stream",
     "text": [
      "\r",
      "  5%|▍         | 10/212 [00:34<12:40,  3.77s/it]"
     ]
    },
    {
     "name": "stdout",
     "output_type": "stream",
     "text": [
      "b1559027 :\n",
      "image shape: (492, 492, 73)\n"
     ]
    },
    {
     "name": "stderr",
     "output_type": "stream",
     "text": [
      "\r",
      "  5%|▌         | 11/212 [00:36<10:58,  3.27s/it]"
     ]
    },
    {
     "name": "stdout",
     "output_type": "stream",
     "text": [
      "B1102588-dingzi :\n",
      "image shape: (519, 519, 180)\n"
     ]
    },
    {
     "name": "stderr",
     "output_type": "stream",
     "text": [
      "\r",
      "  6%|▌         | 12/212 [00:42<13:26,  4.03s/it]"
     ]
    },
    {
     "name": "stdout",
     "output_type": "stream",
     "text": [
      "b1330032 :\n",
      "image shape: (599, 599, 90)\n"
     ]
    },
    {
     "name": "stderr",
     "output_type": "stream",
     "text": [
      "\r",
      "  6%|▌         | 13/212 [00:45<12:39,  3.82s/it]"
     ]
    },
    {
     "name": "stdout",
     "output_type": "stream",
     "text": [
      "1240266 :\n",
      "image shape: (625, 625, 105)\n"
     ]
    },
    {
     "name": "stderr",
     "output_type": "stream",
     "text": [
      "\r",
      "  7%|▋         | 14/212 [00:49<12:50,  3.89s/it]"
     ]
    },
    {
     "name": "stdout",
     "output_type": "stream",
     "text": [
      "1466425 :\n",
      "image shape: (550, 550, 102)\n"
     ]
    },
    {
     "name": "stderr",
     "output_type": "stream",
     "text": [
      "\r",
      "  7%|▋         | 15/212 [00:52<11:37,  3.54s/it]"
     ]
    },
    {
     "name": "stdout",
     "output_type": "stream",
     "text": [
      "1460036-neck :\n",
      "image shape: (500, 500, 63)\n"
     ]
    },
    {
     "name": "stderr",
     "output_type": "stream",
     "text": [
      "\r",
      "  8%|▊         | 16/212 [00:53<09:45,  2.99s/it]"
     ]
    },
    {
     "name": "stdout",
     "output_type": "stream",
     "text": [
      "b1366651 :\n",
      "image shape: (534, 534, 79)\n"
     ]
    },
    {
     "name": "stderr",
     "output_type": "stream",
     "text": [
      "\r",
      "  8%|▊         | 17/212 [00:56<09:14,  2.84s/it]"
     ]
    },
    {
     "name": "stdout",
     "output_type": "stream",
     "text": [
      "1333768 :\n",
      "image shape: (630, 630, 63)\n"
     ]
    },
    {
     "name": "stderr",
     "output_type": "stream",
     "text": [
      "\r",
      "  8%|▊         | 18/212 [00:58<08:43,  2.70s/it]"
     ]
    },
    {
     "name": "stdout",
     "output_type": "stream",
     "text": [
      "1171704-neck :\n",
      "image shape: (500, 500, 61)\n"
     ]
    },
    {
     "name": "stderr",
     "output_type": "stream",
     "text": [
      "\r",
      "  9%|▉         | 19/212 [01:00<07:39,  2.38s/it]"
     ]
    },
    {
     "name": "stdout",
     "output_type": "stream",
     "text": [
      "1700637 :\n",
      "image shape: (478, 478, 95)\n"
     ]
    },
    {
     "name": "stderr",
     "output_type": "stream",
     "text": [
      "\r",
      "  9%|▉         | 20/212 [01:02<07:18,  2.28s/it]"
     ]
    },
    {
     "name": "stdout",
     "output_type": "stream",
     "text": [
      "824280-dingzi :\n",
      "image shape: (1015, 1015, 85)\n"
     ]
    },
    {
     "name": "stderr",
     "output_type": "stream",
     "text": [
      "\r",
      " 10%|▉         | 21/212 [01:11<13:11,  4.14s/it]"
     ]
    },
    {
     "name": "stdout",
     "output_type": "stream",
     "text": [
      "B664822 :\n",
      "image shape: (724, 724, 107)\n"
     ]
    },
    {
     "name": "stderr",
     "output_type": "stream",
     "text": [
      "\r",
      " 10%|█         | 22/212 [01:17<15:12,  4.80s/it]"
     ]
    },
    {
     "name": "stdout",
     "output_type": "stream",
     "text": [
      "b1771895 :\n",
      "image shape: (445, 445, 64)\n"
     ]
    },
    {
     "name": "stderr",
     "output_type": "stream",
     "text": [
      "\r",
      " 11%|█         | 23/212 [01:18<11:54,  3.78s/it]"
     ]
    },
    {
     "name": "stdout",
     "output_type": "stream",
     "text": [
      "1475355 :\n",
      "image shape: (647, 647, 71)\n"
     ]
    },
    {
     "name": "stderr",
     "output_type": "stream",
     "text": [
      "\r",
      " 11%|█▏        | 24/212 [01:21<10:54,  3.48s/it]"
     ]
    },
    {
     "name": "stdout",
     "output_type": "stream",
     "text": [
      "1536553 :\n",
      "image shape: (625, 625, 85)\n"
     ]
    },
    {
     "name": "stderr",
     "output_type": "stream",
     "text": [
      "\r",
      " 12%|█▏        | 25/212 [01:25<10:50,  3.48s/it]"
     ]
    },
    {
     "name": "stdout",
     "output_type": "stream",
     "text": [
      "b1738413 :\n",
      "image shape: (599, 599, 82)\n"
     ]
    },
    {
     "name": "stderr",
     "output_type": "stream",
     "text": [
      "\r",
      " 12%|█▏        | 26/212 [01:27<10:09,  3.28s/it]"
     ]
    },
    {
     "name": "stdout",
     "output_type": "stream",
     "text": [
      "b1450355 :\n",
      "image shape: (799, 799, 72)\n"
     ]
    },
    {
     "name": "stderr",
     "output_type": "stream",
     "text": [
      "\r",
      " 13%|█▎        | 27/212 [01:32<11:33,  3.75s/it]"
     ]
    },
    {
     "name": "stdout",
     "output_type": "stream",
     "text": [
      "b1227957 :\n",
      "image shape: (799, 799, 71)\n"
     ]
    },
    {
     "name": "stderr",
     "output_type": "stream",
     "text": [
      "\r",
      " 13%|█▎        | 28/212 [01:37<12:16,  4.00s/it]"
     ]
    },
    {
     "name": "stdout",
     "output_type": "stream",
     "text": [
      "774851-2 :\n",
      "image shape: (599, 599, 82)\n"
     ]
    },
    {
     "name": "stderr",
     "output_type": "stream",
     "text": [
      "\r",
      " 14%|█▎        | 29/212 [01:39<10:58,  3.60s/it]"
     ]
    },
    {
     "name": "stdout",
     "output_type": "stream",
     "text": [
      "b1532418 :\n",
      "image shape: (620, 620, 79)\n"
     ]
    },
    {
     "name": "stderr",
     "output_type": "stream",
     "text": [
      "\r",
      " 14%|█▍        | 30/212 [01:43<10:27,  3.45s/it]"
     ]
    },
    {
     "name": "stdout",
     "output_type": "stream",
     "text": [
      "B682651 :\n",
      "image shape: (546, 546, 85)\n"
     ]
    },
    {
     "name": "stderr",
     "output_type": "stream",
     "text": [
      "\r",
      " 15%|█▍        | 31/212 [01:45<09:43,  3.23s/it]"
     ]
    },
    {
     "name": "stdout",
     "output_type": "stream",
     "text": [
      "1330032 :\n",
      "image shape: (599, 599, 90)\n"
     ]
    },
    {
     "name": "stderr",
     "output_type": "stream",
     "text": [
      "\r",
      " 15%|█▌        | 32/212 [01:48<09:30,  3.17s/it]"
     ]
    },
    {
     "name": "stdout",
     "output_type": "stream",
     "text": [
      "b1006763 :\n",
      "image shape: (611, 611, 82)\n"
     ]
    },
    {
     "name": "stderr",
     "output_type": "stream",
     "text": [
      "\r",
      " 16%|█▌        | 33/212 [01:52<09:42,  3.25s/it]"
     ]
    },
    {
     "name": "stdout",
     "output_type": "stream",
     "text": [
      "b1460036-neck :\n",
      "image shape: (500, 500, 63)\n"
     ]
    },
    {
     "name": "stderr",
     "output_type": "stream",
     "text": [
      "\r",
      " 16%|█▌        | 34/212 [01:54<08:20,  2.81s/it]"
     ]
    },
    {
     "name": "stdout",
     "output_type": "stream",
     "text": [
      "b1373427 :\n",
      "image shape: (606, 606, 84)\n"
     ]
    },
    {
     "name": "stderr",
     "output_type": "stream",
     "text": [
      "\r",
      " 17%|█▋        | 35/212 [01:57<08:38,  2.93s/it]"
     ]
    },
    {
     "name": "stdout",
     "output_type": "stream",
     "text": [
      "B1685560-lumbar :\n",
      "image shape: (625, 625, 151)\n"
     ]
    },
    {
     "name": "stderr",
     "output_type": "stream",
     "text": [
      "\r",
      " 17%|█▋        | 36/212 [02:03<11:52,  4.05s/it]"
     ]
    },
    {
     "name": "stdout",
     "output_type": "stream",
     "text": [
      "1467719 :\n",
      "image shape: (637, 637, 80)\n"
     ]
    },
    {
     "name": "stderr",
     "output_type": "stream",
     "text": [
      "\r",
      " 17%|█▋        | 37/212 [02:06<10:54,  3.74s/it]"
     ]
    },
    {
     "name": "stdout",
     "output_type": "stream",
     "text": [
      "1228776 :\n",
      "image shape: (799, 799, 81)\n"
     ]
    },
    {
     "name": "stderr",
     "output_type": "stream",
     "text": [
      "\r",
      " 18%|█▊        | 38/212 [02:11<12:00,  4.14s/it]"
     ]
    },
    {
     "name": "stdout",
     "output_type": "stream",
     "text": [
      "b1049094 :\n",
      "image shape: (490, 490, 73)\n"
     ]
    },
    {
     "name": "stderr",
     "output_type": "stream",
     "text": [
      "\r",
      " 18%|█▊        | 39/212 [02:14<10:07,  3.51s/it]"
     ]
    },
    {
     "name": "stdout",
     "output_type": "stream",
     "text": [
      "b1022888 :\n",
      "image shape: (678, 678, 85)\n"
     ]
    },
    {
     "name": "stderr",
     "output_type": "stream",
     "text": [
      "\r",
      " 19%|█▉        | 40/212 [02:18<10:41,  3.73s/it]"
     ]
    },
    {
     "name": "stdout",
     "output_type": "stream",
     "text": [
      "b182723 :\n",
      "image shape: (587, 587, 75)\n"
     ]
    },
    {
     "name": "stderr",
     "output_type": "stream",
     "text": [
      "\r",
      " 19%|█▉        | 41/212 [02:20<09:45,  3.42s/it]"
     ]
    },
    {
     "name": "stdout",
     "output_type": "stream",
     "text": [
      "b1602447 :\n",
      "image shape: (640, 640, 73)\n"
     ]
    },
    {
     "name": "stderr",
     "output_type": "stream",
     "text": [
      "\r",
      " 20%|█▉        | 42/212 [02:27<12:04,  4.26s/it]"
     ]
    },
    {
     "name": "stdout",
     "output_type": "stream",
     "text": [
      "1123189 :\n",
      "image shape: (799, 799, 69)\n"
     ]
    },
    {
     "name": "stderr",
     "output_type": "stream",
     "text": [
      "\r",
      " 20%|██        | 43/212 [02:31<12:06,  4.30s/it]"
     ]
    },
    {
     "name": "stdout",
     "output_type": "stream",
     "text": [
      "b1658899 :\n",
      "image shape: (799, 799, 68)\n"
     ]
    },
    {
     "name": "stderr",
     "output_type": "stream",
     "text": [
      "\r",
      " 21%|██        | 44/212 [02:35<12:05,  4.32s/it]"
     ]
    },
    {
     "name": "stdout",
     "output_type": "stream",
     "text": [
      "1775169 :\n",
      "image shape: (483, 483, 60)\n"
     ]
    },
    {
     "name": "stderr",
     "output_type": "stream",
     "text": [
      "\r",
      " 21%|██        | 45/212 [02:37<09:36,  3.45s/it]"
     ]
    },
    {
     "name": "stdout",
     "output_type": "stream",
     "text": [
      "1396101 :\n",
      "image shape: (799, 799, 77)\n"
     ]
    },
    {
     "name": "stderr",
     "output_type": "stream",
     "text": [
      "\r",
      " 22%|██▏       | 46/212 [02:42<10:44,  3.88s/it]"
     ]
    },
    {
     "name": "stdout",
     "output_type": "stream",
     "text": [
      "b1756747 :\n",
      "image shape: (471, 471, 77)\n"
     ]
    },
    {
     "name": "stderr",
     "output_type": "stream",
     "text": [
      "\r",
      " 22%|██▏       | 47/212 [02:44<08:56,  3.25s/it]"
     ]
    },
    {
     "name": "stdout",
     "output_type": "stream",
     "text": [
      "1261721 :\n",
      "image shape: (515, 515, 71)\n"
     ]
    },
    {
     "name": "stderr",
     "output_type": "stream",
     "text": [
      "\r",
      " 23%|██▎       | 48/212 [02:46<07:50,  2.87s/it]"
     ]
    },
    {
     "name": "stdout",
     "output_type": "stream",
     "text": [
      "b1425167 :\n",
      "image shape: (799, 799, 85)\n"
     ]
    },
    {
     "name": "stderr",
     "output_type": "stream",
     "text": [
      "\r",
      " 23%|██▎       | 49/212 [02:51<10:10,  3.74s/it]"
     ]
    },
    {
     "name": "stdout",
     "output_type": "stream",
     "text": [
      "b1245231 :\n",
      "image shape: (519, 519, 77)\n"
     ]
    },
    {
     "name": "stderr",
     "output_type": "stream",
     "text": [
      "\r",
      " 24%|██▎       | 50/212 [02:54<08:58,  3.33s/it]"
     ]
    },
    {
     "name": "stdout",
     "output_type": "stream",
     "text": [
      "1669821 :\n",
      "image shape: (637, 637, 74)\n"
     ]
    },
    {
     "name": "stderr",
     "output_type": "stream",
     "text": [
      "\r",
      " 24%|██▍       | 51/212 [02:56<08:31,  3.17s/it]"
     ]
    },
    {
     "name": "stdout",
     "output_type": "stream",
     "text": [
      "b1673882 :\n",
      "image shape: (628, 628, 85)\n"
     ]
    },
    {
     "name": "stderr",
     "output_type": "stream",
     "text": [
      "\r",
      " 25%|██▍       | 52/212 [03:00<08:49,  3.31s/it]"
     ]
    },
    {
     "name": "stdout",
     "output_type": "stream",
     "text": [
      "1393868 :\n",
      "image shape: (802, 802, 72)\n"
     ]
    },
    {
     "name": "stderr",
     "output_type": "stream",
     "text": [
      "\r",
      " 25%|██▌       | 53/212 [03:04<09:35,  3.62s/it]"
     ]
    },
    {
     "name": "stdout",
     "output_type": "stream",
     "text": [
      "1232165 :\n",
      "image shape: (799, 799, 92)\n"
     ]
    },
    {
     "name": "stderr",
     "output_type": "stream",
     "text": [
      "\r",
      " 25%|██▌       | 54/212 [03:10<11:05,  4.21s/it]"
     ]
    },
    {
     "name": "stdout",
     "output_type": "stream",
     "text": [
      "b1738145 :\n",
      "image shape: (502, 502, 80)\n"
     ]
    },
    {
     "name": "stderr",
     "output_type": "stream",
     "text": [
      "\r",
      " 26%|██▌       | 55/212 [03:12<09:29,  3.63s/it]"
     ]
    },
    {
     "name": "stdout",
     "output_type": "stream",
     "text": [
      "1409022 :\n",
      "image shape: (633, 633, 76)\n"
     ]
    },
    {
     "name": "stderr",
     "output_type": "stream",
     "text": [
      "\r",
      " 26%|██▋       | 56/212 [03:15<08:52,  3.41s/it]"
     ]
    },
    {
     "name": "stdout",
     "output_type": "stream",
     "text": [
      "1673882 :\n",
      "image shape: (628, 628, 85)\n"
     ]
    },
    {
     "name": "stderr",
     "output_type": "stream",
     "text": [
      "\r",
      " 27%|██▋       | 57/212 [03:19<08:44,  3.38s/it]"
     ]
    },
    {
     "name": "stdout",
     "output_type": "stream",
     "text": [
      "b1632110 :\n",
      "image shape: (666, 666, 79)\n"
     ]
    },
    {
     "name": "stderr",
     "output_type": "stream",
     "text": [
      "\r",
      " 27%|██▋       | 58/212 [03:22<08:58,  3.50s/it]"
     ]
    },
    {
     "name": "stdout",
     "output_type": "stream",
     "text": [
      "1771895 :\n",
      "image shape: (445, 445, 64)\n"
     ]
    },
    {
     "name": "stderr",
     "output_type": "stream",
     "text": [
      "\r",
      " 28%|██▊       | 59/212 [03:24<07:13,  2.83s/it]"
     ]
    },
    {
     "name": "stdout",
     "output_type": "stream",
     "text": [
      "1273842 :\n",
      "image shape: (558, 558, 79)\n"
     ]
    },
    {
     "name": "stderr",
     "output_type": "stream",
     "text": [
      "\r",
      " 28%|██▊       | 60/212 [03:26<06:46,  2.68s/it]"
     ]
    },
    {
     "name": "stdout",
     "output_type": "stream",
     "text": [
      "1602447 :\n",
      "image shape: (640, 640, 73)\n"
     ]
    },
    {
     "name": "stderr",
     "output_type": "stream",
     "text": [
      "\r",
      " 29%|██▉       | 61/212 [03:32<09:08,  3.63s/it]"
     ]
    },
    {
     "name": "stdout",
     "output_type": "stream",
     "text": [
      "b1521755 :\n",
      "image shape: (478, 478, 83)\n"
     ]
    },
    {
     "name": "stderr",
     "output_type": "stream",
     "text": [
      "\r",
      " 29%|██▉       | 62/212 [03:34<08:00,  3.20s/it]"
     ]
    },
    {
     "name": "stdout",
     "output_type": "stream",
     "text": [
      "1756747 :\n",
      "image shape: (471, 471, 77)\n"
     ]
    },
    {
     "name": "stderr",
     "output_type": "stream",
     "text": [
      "\r",
      " 30%|██▉       | 63/212 [03:36<06:48,  2.74s/it]"
     ]
    },
    {
     "name": "stdout",
     "output_type": "stream",
     "text": [
      "1612086 :\n",
      "image shape: (802, 802, 68)\n"
     ]
    },
    {
     "name": "stderr",
     "output_type": "stream",
     "text": [
      "\r",
      " 30%|███       | 64/212 [03:40<07:51,  3.19s/it]"
     ]
    },
    {
     "name": "stdout",
     "output_type": "stream",
     "text": [
      "1678746 :\n",
      "image shape: (565, 565, 85)\n"
     ]
    },
    {
     "name": "stderr",
     "output_type": "stream",
     "text": [
      "\r",
      " 31%|███       | 65/212 [03:42<07:24,  3.02s/it]"
     ]
    },
    {
     "name": "stdout",
     "output_type": "stream",
     "text": [
      "1225089 :\n",
      "image shape: (737, 737, 84)\n"
     ]
    },
    {
     "name": "stderr",
     "output_type": "stream",
     "text": [
      "\r",
      " 31%|███       | 66/212 [03:47<08:48,  3.62s/it]"
     ]
    },
    {
     "name": "stdout",
     "output_type": "stream",
     "text": [
      "1632110 :\n",
      "image shape: (666, 666, 79)\n"
     ]
    },
    {
     "name": "stderr",
     "output_type": "stream",
     "text": [
      "\r",
      " 32%|███▏      | 67/212 [03:51<08:38,  3.58s/it]"
     ]
    },
    {
     "name": "stdout",
     "output_type": "stream",
     "text": [
      "b1336587-dingzi :\n",
      "image shape: (555, 555, 71)\n"
     ]
    },
    {
     "name": "stderr",
     "output_type": "stream",
     "text": [
      "\r",
      " 32%|███▏      | 68/212 [03:53<07:45,  3.23s/it]"
     ]
    },
    {
     "name": "stdout",
     "output_type": "stream",
     "text": [
      "b1583550 :\n",
      "image shape: (486, 486, 78)\n"
     ]
    },
    {
     "name": "stderr",
     "output_type": "stream",
     "text": [
      "\r",
      " 33%|███▎      | 69/212 [03:55<06:46,  2.84s/it]"
     ]
    },
    {
     "name": "stdout",
     "output_type": "stream",
     "text": [
      "b1148448 :\n",
      "image shape: (565, 565, 75)\n"
     ]
    },
    {
     "name": "stderr",
     "output_type": "stream",
     "text": [
      "\r",
      " 33%|███▎      | 70/212 [03:58<06:30,  2.75s/it]"
     ]
    },
    {
     "name": "stdout",
     "output_type": "stream",
     "text": [
      "b1547418 :\n",
      "image shape: (534, 534, 85)\n"
     ]
    },
    {
     "name": "stderr",
     "output_type": "stream",
     "text": [
      "\r",
      " 33%|███▎      | 71/212 [04:00<06:20,  2.70s/it]"
     ]
    },
    {
     "name": "stdout",
     "output_type": "stream",
     "text": [
      "b936932-dingzi :\n",
      "image shape: (799, 799, 85)\n"
     ]
    },
    {
     "name": "stderr",
     "output_type": "stream",
     "text": [
      "\r",
      " 34%|███▍      | 72/212 [04:06<08:37,  3.69s/it]"
     ]
    },
    {
     "name": "stdout",
     "output_type": "stream",
     "text": [
      "b1623334 :\n",
      "image shape: (512, 512, 68)\n"
     ]
    },
    {
     "name": "stderr",
     "output_type": "stream",
     "text": [
      "\r",
      " 34%|███▍      | 73/212 [04:11<09:21,  4.04s/it]"
     ]
    },
    {
     "name": "stdout",
     "output_type": "stream",
     "text": [
      "1597431 :\n",
      "image shape: (647, 647, 99)\n"
     ]
    },
    {
     "name": "stderr",
     "output_type": "stream",
     "text": [
      "\r",
      " 35%|███▍      | 74/212 [04:15<09:23,  4.08s/it]"
     ]
    },
    {
     "name": "stdout",
     "output_type": "stream",
     "text": [
      "1671660 :\n",
      "image shape: (799, 799, 85)\n"
     ]
    },
    {
     "name": "stderr",
     "output_type": "stream",
     "text": [
      "\r",
      " 35%|███▌      | 75/212 [04:21<10:07,  4.44s/it]"
     ]
    },
    {
     "name": "stdout",
     "output_type": "stream",
     "text": [
      "b1204183-dingzi :\n",
      "image shape: (621, 621, 84)\n"
     ]
    },
    {
     "name": "stderr",
     "output_type": "stream",
     "text": [
      "\r",
      " 36%|███▌      | 76/212 [04:24<09:29,  4.18s/it]"
     ]
    },
    {
     "name": "stdout",
     "output_type": "stream",
     "text": [
      "b1486880 :\n",
      "image shape: (604, 604, 64)\n"
     ]
    },
    {
     "name": "stderr",
     "output_type": "stream",
     "text": [
      "\r",
      " 36%|███▋      | 77/212 [04:27<08:18,  3.69s/it]"
     ]
    },
    {
     "name": "stdout",
     "output_type": "stream",
     "text": [
      "1373427 :\n",
      "image shape: (606, 606, 84)\n"
     ]
    },
    {
     "name": "stderr",
     "output_type": "stream",
     "text": [
      "\r",
      " 37%|███▋      | 78/212 [04:30<07:45,  3.47s/it]"
     ]
    },
    {
     "name": "stdout",
     "output_type": "stream",
     "text": [
      "1521755 :\n",
      "image shape: (478, 478, 83)\n"
     ]
    },
    {
     "name": "stderr",
     "output_type": "stream",
     "text": [
      "\r",
      " 37%|███▋      | 79/212 [04:32<06:43,  3.03s/it]"
     ]
    }
   ],
   "source": [
    "import numpy as np\n",
    "from glob import glob\n",
    "from tqdm import tqdm\n",
    "import h5py\n",
    "import nrrd\n",
    "import os\n",
    "import pandas as pd\n",
    "from dataset_split import remove_files\n",
    "import SimpleITK as sitk\n",
    "from skimage import transform\n",
    "from collections import Counter\n",
    "import matplotlib.pyplot as plt\n",
    "from tensorflow.keras.utils import to_categorical\n",
    "\n",
    "output_size =[128, 128, 64]\n",
    "\n",
    "def resample_image3D(\n",
    "    image3D,\n",
    "    newspacing=[0.3,0.3,3],\n",
    "    newsize=None,\n",
    "    method='Linear',):\n",
    "    \"\"\"做插值\"\"\"\n",
    "    resample = sitk.ResampleImageFilter()\n",
    "    if method == 'Linear':\n",
    "        resample.SetInterpolator(sitk.sitkLinear)\n",
    "    elif method == 'Nearest':\n",
    "        resample.SetInterpolator(sitk.sitkNearestNeighbor)\n",
    "    resample.SetOutputDirection(image3D.GetDirection())\n",
    "    resample.SetOutputOrigin(image3D.GetOrigin())\n",
    "    resample.SetOutputSpacing(newspacing)\n",
    "\n",
    "    if not newsize:\n",
    "        newsize = np.round(np.array(image3D.GetSize())*np.abs(image3D.GetSpacing())/np.array(newspacing)).astype('int').tolist()\n",
    "\n",
    "    resample.SetSize(newsize)\n",
    "    # resample.SetDefaultPixelValue(0)\n",
    "\n",
    "    newimage = resample.Execute(image3D)\n",
    "    return newimage\n",
    "\n",
    "def sitk_onehot_transform(image):\n",
    "    image_array = sitk.GetArrayFromImage(image)\n",
    "    label_array_onehot = to_categorical(image_array)\n",
    "    image_onehot = sitk.GetImageFromArray(label_array_onehot)\n",
    "    image_onehot.SetOrigin(image.GetOrigin())\n",
    "    image_onehot.SetDirection(image.GetDirection())\n",
    "    image_onehot.SetSpacing(image.GetSpacing())\n",
    "    return image_onehot\n",
    "\n",
    "# 数组替换元素\n",
    "def array_replace(array,olds,news):\n",
    "    # 不适用于onehot\n",
    "    #olds:list of old value\n",
    "    #news:list of new value\n",
    "    olds = np.array(olds)\n",
    "    news = np.array(news)\n",
    "    offset = olds.max()*10\n",
    "    tmps = olds+offset\n",
    "    array += offset\n",
    "    for tmp,new in zip(tmps,news):\n",
    "        array[array==tmp] = new\n",
    "    return array\n",
    "\n",
    "def covert_h5(glob_str, old_replaced, new_replaced):\n",
    "    \"\"\"\n",
    "    备注：不要骨头，骨头合并到背景类别中\n",
    "    \"\"\"\n",
    "    listt = glob(glob_str)\n",
    "    error_samples = []\n",
    "    error_samples_origin = []\n",
    "    stats = pd.DataFrame(columns=['sample_name',\n",
    "                                  'mean_whole', \n",
    "                                  'mean_bg', \n",
    "                                  'mean_dura', \n",
    "                                  'mean_SC', \n",
    "                                  'std_whole',\n",
    "                                  'std_bg',\n",
    "                                  'std_dura',\n",
    "                                  'std_SC',\n",
    "                                  'old_space0','old_space1','old_space2',\n",
    "                                  'new_space0','new_space1','new_space2',\n",
    "                                 ])\n",
    "    for item in tqdm(listt):\n",
    "        sample_name = item.split('/')[-2]\n",
    "        print(sample_name,':')#win系统改为'\\\\'\n",
    "#         if not sample_name == \"1171704-neck\":#B809338\":#\"\"1352900\":#B809338\":#\"1756747\":#1700637-neck\":\n",
    "#             continue\n",
    "        \n",
    "        # read image\n",
    "        image = sitk.ReadImage(item)\n",
    "        seg = sitk.ReadImage(item.replace(old_replaced, 'Segmentation.seg.nrrd'))\n",
    "        label = sitk.ReadImage(item.replace(old_replaced, 'Segmentation-label.nrrd'))\n",
    "        label_onehot = sitk_onehot_transform(label)\n",
    "        \n",
    "        label_name = [\n",
    "            'bg',\n",
    "            seg.GetMetaData('Segment0_Name'),\n",
    "            seg.GetMetaData('Segment1_Name'),\n",
    "            seg.GetMetaData('Segment2_Name') \n",
    "            ]#人工标注的类别顺序\n",
    "        oldspacing = np.abs(image.GetSpacing())\n",
    "        newspacing = [0.3, 0.3, 3.0]\n",
    "\n",
    "        # resample/rescale( by sitk )\n",
    "        image = resample_image3D(image,newspacing,method='Linear')\n",
    "        label_onehot = resample_image3D(label_onehot,newspacing,method='Nearest')\n",
    "        \n",
    "        # get array\n",
    "        image = sitk.GetArrayFromImage(image).transpose((2,1,0))#tanspose之后才能与sizes匹配\n",
    "        label_onehot = np.round( sitk.GetArrayFromImage(label_onehot) ).transpose((2,1,0,3))#tanspose之后才能与sizes匹配\n",
    "        label = np.argmax(label_onehot,axis=-1)\n",
    "        plot_slice_sample(image,label,np.nonzero(label)[2].max(),item.replace(old_replaced,'slice_sample_origin.png'))\n",
    "        \n",
    "        \n",
    "        if not image.shape == label_onehot.shape[:-1]:\n",
    "            error_samples.append(sample_name)\n",
    "            print(\"error sample(mismatch shape of image and label):\",sample_name)\n",
    "            continue\n",
    "\n",
    "        if not label_onehot.sum(axis=-1).max()==1:\n",
    "            # label onehot encoder可以解决这个问题\n",
    "            error_samples.append(sample_name)\n",
    "            print(\"error sample(some pixels in seg are multi-category at the same time):\",sample_name)\n",
    "            continue\n",
    "        \n",
    "        # 灰度标准化\n",
    "        image = (image - np.mean(image)) / np.std(image)\n",
    "        image = image.astype(np.float32)\n",
    "\n",
    "        \n",
    "        # 错误病例：标记的尺寸和image尺寸不同，缺少其中一个类别或者多个类别的标记\n",
    "        if not label_onehot.shape[-1] == 4:\n",
    "            error_samples.append(sample_name)\n",
    "            print(\"error sample(no dura/bone/SC):\",sample_name)\n",
    "            continue \n",
    "        if not (np.unique(label_onehot) == [0, 1]).all():\n",
    "            error_samples.append(sample_name)\n",
    "            print(\"error sample label file error:\",sample_name)   \n",
    "            continue\n",
    "        \n",
    "        ## 调整类别顺序&合并骨头到背景中，注意：是onehot编码\n",
    "        target_name = ['bg','bone','dura','SC']#目标类别顺序\n",
    "        idx = [label_name.index(name) for name in target_name]\n",
    "        assert len(idx)==4,'one or more classes missed'\n",
    "        label_onehot = label_onehot[:,:,:,idx]\n",
    "\n",
    "        ## bone归入背景类\n",
    "        bg = label_onehot[:,:,:,[0,1]].sum(axis=-1)[:,:,:,np.newaxis]\n",
    "        label_onehot = np.concatenate((bg,label_onehot[:,:,:,2:]),axis=-1)\n",
    "        assert (np.unique(label_onehot) == [0, 1]).all(), \"1: pixel class error\"\n",
    "        ## 转化为非onehot编码以便作图\n",
    "        label = np.argmax(label_onehot, axis=-1)\n",
    "        \n",
    "        # cut( random center cut)\n",
    "        tempL = np.nonzero(label)\n",
    "        minx, maxx = np.min(tempL[0]), np.max(tempL[0])\n",
    "        miny, maxy = np.min(tempL[1]), np.max(tempL[1])\n",
    "        minz, maxz = np.min(tempL[2]), np.max(tempL[2])\n",
    "        w, h, d = label.shape\n",
    "        px = max(output_size[0] - (maxx-minx+1), 0) // 2\n",
    "        py = max(output_size[1] - (maxy-miny+1), 0) // 2\n",
    "        #pz = max(output_size[2] - (maxz-minz+1), 0) // 2\n",
    "        minx = max(minx - np.random.randint(10, 20) - px, 0)\n",
    "        maxx = min(maxx + np.random.randint(10, 20) + px, w-1)\n",
    "        miny = max(miny - np.random.randint(10, 20) - py, 0)\n",
    "        maxy = min(maxy + np.random.randint(10, 20) + py, h-1)\n",
    "        #minz = max(minz - np.random.randint(10, 20) - pz, 0)\n",
    "        #maxz = min(maxz + np.random.randint(10, 20) + pz, d)\n",
    "        image = image[minx:maxx+1, miny:maxy+1, minz:maxz+1]\n",
    "        label = label[minx:maxx+1, miny:maxy+1, minz:maxz+1]\n",
    "        print(\"cut image.shape:\",image.shape, \"cut label.shape:\",label.shape)\n",
    "        plot_slice_sample(image,label,maxz-minz,item.replace(old_replaced,'slice_sample.png'))\n",
    "        \n",
    "        # save files\n",
    "        f = h5py.File(item.replace(old_replaced, new_replaced), 'w')\n",
    "        f.create_dataset('image', data=image, compression=\"gzip\")\n",
    "        f.create_dataset('label', data=label_onehot, compression=\"gzip\")\n",
    "        f.close()\n",
    "    print(\"total number of samples:\", len(listt))\n",
    "    return error_samples, error_samples_origin\n",
    "\n",
    "def plot_slice_sample(image,label,d,fn):\n",
    "    fig = plt.figure()\n",
    "    a = fig.add_subplot(1, 2, 1)\n",
    "    imgplot = plt.imshow(image[:,:,d].squeeze())\n",
    "    a.set_title('image')\n",
    "    plt.colorbar(orientation='horizontal')\n",
    "    a = fig.add_subplot(1, 2, 2)\n",
    "    imgplot = plt.imshow(label[:,:,d].squeeze())\n",
    "    imgplot.set_clim(0.0, 3.0)\n",
    "    a.set_title('label')\n",
    "    plt.colorbar(orientation='horizontal')\n",
    "    plt.savefig(fn)\n",
    "    plt.show()\n",
    "    \n",
    "def covert_h5_unseg(glob_str, old_replaced, new_replaced):\n",
    "    \"\"\"\n",
    "    备注：无标注数据的格式转换\n",
    "    \"\"\"\n",
    "    listt = glob(glob_str)\n",
    "    for item in tqdm(listt):\n",
    "        sample_name = item.split('/')[-2]\n",
    "        print(sample_name,':')#win系统改为'\\\\'\n",
    "        image = sitk.ReadImage(item)\n",
    "        \n",
    "        # resample\n",
    "        newspacing = [0.3, 0.3, 3.0]\n",
    "        image = resample_image3D(image,newspacing,method='Linear')\n",
    "        image = sitk.GetArrayFromImage(image).transpose((2,1,0))#tanspose之后才能与sizes匹配\n",
    "        \n",
    "        # 灰度标准化\n",
    "        image = (image - np.mean(image)) / np.std(image)\n",
    "        image = image.astype(np.float32)\n",
    "        print(\"image shape:\",image.shape)\n",
    "        \n",
    "        f = h5py.File(item.replace(old_replaced, new_replaced), 'w')\n",
    "        f.create_dataset('image', data=image, compression=\"gzip\")\n",
    "        f.close()  \n",
    "    print(\"total number of unseg-samples:\", len(listt))\n",
    "\n",
    "    \n",
    "if __name__ == '__main__':\n",
    "    # 有标签数据\n",
    "#     print('seg dataset:')\n",
    "#     ## 先删除旧文件\n",
    "#     dataset_dir = '../../data/CTM_dataset/Segmented'\n",
    "#     re = os.path.join(dataset_dir,'*/mri_norm2.h5')\n",
    "#     remove_files(re=re)\n",
    "#     ## 再生成新文件\n",
    "#     glob_str = '../../data/CTM_dataset/Segmented/*/CTM.nrrd'\n",
    "#     error_samples,error_samples_origin = covert_h5(glob_str,'CTM.nrrd','mri_norm2.h5')\n",
    "    \n",
    "    # 无标签数据\n",
    "    print('unseg dataset:')\n",
    "    ## 先删除旧文件\n",
    "    dataset_dir = '../../data/CTM_dataset/unSegmented'\n",
    "    re = os.path.join(dataset_dir,'*/mri_norm2.h5')\n",
    "    remove_files(re=re)\n",
    "    ## 再生成新文件\n",
    "    glob_str = '../../data/CTM_dataset/unSegmented/*/CTM.nrrd'\n",
    "    covert_h5_unseg(glob_str,'CTM.nrrd','mri_norm2.h5')\n",
    "    glob_str = '../../data/CTM_dataset/unSegmented/*/CT-vol.nrrd'\n",
    "    covert_h5_unseg(glob_str,'CT-vol.nrrd','mri_norm2.h5')      \n"
   ]
  },
  {
   "cell_type": "markdown",
   "metadata": {},
   "source": [
    "# 数据集划分&生成*.list文件"
   ]
  },
  {
   "cell_type": "code",
   "execution_count": 6,
   "metadata": {},
   "outputs": [],
   "source": [
    "from dataset_split import dataset_split, make_dataset_list\n",
    "# 有标签数据(划分为两个数据集并生成列表)\n",
    "save_dir = '../../data/CTM_dataset'\n",
    "dataset_dir = '../../data/CTM_dataset/Segmented'\n",
    "list_train_validatioin,list_test = dataset_split(path=dataset_dir,save_dir=save_dir)\n",
    "# 无标签数据(不需要划分,直接生存列表即可)\n",
    "dataset_dir = '../../data/CTM_dataset/unSegmented'\n",
    "make_dataset_list(path=dataset_dir,save_dir=save_dir)"
   ]
  },
  {
   "cell_type": "code",
   "execution_count": 3,
   "metadata": {},
   "outputs": [
    {
     "data": {
      "text/plain": [
       "['B1709234', '1409022-no SC', 'B1409022', 'B1334915-need revision', '1709234']"
      ]
     },
     "execution_count": 3,
     "metadata": {},
     "output_type": "execute_result"
    }
   ],
   "source": [
    "error_samples"
   ]
  },
  {
   "cell_type": "code",
   "execution_count": null,
   "metadata": {},
   "outputs": [],
   "source": []
  }
 ],
 "metadata": {
  "kernelspec": {
   "display_name": "Python 3",
   "language": "python",
   "name": "python3"
  },
  "language_info": {
   "codemirror_mode": {
    "name": "ipython",
    "version": 3
   },
   "file_extension": ".py",
   "mimetype": "text/x-python",
   "name": "python",
   "nbconvert_exporter": "python",
   "pygments_lexer": "ipython3",
   "version": "3.6.4"
  }
 },
 "nbformat": 4,
 "nbformat_minor": 2
}
