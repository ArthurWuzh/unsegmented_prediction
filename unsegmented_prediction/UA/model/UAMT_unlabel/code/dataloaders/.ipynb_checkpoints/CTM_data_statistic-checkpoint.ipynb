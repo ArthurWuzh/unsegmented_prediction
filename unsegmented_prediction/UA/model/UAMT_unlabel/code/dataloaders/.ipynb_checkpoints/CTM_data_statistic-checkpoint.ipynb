{
 "cells": [
  {
   "cell_type": "code",
   "execution_count": null,
   "metadata": {},
   "outputs": [
    {
     "name": "stderr",
     "output_type": "stream",
     "text": [
      "\r",
      "  0%|          | 0/181 [00:00<?, ?it/s]"
     ]
    },
    {
     "name": "stdout",
     "output_type": "stream",
     "text": [
      "seg dataset:\n",
      "845929 :\n",
      "> <ipython-input-1-bcc3d39615b1>(56)get_stats()\n",
      "-> space = np.diagonal(label_header['space directions'])\n",
      "(Pdb) c\n",
      "[0, 126, 0]\n"
     ]
    },
    {
     "name": "stderr",
     "output_type": "stream",
     "text": [
      "\r",
      "  1%|          | 1/181 [00:04<14:41,  4.90s/it]"
     ]
    },
    {
     "name": "stdout",
     "output_type": "stream",
     "text": [
      "1559027 :\n",
      "> <ipython-input-1-bcc3d39615b1>(52)get_stats()\n",
      "-> pdb.set_trace()\n",
      "(Pdb) c\n",
      "[0, 32, 0]\n"
     ]
    },
    {
     "name": "stderr",
     "output_type": "stream",
     "text": [
      "\r",
      "  1%|          | 2/181 [00:08<13:09,  4.41s/it]"
     ]
    },
    {
     "name": "stdout",
     "output_type": "stream",
     "text": [
      "1433611 :\n",
      "> <ipython-input-1-bcc3d39615b1>(56)get_stats()\n",
      "-> space = np.diagonal(label_header['space directions'])\n",
      "(Pdb) c\n",
      "[0, 127, 0]\n"
     ]
    },
    {
     "name": "stderr",
     "output_type": "stream",
     "text": [
      "\r",
      "  2%|▏         | 3/181 [00:10<11:11,  3.77s/it]"
     ]
    },
    {
     "name": "stdout",
     "output_type": "stream",
     "text": [
      "B1027338 :\n",
      "> <ipython-input-1-bcc3d39615b1>(52)get_stats()\n",
      "-> pdb.set_trace()\n",
      "(Pdb) c\n",
      "[0, 15, 0]\n"
     ]
    },
    {
     "name": "stderr",
     "output_type": "stream",
     "text": [
      "\r",
      "  2%|▏         | 4/181 [00:14<11:17,  3.82s/it]"
     ]
    },
    {
     "name": "stdout",
     "output_type": "stream",
     "text": [
      "936932-dingzi :\n",
      "> <ipython-input-1-bcc3d39615b1>(56)get_stats()\n",
      "-> space = np.diagonal(label_header['space directions'])\n"
     ]
    }
   ],
   "source": [
    "import numpy as np\n",
    "from glob import glob\n",
    "from tqdm import tqdm\n",
    "import h5py\n",
    "import nrrd\n",
    "import pandas as pd\n",
    "\n",
    "output_size =[128, 128, 64]\n",
    "\n",
    "# 数组替换元素\n",
    "def array_replace(array,olds,news):\n",
    "    #olds:list of old value\n",
    "    #news:list of new value\n",
    "    olds = np.array(olds)\n",
    "    news = np.array(news)\n",
    "    offset = olds.max()*10\n",
    "    tmps = olds+offset\n",
    "    for old,tmp in zip(olds,tmps):\n",
    "        array[array==old] = tmp\n",
    "    for tmp,new in zip(tmps,news):\n",
    "        array[array==tmp] = new\n",
    "    return array\n",
    "    \n",
    "    \n",
    "def get_stats(glob_str, old_replaced, new_replaced):\n",
    "    \"\"\"\n",
    "    获取数据集的统计信息。\n",
    "    备注：不要骨头，骨头合并到背景类别中\n",
    "    \"\"\"\n",
    "    listt = glob(glob_str)\n",
    "    error_samples = []\n",
    "    stats = pd.DataFrame(columns=['sample_name',\n",
    "                                  'space0','space1','space2',\n",
    "                                  'mean_whole', \n",
    "                                  'mean_bg', \n",
    "                                  'mean_dura', \n",
    "                                  'mean_SC', \n",
    "                                  'std_whole',\n",
    "                                  'std_bg',\n",
    "                                  'std_dura',\n",
    "                                  'std_SC',\n",
    "                                 ])\n",
    "    for item in tqdm(listt):\n",
    "        sample_name = item.split('/')[-2]\n",
    "        print(sample_name,':')#win系统改为'\\\\'\n",
    "        \n",
    "        image, img_header = nrrd.read(item)\n",
    "        label, label_header = nrrd.read(item.replace(old_replaced, 'Segmentation-label.nrrd'))\n",
    "        seg, seg_header = nrrd.read(item.replace(old_replaced, 'Segmentation.seg.nrrd'))\n",
    "        \n",
    "        space = np.diagonal(label_header['space directions'])\n",
    "        \n",
    "        offset=[]\n",
    "        for k in seg_header['Segmentation_ReferenceImageExtentOffset'].split():\n",
    "            offset += [int(k)]\n",
    "        \n",
    "        print(offset)\n",
    "        \n",
    "        sizes = seg_header['sizes'][1::]\n",
    "        image = image[offset[0]:offset[0]+sizes[0],\n",
    "                      offset[1]:offset[1]+sizes[1],\n",
    "                      offset[2]:offset[2]+sizes[2]]\n",
    "        label = label[offset[0]:offset[0]+sizes[0],\n",
    "                      offset[1]:offset[1]+sizes[1],\n",
    "                      offset[2]:offset[2]+sizes[2]].astype(np.uint8)\n",
    "        \n",
    "        # 错误病例：标记的尺寸和image尺寸不同，缺少其中一个类别或者多个类别的标记\n",
    "        if not np.unique(label).tolist()==[0,1,2,3]:\n",
    "            error_samples.append(sample_name)\n",
    "            print(\"error sample(no dura/SC):\",sample_name)\n",
    "            continue\n",
    "        \n",
    "        if not image.shape==seg.shape[1::]:\n",
    "            error_samples.append(sample_name)\n",
    "            print(\"error sample(shape mismatch):\",sample_name)\n",
    "            continue\n",
    "            \n",
    "        # 类别名称和顺序\n",
    "        target_name = ['dura','bone','SC']#目标类别顺序\n",
    "        label_name = [\n",
    "            seg_header['Segment0_Name'],\n",
    "            seg_header['Segment1_Name'],\n",
    "            seg_header['Segment2_Name'] \n",
    "            ]#人工标注的类别顺序\n",
    "        ## 调整顺序，注意：seg是onehot编码\n",
    "        idx = [label_name.index(name) for name in target_name]\n",
    "        idx = np.array(idx)+1\n",
    "        idx = [0]+idx.tolist()\n",
    "        label = array_replace(label,olds=[0,1,2,3],news=idx)\n",
    "        \n",
    "        # 合并骨头到背景中\n",
    "        label[label==2] = 0\n",
    "        label[label==3] = 2\n",
    "        \n",
    "        # 统计信息\n",
    "        \n",
    "        # std\n",
    "        std_whole = np.std(image)\n",
    "        std_bg = np.std(image[label==0])\n",
    "        std_dura = np.std(image[label==1])\n",
    "        std_SC = np.std(image[label==2])\n",
    "        # mean\n",
    "        mean_whole = np.mean(image)\n",
    "        mean_bg = np.mean(image[label==0])\n",
    "        mean_dura = np.mean(image[label==1])\n",
    "        mean_SC = np.mean(image[label==2])\n",
    "        \n",
    "        stats.loc[sample_name]=[sample_name,\n",
    "                                space[0],space[1],space[2],\n",
    "                                mean_whole,mean_bg,mean_dura,mean_SC,\n",
    "                                std_whole,std_bg,std_dura,std_SC,]   \n",
    "        \n",
    "    return error_samples,stats\n",
    "\n",
    "def covert_h5_unseg(glob_str, old_replaced, new_replaced):\n",
    "    \"\"\"\n",
    "    备注：无标注数据的格式转换\n",
    "    \"\"\"\n",
    "    listt = glob(glob_str)\n",
    "    for item in tqdm(listt):\n",
    "        print(item.split('/')[-2],':')\n",
    "        # 读取原始图\n",
    "        image, img_header = nrrd.read(item) \n",
    "        \n",
    "#         # 缩小图像\n",
    "#         image = image[0:-1:2,0:-1:2,:]\n",
    "\n",
    "#         # 标准化\n",
    "#         image = (image - np.mean(image)) / np.std(image)\n",
    "#         image = image.astype(np.float32)\n",
    "#         print(image.shape)\n",
    "        \n",
    "        f = h5py.File(item.replace(old_replaced, new_replaced), 'w')\n",
    "        f.create_dataset('image', data=image, compression=\"gzip\")\n",
    "        f.close()  \n",
    "    print(\"total number of unseg-samples:\", len(listt))\n",
    "\n",
    "    \n",
    "if __name__ == '__main__':\n",
    "    # 有标签数据\n",
    "    print('seg dataset:')\n",
    "    glob_str = '../../data/CTM_dataset/Segmented/*/CTM.nrrd'\n",
    "    error_samples,stats = get_stats(glob_str,'CTM.nrrd','mri_norm2.h5')\n",
    "    display(stats)\n",
    "    stats.to_csv('../../data/CTM_dataset/Segmented/stats.csv')\n",
    "#     # 无标签数据\n",
    "#     print('unseg dataset:')\n",
    "#     glob_str = '../../data/CTM_dataset/unSegmented/*/CTM.nrrd'\n",
    "#     covert_h5_unseg(glob_str,'CTM.nrrd','mri_norm2.h5')\n",
    "#     glob_str = '../../data/CTM_dataset/unSegmented/*/CT-vol.nrrd'\n",
    "#     covert_h5_unseg(glob_str,'CT-vol.nrrd','mri_norm2.h5')      \n",
    "#     error_samples\n"
   ]
  },
  {
   "cell_type": "code",
   "execution_count": null,
   "metadata": {},
   "outputs": [],
   "source": [
    "import SimpleITK\n",
    "dir(SimpleITK)\n",
    "asd = SimpleITK.ReadImage('../../data/CTM_dataset/Segmented/845929/CTM.nrrd')\n",
    "# dir(asd)\n",
    "asd.GetSpacing()"
   ]
  },
  {
   "cell_type": "code",
   "execution_count": null,
   "metadata": {},
   "outputs": [],
   "source": [
    "# nrrd.read(item.replace(old_replaced, 'Segmentation-label.nrrd'))\n",
    "label = SimpleITK.ReadImage('../../data/CTM_dataset/Segmented/845929/Segmentation-label.nrrd')\n",
    "label.GetSpacing()\n",
    "dir(label)"
   ]
  },
  {
   "cell_type": "code",
   "execution_count": null,
   "metadata": {},
   "outputs": [],
   "source": [
    "seg = SimpleITK.ReadImage('../../data/CTM_dataset/Segmented/845929/Segmentation.seg.nrrd')\n",
    "seg.GetSpacing()\n",
    "dir(seg)\n",
    "seg.GetMetaDataKeys()"
   ]
  },
  {
   "cell_type": "code",
   "execution_count": null,
   "metadata": {},
   "outputs": [],
   "source": [
    "stats['std_SC']/stats['std_whole'].mean()"
   ]
  },
  {
   "cell_type": "code",
   "execution_count": null,
   "metadata": {},
   "outputs": [],
   "source": []
  }
 ],
 "metadata": {
  "kernelspec": {
   "display_name": "Python 3",
   "language": "python",
   "name": "python3"
  },
  "language_info": {
   "codemirror_mode": {
    "name": "ipython",
    "version": 3
   },
   "file_extension": ".py",
   "mimetype": "text/x-python",
   "name": "python",
   "nbconvert_exporter": "python",
   "pygments_lexer": "ipython3",
   "version": "3.6.8"
  }
 },
 "nbformat": 4,
 "nbformat_minor": 2
}
